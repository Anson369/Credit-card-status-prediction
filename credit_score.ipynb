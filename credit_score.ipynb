{
 "cells": [
  {
   "cell_type": "code",
   "execution_count": 499,
   "id": "65f7841e",
   "metadata": {},
   "outputs": [],
   "source": [
    "import pandas as pd\n",
    "import numpy as np\n",
    "import re\n",
    "import matplotlib.pyplot as plt\n",
    "import seaborn as sns\n",
    "from sklearn.preprocessing import MinMaxScaler\n",
    "from sklearn.preprocessing import LabelEncoder,OrdinalEncoder,OneHotEncoder\n",
    "from sklearn.model_selection import train_test_split\n",
    "from sklearn.neighbors import KNeighborsClassifier\n",
    "from sklearn.svm import SVC\n",
    "from sklearn.naive_bayes import MultinomialNB\n",
    "from sklearn.tree import DecisionTreeClassifier\n",
    "from sklearn.ensemble import RandomForestClassifier,GradientBoostingClassifier,AdaBoostClassifier\n",
    "from xgboost import XGBClassifier\n",
    "from sklearn.metrics import accuracy_score,classification_report, roc_curve, auc\n",
    "from sklearn.model_selection import GridSearchCV\n",
    "from sklearn.feature_selection import RFE\n",
    "import pickle"
   ]
  },
  {
   "cell_type": "code",
   "execution_count": 500,
   "id": "3aa590ac",
   "metadata": {},
   "outputs": [],
   "source": [
    "df=pd.read_csv('test.csv')"
   ]
  },
  {
   "cell_type": "code",
   "execution_count": 501,
   "id": "4db63f77",
   "metadata": {},
   "outputs": [
    {
     "data": {
      "text/plain": [
       "(50000, 27)"
      ]
     },
     "execution_count": 501,
     "metadata": {},
     "output_type": "execute_result"
    }
   ],
   "source": [
    "df.shape"
   ]
  },
  {
   "cell_type": "code",
   "execution_count": 502,
   "id": "c02fc608",
   "metadata": {},
   "outputs": [
    {
     "data": {
      "text/plain": [
       "ID                             0\n",
       "Customer_ID                    0\n",
       "Month                          0\n",
       "Name                        5015\n",
       "Age                            0\n",
       "SSN                            0\n",
       "Occupation                     0\n",
       "Annual_Income                  0\n",
       "Monthly_Inhand_Salary       7498\n",
       "Num_Bank_Accounts              0\n",
       "Num_Credit_Card                0\n",
       "Interest_Rate                  0\n",
       "Num_of_Loan                    0\n",
       "Type_of_Loan                5704\n",
       "Delay_from_due_date            0\n",
       "Num_of_Delayed_Payment      3498\n",
       "Changed_Credit_Limit           0\n",
       "Num_Credit_Inquiries        1035\n",
       "Credit_Mix                     0\n",
       "Outstanding_Debt               0\n",
       "Credit_Utilization_Ratio       0\n",
       "Credit_History_Age          4470\n",
       "Payment_of_Min_Amount          0\n",
       "Total_EMI_per_month            0\n",
       "Amount_invested_monthly     2271\n",
       "Payment_Behaviour              0\n",
       "Monthly_Balance              562\n",
       "dtype: int64"
      ]
     },
     "execution_count": 502,
     "metadata": {},
     "output_type": "execute_result"
    }
   ],
   "source": [
    "df.isna().sum()"
   ]
  },
  {
   "cell_type": "code",
   "execution_count": 503,
   "id": "289d0cc7",
   "metadata": {},
   "outputs": [],
   "source": [
    "df.dropna(inplace=True)"
   ]
  },
  {
   "cell_type": "code",
   "execution_count": 504,
   "id": "31dad25a",
   "metadata": {},
   "outputs": [
    {
     "data": {
      "text/plain": [
       "Credit_Mix\n",
       "Standard    9757\n",
       "Good        5802\n",
       "Bad         5654\n",
       "_           5246\n",
       "Name: count, dtype: int64"
      ]
     },
     "execution_count": 504,
     "metadata": {},
     "output_type": "execute_result"
    }
   ],
   "source": [
    "df['Credit_Mix'].value_counts()"
   ]
  },
  {
   "cell_type": "code",
   "execution_count": 505,
   "id": "fc16dd3e",
   "metadata": {},
   "outputs": [],
   "source": [
    "df.drop(columns=['ID','Customer_ID','Name','SSN','Type_of_Loan'],inplace=True) # removing useless columns"
   ]
  },
  {
   "cell_type": "code",
   "execution_count": 506,
   "id": "145bb4fd",
   "metadata": {},
   "outputs": [],
   "source": [
    "df['Age']=df['Age'].str.strip('_') # stripping '-' character"
   ]
  },
  {
   "cell_type": "code",
   "execution_count": 507,
   "id": "6f8c1177",
   "metadata": {},
   "outputs": [],
   "source": [
    "df['Age']=df['Age'].astype(float) # converting data type float"
   ]
  },
  {
   "cell_type": "code",
   "execution_count": 508,
   "id": "697e6781",
   "metadata": {},
   "outputs": [],
   "source": [
    "df=df[df['Occupation']!='_______'] # removing the values '_______' from the occupation column"
   ]
  },
  {
   "cell_type": "code",
   "execution_count": 509,
   "id": "df4681f2",
   "metadata": {},
   "outputs": [],
   "source": [
    "df['Annual_Income']=df['Annual_Income'].str.strip('_') # stripping '-' character"
   ]
  },
  {
   "cell_type": "code",
   "execution_count": 510,
   "id": "d127c05b",
   "metadata": {},
   "outputs": [],
   "source": [
    "df['Annual_Income']=df['Annual_Income'].astype(float) # converting datatype"
   ]
  },
  {
   "cell_type": "code",
   "execution_count": 511,
   "id": "5c598048",
   "metadata": {},
   "outputs": [],
   "source": [
    "df['Monthly_Inhand_Salary']=df['Monthly_Inhand_Salary'].astype(float) # converting datatype"
   ]
  },
  {
   "cell_type": "code",
   "execution_count": 512,
   "id": "929934b2",
   "metadata": {},
   "outputs": [],
   "source": [
    "df['Num_of_Loan']=df['Num_of_Loan'].str.strip('_') # stripping '-' character"
   ]
  },
  {
   "cell_type": "code",
   "execution_count": 513,
   "id": "2a4cb74f",
   "metadata": {},
   "outputs": [],
   "source": [
    "df['Num_of_Loan']=df['Num_of_Loan'].astype(float) # converting datatype"
   ]
  },
  {
   "cell_type": "code",
   "execution_count": 514,
   "id": "3cdb6aa8",
   "metadata": {},
   "outputs": [],
   "source": [
    "df['Num_of_Delayed_Payment']=df['Num_of_Delayed_Payment'].str.strip('_') # stripping '-' character"
   ]
  },
  {
   "cell_type": "code",
   "execution_count": 515,
   "id": "6a98a838",
   "metadata": {},
   "outputs": [],
   "source": [
    "df['Num_of_Delayed_Payment']=df['Num_of_Delayed_Payment'].astype(float) # converting datatype"
   ]
  },
  {
   "cell_type": "code",
   "execution_count": 516,
   "id": "f8d366dc",
   "metadata": {},
   "outputs": [],
   "source": [
    "df['Changed_Credit_Limit']=df['Changed_Credit_Limit'].str.strip('_') # stripping '-' character"
   ]
  },
  {
   "cell_type": "code",
   "execution_count": 517,
   "id": "7c7a82cd",
   "metadata": {},
   "outputs": [],
   "source": [
    "df=df[df['Changed_Credit_Limit']!=''] # removing blank space from the column "
   ]
  },
  {
   "cell_type": "code",
   "execution_count": 518,
   "id": "08cedf7b",
   "metadata": {},
   "outputs": [],
   "source": [
    "df['Changed_Credit_Limit']=df['Changed_Credit_Limit'].astype(float) # converting datatype"
   ]
  },
  {
   "cell_type": "code",
   "execution_count": 519,
   "id": "44ebed87",
   "metadata": {},
   "outputs": [],
   "source": [
    "df=df[df['Credit_Mix']!='_'] # removing '-' character from the columns"
   ]
  },
  {
   "cell_type": "code",
   "execution_count": 520,
   "id": "927a7fc3",
   "metadata": {},
   "outputs": [],
   "source": [
    "df['Outstanding_Debt']=df['Outstanding_Debt'].str.strip('_') # stripping '-' character"
   ]
  },
  {
   "cell_type": "code",
   "execution_count": 521,
   "id": "4f116b47",
   "metadata": {},
   "outputs": [],
   "source": [
    "df['Outstanding_Debt']=df['Outstanding_Debt'].astype(float) # converting datatype"
   ]
  },
  {
   "cell_type": "code",
   "execution_count": 522,
   "id": "4fe5f3e1",
   "metadata": {},
   "outputs": [],
   "source": [
    "df=df[df['Payment_of_Min_Amount']!='NM'] # removing irrelavant character from the columns since it is a boolean column"
   ]
  },
  {
   "cell_type": "code",
   "execution_count": 523,
   "id": "55dfc651",
   "metadata": {},
   "outputs": [],
   "source": [
    "df['Amount_invested_monthly']=df['Amount_invested_monthly'].str.strip('_') # stripping '-' character"
   ]
  },
  {
   "cell_type": "code",
   "execution_count": 524,
   "id": "cb3fadba",
   "metadata": {},
   "outputs": [],
   "source": [
    "df['Amount_invested_monthly']=df['Amount_invested_monthly'].astype(float) # converting datatype"
   ]
  },
  {
   "cell_type": "code",
   "execution_count": 525,
   "id": "281d962e",
   "metadata": {},
   "outputs": [],
   "source": [
    "df['Monthly_Balance']=df['Monthly_Balance'].str.strip('_') # stripping '-' character"
   ]
  },
  {
   "cell_type": "code",
   "execution_count": 526,
   "id": "e5afe6c4",
   "metadata": {},
   "outputs": [],
   "source": [
    "df['Monthly_Balance']=df['Monthly_Balance'].astype(float) # converting datatype"
   ]
  },
  {
   "cell_type": "markdown",
   "id": "88b7e081",
   "metadata": {},
   "source": [
    "IQR Method"
   ]
  },
  {
   "cell_type": "code",
   "execution_count": 527,
   "id": "b409eba7",
   "metadata": {},
   "outputs": [
    {
     "data": {
      "text/plain": [
       "{'Age': (np.float64(-0.5), np.float64(67.5)),\n",
       " 'Annual_Income': (np.float64(-57754.87750000001), np.float64(146458.9425)),\n",
       " 'Monthly_Inhand_Salary': (np.float64(-4620.501249999998),\n",
       "  np.float64(11893.535416666664)),\n",
       " 'Num_Bank_Accounts': (np.float64(-2.0), np.float64(14.0)),\n",
       " 'Num_Credit_Card': (np.float64(-0.5), np.float64(11.5)),\n",
       " 'Interest_Rate': (np.float64(-13.0), np.float64(43.0)),\n",
       " 'Num_of_Loan': (np.float64(-4.0), np.float64(12.0)),\n",
       " 'Delay_from_due_date': (np.float64(-16.0), np.float64(56.0)),\n",
       " 'Num_of_Delayed_Payment': (np.float64(-6.0), np.float64(34.0)),\n",
       " 'Changed_Credit_Limit': (np.float64(-9.28), np.float64(30.08)),\n",
       " 'Num_Credit_Inquiries': (np.float64(-4.0), np.float64(20.0)),\n",
       " 'Outstanding_Debt': (np.float64(-1669.1175000000003), np.float64(4394.5825)),\n",
       " 'Credit_Utilization_Ratio': (np.float64(15.468079372165995),\n",
       "  np.float64(48.89557197052333)),\n",
       " 'Total_EMI_per_month': (np.float64(-165.3502450625721),\n",
       "  np.float64(390.0444805438806)),\n",
       " 'Amount_invested_monthly': (np.float64(-195.30909617410663),\n",
       "  np.float64(519.0702268303742)),\n",
       " 'Monthly_Balance': (np.float64(-10.37429172867212),\n",
       "  np.float64(722.6708587408675))}"
      ]
     },
     "execution_count": 527,
     "metadata": {},
     "output_type": "execute_result"
    }
   ],
   "source": [
    "iqr_dict={}\n",
    "for i in df:\n",
    "  if df[i].dtype in [int,float]:\n",
    "    q1=df[i].quantile(0.25)\n",
    "    q3=df[i].quantile(0.75)\n",
    "    iqr=q3-q1\n",
    "    min_range=q1-(1.5*iqr)\n",
    "    max_range=q3+(1.5*iqr)\n",
    "    iqr_dict[i]=(min_range,max_range)\n",
    "iqr_dict"
   ]
  },
  {
   "cell_type": "code",
   "execution_count": 528,
   "id": "cbe9bcee",
   "metadata": {},
   "outputs": [
    {
     "data": {
      "text/plain": [
       "(16975, 22)"
      ]
     },
     "execution_count": 528,
     "metadata": {},
     "output_type": "execute_result"
    }
   ],
   "source": [
    "df.shape"
   ]
  },
  {
   "cell_type": "code",
   "execution_count": 529,
   "id": "b33b7883",
   "metadata": {},
   "outputs": [
    {
     "data": {
      "text/plain": [
       "np.float64(95.0)"
      ]
     },
     "execution_count": 529,
     "metadata": {},
     "output_type": "execute_result"
    }
   ],
   "source": [
    "df[df['Age']<100]['Age'].max()"
   ]
  },
  {
   "cell_type": "code",
   "execution_count": 530,
   "id": "0da77386",
   "metadata": {},
   "outputs": [],
   "source": [
    "df=df[(df['Age']>0) & (df['Age']<100)] # there are ages which are negative and greater than 100 "
   ]
  },
  {
   "cell_type": "code",
   "execution_count": 531,
   "id": "a3ee8755",
   "metadata": {},
   "outputs": [
    {
     "data": {
      "text/plain": [
       "(16460, 22)"
      ]
     },
     "execution_count": 531,
     "metadata": {},
     "output_type": "execute_result"
    }
   ],
   "source": [
    "df.shape"
   ]
  },
  {
   "cell_type": "code",
   "execution_count": 532,
   "id": "6e9e4db1",
   "metadata": {},
   "outputs": [],
   "source": [
    "df=df[(df['Num_Bank_Accounts']>0) & (df['Num_Bank_Accounts']<11)] # filtering out the relevant values "
   ]
  },
  {
   "cell_type": "code",
   "execution_count": 533,
   "id": "cf1fd2ee",
   "metadata": {},
   "outputs": [],
   "source": [
    "df=df[(df['Num_Credit_Card']>0) & (df['Num_Credit_Card']<11)] # filtering out the relevant values"
   ]
  },
  {
   "cell_type": "code",
   "execution_count": 534,
   "id": "769413b2",
   "metadata": {},
   "outputs": [],
   "source": [
    "df=df[(df['Interest_Rate']>0) & (df['Interest_Rate']<=iqr_dict['Interest_Rate'][1])] # filtering out the relevant values using iqr method"
   ]
  },
  {
   "cell_type": "code",
   "execution_count": 535,
   "id": "d15626a9",
   "metadata": {},
   "outputs": [],
   "source": [
    "df=df[(df['Num_of_Loan']>0) & (df['Num_of_Loan']<=12)] # filtering out the relevant values"
   ]
  },
  {
   "cell_type": "code",
   "execution_count": 536,
   "id": "78baa842",
   "metadata": {},
   "outputs": [],
   "source": [
    "df=df[df['Delay_from_due_date']>0] # filtering out the relevant values"
   ]
  },
  {
   "cell_type": "code",
   "execution_count": 537,
   "id": "6899b4a0",
   "metadata": {},
   "outputs": [],
   "source": [
    "df=df[(df['Num_of_Delayed_Payment']>=0) & (df['Num_of_Delayed_Payment']<=34)] # filtering out the relevant values"
   ]
  },
  {
   "cell_type": "code",
   "execution_count": 538,
   "id": "1e397ad0",
   "metadata": {},
   "outputs": [],
   "source": [
    "df=df[(df['Num_Credit_Inquiries']>0) & (df['Num_Credit_Inquiries']<=20)] # filtering out the relevant values"
   ]
  },
  {
   "cell_type": "code",
   "execution_count": 539,
   "id": "66de33d2",
   "metadata": {},
   "outputs": [],
   "source": [
    "# df['Outstanding_Debt'] is in US dollars\n",
    "df=df[df['Outstanding_Debt']>12] # filtering out the relevant values"
   ]
  },
  {
   "cell_type": "code",
   "execution_count": 540,
   "id": "a53881f6",
   "metadata": {},
   "outputs": [
    {
     "data": {
      "text/plain": [
       "array(['22 Years and 10 Months', '27 Years and 4 Months',\n",
       "       '18 Years and 6 Months', '17 Years and 11 Months',\n",
       "       '18 Years and 1 Months', '18 Years and 2 Months',\n",
       "       '27 Years and 1 Months', '27 Years and 2 Months',\n",
       "       '19 Years and 10 Months', '27 Years and 6 Months',\n",
       "       '27 Years and 7 Months', '18 Years and 11 Months',\n",
       "       '19 Years and 1 Months', '18 Years and 10 Months',\n",
       "       '19 Years and 0 Months', '10 Years and 9 Months',\n",
       "       '10 Years and 10 Months', '11 Years and 0 Months',\n",
       "       '12 Years and 11 Months', '18 Years and 8 Months',\n",
       "       '18 Years and 9 Months', '14 Years and 4 Months',\n",
       "       '14 Years and 6 Months', '14 Years and 7 Months',\n",
       "       '20 Years and 0 Months', '20 Years and 1 Months',\n",
       "       '30 Years and 11 Months', '31 Years and 2 Months',\n",
       "       '19 Years and 7 Months', '9 Years and 4 Months',\n",
       "       '9 Years and 5 Months', '13 Years and 9 Months',\n",
       "       '13 Years and 11 Months', '22 Years and 2 Months',\n",
       "       '28 Years and 10 Months', '8 Years and 7 Months',\n",
       "       '8 Years and 8 Months', '24 Years and 11 Months',\n",
       "       '25 Years and 0 Months', '25 Years and 1 Months',\n",
       "       '25 Years and 2 Months', '2 Years and 0 Months',\n",
       "       '2 Years and 1 Months', '11 Years and 7 Months',\n",
       "       '11 Years and 8 Months', '11 Years and 10 Months',\n",
       "       '31 Years and 5 Months', '31 Years and 6 Months',\n",
       "       '11 Years and 1 Months', '11 Years and 3 Months',\n",
       "       '1 Years and 1 Months', '32 Years and 5 Months',\n",
       "       '32 Years and 6 Months', '17 Years and 6 Months',\n",
       "       '17 Years and 7 Months', '17 Years and 9 Months',\n",
       "       '13 Years and 2 Months', '13 Years and 3 Months',\n",
       "       '13 Years and 4 Months', '13 Years and 6 Months',\n",
       "       '12 Years and 3 Months', '25 Years and 4 Months',\n",
       "       '25 Years and 5 Months', '31 Years and 9 Months',\n",
       "       '32 Years and 0 Months', '14 Years and 0 Months',\n",
       "       '3 Years and 9 Months', '17 Years and 1 Months',\n",
       "       '17 Years and 2 Months', '17 Years and 3 Months',\n",
       "       '9 Years and 3 Months', '5 Years and 1 Months',\n",
       "       '5 Years and 4 Months', '13 Years and 0 Months',\n",
       "       '13 Years and 7 Months', '13 Years and 8 Months',\n",
       "       '26 Years and 5 Months', '33 Years and 9 Months',\n",
       "       '18 Years and 5 Months', '8 Years and 2 Months',\n",
       "       '29 Years and 0 Months', '29 Years and 2 Months',\n",
       "       '29 Years and 11 Months', '31 Years and 0 Months',\n",
       "       '31 Years and 1 Months', '14 Years and 1 Months',\n",
       "       '2 Years and 2 Months', '2 Years and 3 Months',\n",
       "       '33 Years and 11 Months', '26 Years and 8 Months',\n",
       "       '29 Years and 6 Months', '29 Years and 7 Months',\n",
       "       '5 Years and 5 Months', '5 Years and 6 Months',\n",
       "       '32 Years and 3 Months', '9 Years and 7 Months',\n",
       "       '6 Years and 7 Months', '22 Years and 5 Months',\n",
       "       '22 Years and 4 Months', '12 Years and 10 Months',\n",
       "       '20 Years and 11 Months', '21 Years and 0 Months',\n",
       "       '21 Years and 2 Months', '13 Years and 1 Months',\n",
       "       '3 Years and 0 Months', '16 Years and 2 Months',\n",
       "       '31 Years and 7 Months', '27 Years and 9 Months',\n",
       "       '28 Years and 7 Months', '17 Years and 10 Months',\n",
       "       '19 Years and 2 Months', '8 Years and 10 Months',\n",
       "       '17 Years and 5 Months', '27 Years and 5 Months',\n",
       "       '12 Years and 6 Months', '12 Years and 8 Months',\n",
       "       '29 Years and 8 Months', '32 Years and 2 Months',\n",
       "       '22 Years and 0 Months', '23 Years and 5 Months',\n",
       "       '23 Years and 8 Months', '14 Years and 2 Months',\n",
       "       '15 Years and 2 Months', '15 Years and 4 Months',\n",
       "       '23 Years and 11 Months', '24 Years and 0 Months',\n",
       "       '19 Years and 9 Months', '8 Years and 11 Months',\n",
       "       '9 Years and 0 Months', '9 Years and 9 Months',\n",
       "       '9 Years and 10 Months', '6 Years and 5 Months',\n",
       "       '6 Years and 0 Months', '6 Years and 1 Months',\n",
       "       '6 Years and 3 Months', '25 Years and 9 Months',\n",
       "       '20 Years and 2 Months', '20 Years and 3 Months',\n",
       "       '16 Years and 0 Months', '16 Years and 1 Months',\n",
       "       '19 Years and 3 Months', '19 Years and 4 Months',\n",
       "       '28 Years and 6 Months', '32 Years and 10 Months',\n",
       "       '7 Years and 8 Months', '7 Years and 9 Months',\n",
       "       '16 Years and 3 Months', '26 Years and 7 Months',\n",
       "       '26 Years and 10 Months', '21 Years and 11 Months',\n",
       "       '15 Years and 6 Months', '15 Years and 7 Months',\n",
       "       '15 Years and 8 Months', '15 Years and 9 Months',\n",
       "       '16 Years and 9 Months', '17 Years and 0 Months',\n",
       "       '12 Years and 1 Months', '22 Years and 1 Months',\n",
       "       '21 Years and 9 Months', '21 Years and 10 Months',\n",
       "       '8 Years and 0 Months', '33 Years and 7 Months',\n",
       "       '33 Years and 5 Months', '33 Years and 6 Months',\n",
       "       '30 Years and 5 Months', '30 Years and 7 Months',\n",
       "       '18 Years and 0 Months', '10 Years and 5 Months',\n",
       "       '10 Years and 8 Months', '14 Years and 8 Months',\n",
       "       '22 Years and 11 Months', '23 Years and 1 Months',\n",
       "       '29 Years and 1 Months', '29 Years and 3 Months',\n",
       "       '2 Years and 11 Months', '24 Years and 4 Months',\n",
       "       '24 Years and 6 Months', '24 Years and 7 Months',\n",
       "       '16 Years and 5 Months', '10 Years and 0 Months',\n",
       "       '23 Years and 0 Months', '26 Years and 9 Months',\n",
       "       '19 Years and 6 Months', '19 Years and 8 Months',\n",
       "       '16 Years and 11 Months', '11 Years and 4 Months',\n",
       "       '8 Years and 5 Months', '20 Years and 5 Months',\n",
       "       '9 Years and 2 Months', '28 Years and 0 Months',\n",
       "       '28 Years and 1 Months', '6 Years and 10 Months',\n",
       "       '10 Years and 1 Months', '10 Years and 2 Months',\n",
       "       '16 Years and 10 Months', '31 Years and 4 Months',\n",
       "       '12 Years and 7 Months', '30 Years and 2 Months',\n",
       "       '8 Years and 6 Months', '6 Years and 4 Months',\n",
       "       '28 Years and 11 Months', '10 Years and 11 Months',\n",
       "       '12 Years and 5 Months', '13 Years and 5 Months',\n",
       "       '26 Years and 11 Months', '27 Years and 0 Months',\n",
       "       '16 Years and 6 Months', '23 Years and 3 Months',\n",
       "       '5 Years and 10 Months', '5 Years and 11 Months',\n",
       "       '30 Years and 8 Months', '30 Years and 9 Months',\n",
       "       '23 Years and 4 Months', '3 Years and 11 Months',\n",
       "       '4 Years and 0 Months', '26 Years and 1 Months',\n",
       "       '7 Years and 0 Months', '11 Years and 5 Months',\n",
       "       '12 Years and 9 Months', '12 Years and 0 Months',\n",
       "       '29 Years and 10 Months', '7 Years and 10 Months',\n",
       "       '26 Years and 2 Months', '22 Years and 6 Months',\n",
       "       '22 Years and 7 Months', '22 Years and 8 Months',\n",
       "       '18 Years and 4 Months', '1 Years and 6 Months',\n",
       "       '1 Years and 7 Months', '14 Years and 5 Months',\n",
       "       '25 Years and 11 Months', '5 Years and 0 Months',\n",
       "       '5 Years and 3 Months', '7 Years and 1 Months',\n",
       "       '7 Years and 2 Months', '7 Years and 4 Months',\n",
       "       '4 Years and 7 Months', '20 Years and 8 Months',\n",
       "       '11 Years and 2 Months', '29 Years and 5 Months',\n",
       "       '9 Years and 11 Months', '20 Years and 4 Months',\n",
       "       '11 Years and 6 Months', '16 Years and 7 Months',\n",
       "       '8 Years and 9 Months', '32 Years and 1 Months',\n",
       "       '27 Years and 11 Months', '21 Years and 1 Months',\n",
       "       '18 Years and 7 Months', '16 Years and 4 Months',\n",
       "       '31 Years and 10 Months', '21 Years and 6 Months',\n",
       "       '23 Years and 6 Months', '30 Years and 0 Months',\n",
       "       '30 Years and 1 Months', '26 Years and 3 Months',\n",
       "       '2 Years and 7 Months', '20 Years and 6 Months',\n",
       "       '22 Years and 9 Months', '10 Years and 7 Months',\n",
       "       '2 Years and 5 Months', '2 Years and 8 Months',\n",
       "       '14 Years and 3 Months', '9 Years and 1 Months',\n",
       "       '30 Years and 4 Months', '30 Years and 6 Months',\n",
       "       '10 Years and 6 Months', '33 Years and 10 Months',\n",
       "       '6 Years and 6 Months', '31 Years and 11 Months',\n",
       "       '15 Years and 0 Months', '22 Years and 3 Months',\n",
       "       '32 Years and 9 Months', '31 Years and 8 Months',\n",
       "       '32 Years and 11 Months', '33 Years and 0 Months',\n",
       "       '20 Years and 9 Months', '11 Years and 11 Months',\n",
       "       '21 Years and 7 Months', '10 Years and 3 Months',\n",
       "       '14 Years and 10 Months', '15 Years and 10 Months',\n",
       "       '6 Years and 8 Months', '15 Years and 3 Months',\n",
       "       '24 Years and 10 Months', '1 Years and 10 Months',\n",
       "       '1 Years and 11 Months', '31 Years and 3 Months',\n",
       "       '12 Years and 2 Months', '25 Years and 3 Months',\n",
       "       '21 Years and 8 Months', '33 Years and 1 Months',\n",
       "       '33 Years and 2 Months', '1 Years and 3 Months',\n",
       "       '17 Years and 4 Months', '20 Years and 10 Months',\n",
       "       '7 Years and 11 Months', '8 Years and 1 Months',\n",
       "       '27 Years and 10 Months', '26 Years and 6 Months',\n",
       "       '15 Years and 11 Months', '10 Years and 4 Months',\n",
       "       '14 Years and 9 Months', '14 Years and 11 Months',\n",
       "       '20 Years and 7 Months', '32 Years and 4 Months',\n",
       "       '25 Years and 8 Months', '7 Years and 3 Months',\n",
       "       '30 Years and 10 Months', '4 Years and 3 Months',\n",
       "       '25 Years and 10 Months', '24 Years and 2 Months',\n",
       "       '28 Years and 2 Months', '26 Years and 0 Months',\n",
       "       '26 Years and 4 Months', '23 Years and 7 Months',\n",
       "       '23 Years and 10 Months', '28 Years and 8 Months',\n",
       "       '15 Years and 5 Months', '24 Years and 8 Months',\n",
       "       '28 Years and 9 Months', '6 Years and 9 Months',\n",
       "       '33 Years and 8 Months', '1 Years and 9 Months',\n",
       "       '25 Years and 6 Months', '5 Years and 8 Months',\n",
       "       '5 Years and 9 Months', '32 Years and 8 Months',\n",
       "       '19 Years and 5 Months', '21 Years and 3 Months',\n",
       "       '21 Years and 4 Months', '23 Years and 9 Months',\n",
       "       '24 Years and 1 Months', '24 Years and 3 Months',\n",
       "       '8 Years and 4 Months', '21 Years and 5 Months',\n",
       "       '32 Years and 7 Months', '16 Years and 8 Months',\n",
       "       '13 Years and 10 Months', '3 Years and 3 Months',\n",
       "       '7 Years and 6 Months', '6 Years and 2 Months',\n",
       "       '8 Years and 3 Months', '4 Years and 4 Months',\n",
       "       '4 Years and 5 Months', '29 Years and 9 Months',\n",
       "       '27 Years and 8 Months', '24 Years and 5 Months',\n",
       "       '19 Years and 11 Months', '23 Years and 2 Months',\n",
       "       '6 Years and 11 Months', '28 Years and 4 Months',\n",
       "       '9 Years and 8 Months', '25 Years and 7 Months',\n",
       "       '28 Years and 3 Months', '15 Years and 1 Months',\n",
       "       '9 Years and 6 Months', '24 Years and 9 Months',\n",
       "       '17 Years and 8 Months', '4 Years and 9 Months',\n",
       "       '4 Years and 11 Months', '1 Years and 0 Months',\n",
       "       '33 Years and 4 Months', '3 Years and 5 Months',\n",
       "       '11 Years and 9 Months', '30 Years and 3 Months',\n",
       "       '4 Years and 1 Months', '5 Years and 2 Months',\n",
       "       '7 Years and 7 Months', '27 Years and 3 Months',\n",
       "       '18 Years and 3 Months', '2 Years and 9 Months',\n",
       "       '2 Years and 10 Months', '28 Years and 5 Months',\n",
       "       '5 Years and 7 Months', '33 Years and 3 Months',\n",
       "       '3 Years and 6 Months', '3 Years and 8 Months',\n",
       "       '1 Years and 8 Months', '3 Years and 4 Months',\n",
       "       '3 Years and 1 Months', '12 Years and 4 Months',\n",
       "       '4 Years and 6 Months', '4 Years and 10 Months',\n",
       "       '2 Years and 4 Months', '1 Years and 2 Months',\n",
       "       '4 Years and 8 Months', '4 Years and 2 Months',\n",
       "       '7 Years and 5 Months', '1 Years and 4 Months',\n",
       "       '1 Years and 5 Months', '0 Years and 11 Months',\n",
       "       '0 Years and 10 Months', '2 Years and 6 Months',\n",
       "       '3 Years and 2 Months', '29 Years and 4 Months',\n",
       "       '3 Years and 10 Months', '34 Years and 0 Months',\n",
       "       '3 Years and 7 Months'], dtype=object)"
      ]
     },
     "execution_count": 540,
     "metadata": {},
     "output_type": "execute_result"
    }
   ],
   "source": [
    "df['Credit_History_Age'].unique()"
   ]
  },
  {
   "cell_type": "code",
   "execution_count": 541,
   "id": "60619c72",
   "metadata": {},
   "outputs": [],
   "source": [
    "df['Credit_History_Age'] = df['Credit_History_Age'].apply(lambda x: (int(re.search(r'(\\d+)\\s*[yY]ears?', x).group(1)) * 12) + int(re.search(r'(\\d+)\\s*[nM]onths?',x).group(1)))"
   ]
  },
  {
   "cell_type": "code",
   "execution_count": 542,
   "id": "e92cc1fd",
   "metadata": {},
   "outputs": [],
   "source": [
    "df.rename({'Credit_History_Age':'Credit_History_Age(in months)'},inplace=True) # for better understanding renaming the column name"
   ]
  },
  {
   "cell_type": "code",
   "execution_count": 543,
   "id": "9cc4f778",
   "metadata": {},
   "outputs": [
    {
     "data": {
      "text/plain": [
       "1         49.574949\n",
       "5         18.816215\n",
       "9        246.992319\n",
       "12        16.415452\n",
       "14        16.415452\n",
       "            ...    \n",
       "49966     28.182033\n",
       "49976    362.072453\n",
       "49992     60.964772\n",
       "49993     60.964772\n",
       "49997     35.104023\n",
       "Name: Total_EMI_per_month, Length: 13318, dtype: float64"
      ]
     },
     "execution_count": 543,
     "metadata": {},
     "output_type": "execute_result"
    }
   ],
   "source": [
    "df['Total_EMI_per_month'] # in US Dollars"
   ]
  },
  {
   "cell_type": "code",
   "execution_count": 544,
   "id": "62632e44",
   "metadata": {},
   "outputs": [],
   "source": [
    "df=df[df['Total_EMI_per_month']>12]  # filtering out the relevant values"
   ]
  },
  {
   "cell_type": "code",
   "execution_count": 545,
   "id": "b5095edb",
   "metadata": {},
   "outputs": [],
   "source": [
    "df=df[df['Payment_Behaviour']!='!@9#%8'] # removing the irrelevant values"
   ]
  },
  {
   "cell_type": "code",
   "execution_count": 546,
   "id": "13ad2343",
   "metadata": {},
   "outputs": [
    {
     "data": {
      "text/html": [
       "<div>\n",
       "<style scoped>\n",
       "    .dataframe tbody tr th:only-of-type {\n",
       "        vertical-align: middle;\n",
       "    }\n",
       "\n",
       "    .dataframe tbody tr th {\n",
       "        vertical-align: top;\n",
       "    }\n",
       "\n",
       "    .dataframe thead th {\n",
       "        text-align: right;\n",
       "    }\n",
       "</style>\n",
       "<table border=\"1\" class=\"dataframe\">\n",
       "  <thead>\n",
       "    <tr style=\"text-align: right;\">\n",
       "      <th></th>\n",
       "      <th>Month</th>\n",
       "      <th>Age</th>\n",
       "      <th>Occupation</th>\n",
       "      <th>Annual_Income</th>\n",
       "      <th>Monthly_Inhand_Salary</th>\n",
       "      <th>Num_Bank_Accounts</th>\n",
       "      <th>Num_Credit_Card</th>\n",
       "      <th>Interest_Rate</th>\n",
       "      <th>Num_of_Loan</th>\n",
       "      <th>Delay_from_due_date</th>\n",
       "      <th>Num_of_Delayed_Payment</th>\n",
       "      <th>Changed_Credit_Limit</th>\n",
       "      <th>Num_Credit_Inquiries</th>\n",
       "      <th>Credit_Mix</th>\n",
       "      <th>Outstanding_Debt</th>\n",
       "      <th>Credit_Utilization_Ratio</th>\n",
       "      <th>Credit_History_Age</th>\n",
       "      <th>Payment_of_Min_Amount</th>\n",
       "      <th>Total_EMI_per_month</th>\n",
       "      <th>Amount_invested_monthly</th>\n",
       "      <th>Payment_Behaviour</th>\n",
       "      <th>Monthly_Balance</th>\n",
       "    </tr>\n",
       "  </thead>\n",
       "  <tbody>\n",
       "    <tr>\n",
       "      <th>17036</th>\n",
       "      <td>September</td>\n",
       "      <td>38.0</td>\n",
       "      <td>Media_Manager</td>\n",
       "      <td>29588.18</td>\n",
       "      <td>2281.681667</td>\n",
       "      <td>3</td>\n",
       "      <td>4</td>\n",
       "      <td>1</td>\n",
       "      <td>3.0</td>\n",
       "      <td>9</td>\n",
       "      <td>7.0</td>\n",
       "      <td>2.73</td>\n",
       "      <td>3.0</td>\n",
       "      <td>Good</td>\n",
       "      <td>193.06</td>\n",
       "      <td>28.385089</td>\n",
       "      <td>247</td>\n",
       "      <td>No</td>\n",
       "      <td>61.709502</td>\n",
       "      <td>70.725651</td>\n",
       "      <td>High_spent_Small_value_payments</td>\n",
       "      <td>-3.333333e+26</td>\n",
       "    </tr>\n",
       "  </tbody>\n",
       "</table>\n",
       "</div>"
      ],
      "text/plain": [
       "           Month   Age  ...                Payment_Behaviour  Monthly_Balance\n",
       "17036  September  38.0  ...  High_spent_Small_value_payments    -3.333333e+26\n",
       "\n",
       "[1 rows x 22 columns]"
      ]
     },
     "execution_count": 546,
     "metadata": {},
     "output_type": "execute_result"
    }
   ],
   "source": [
    "df[df['Monthly_Balance']<0]"
   ]
  },
  {
   "cell_type": "code",
   "execution_count": 547,
   "id": "e68cc161",
   "metadata": {},
   "outputs": [],
   "source": [
    "df=df[df['Monthly_Balance']>0] # removing negative values"
   ]
  },
  {
   "cell_type": "code",
   "execution_count": 548,
   "id": "73fb30d8",
   "metadata": {},
   "outputs": [],
   "source": [
    "df1=df.copy()"
   ]
  },
  {
   "cell_type": "code",
   "execution_count": 549,
   "id": "dbd558ea",
   "metadata": {},
   "outputs": [
    {
     "data": {
      "text/plain": [
       "Index(['Month', 'Age', 'Occupation', 'Annual_Income', 'Monthly_Inhand_Salary',\n",
       "       'Num_Bank_Accounts', 'Num_Credit_Card', 'Interest_Rate', 'Num_of_Loan',\n",
       "       'Delay_from_due_date', 'Num_of_Delayed_Payment', 'Changed_Credit_Limit',\n",
       "       'Num_Credit_Inquiries', 'Credit_Mix', 'Outstanding_Debt',\n",
       "       'Credit_Utilization_Ratio', 'Credit_History_Age',\n",
       "       'Payment_of_Min_Amount', 'Total_EMI_per_month',\n",
       "       'Amount_invested_monthly', 'Payment_Behaviour', 'Monthly_Balance'],\n",
       "      dtype='object')"
      ]
     },
     "execution_count": 549,
     "metadata": {},
     "output_type": "execute_result"
    }
   ],
   "source": [
    "df.columns"
   ]
  },
  {
   "cell_type": "markdown",
   "id": "519dee95",
   "metadata": {},
   "source": [
    "ANALYSIS\n"
   ]
  },
  {
   "cell_type": "code",
   "execution_count": 550,
   "id": "ecfb5065",
   "metadata": {},
   "outputs": [
    {
     "data": {
      "text/plain": [
       "Credit_Mix\n",
       "Standard    5790\n",
       "Bad         3548\n",
       "Good        2723\n",
       "Name: count, dtype: int64"
      ]
     },
     "execution_count": 550,
     "metadata": {},
     "output_type": "execute_result"
    }
   ],
   "source": [
    "df1['Credit_Mix'].value_counts()"
   ]
  },
  {
   "cell_type": "code",
   "execution_count": 551,
   "id": "4d4539e4",
   "metadata": {},
   "outputs": [
    {
     "data": {
      "image/png": "[encoded data removed]",
      "text/plain": [
       "<Figure size 640x480 with 1 Axes>"
      ]
     },
     "metadata": {},
     "output_type": "display_data"
    }
   ],
   "source": [
    "sns.countplot(x=df1['Credit_Mix'])\n",
    "plt.title('Count plot of overall credit status')\n",
    "plt.yticks(range(0,6000,400))\n",
    "plt.show()"
   ]
  },
  {
   "cell_type": "code",
   "execution_count": 552,
   "id": "1f8297a3",
   "metadata": {},
   "outputs": [
    {
     "data": {
      "text/html": [
       "<div>\n",
       "<style scoped>\n",
       "    .dataframe tbody tr th:only-of-type {\n",
       "        vertical-align: middle;\n",
       "    }\n",
       "\n",
       "    .dataframe tbody tr th {\n",
       "        vertical-align: top;\n",
       "    }\n",
       "\n",
       "    .dataframe thead th {\n",
       "        text-align: right;\n",
       "    }\n",
       "</style>\n",
       "<table border=\"1\" class=\"dataframe\">\n",
       "  <thead>\n",
       "    <tr style=\"text-align: right;\">\n",
       "      <th></th>\n",
       "      <th>Outstanding_Debt</th>\n",
       "    </tr>\n",
       "    <tr>\n",
       "      <th>Credit_Mix</th>\n",
       "      <th></th>\n",
       "    </tr>\n",
       "  </thead>\n",
       "  <tbody>\n",
       "    <tr>\n",
       "      <th>Good</th>\n",
       "      <td>743.040342</td>\n",
       "    </tr>\n",
       "    <tr>\n",
       "      <th>Standard</th>\n",
       "      <td>1125.145212</td>\n",
       "    </tr>\n",
       "    <tr>\n",
       "      <th>Bad</th>\n",
       "      <td>2988.870896</td>\n",
       "    </tr>\n",
       "  </tbody>\n",
       "</table>\n",
       "</div>"
      ],
      "text/plain": [
       "            Outstanding_Debt\n",
       "Credit_Mix                  \n",
       "Good              743.040342\n",
       "Standard         1125.145212\n",
       "Bad              2988.870896"
      ]
     },
     "execution_count": 552,
     "metadata": {},
     "output_type": "execute_result"
    }
   ],
   "source": [
    "z=df1.groupby('Credit_Mix')[['Outstanding_Debt']].mean().sort_values(by='Outstanding_Debt')\n",
    "z"
   ]
  },
  {
   "cell_type": "code",
   "execution_count": 553,
   "id": "aff5bd18",
   "metadata": {},
   "outputs": [
    {
     "data": {
      "image/png": "[encoded data removed]",
      "text/plain": [
       "<Figure size 640x480 with 1 Axes>"
      ]
     },
     "metadata": {},
     "output_type": "display_data"
    }
   ],
   "source": [
    "plt.bar(z.index,z['Outstanding_Debt'])\n",
    "plt.xlabel('Credit status')\n",
    "plt.ylabel('outstanding debt')\n",
    "plt.title('Line graph of credit status and average debts')\n",
    "plt.show()"
   ]
  },
  {
   "cell_type": "code",
   "execution_count": 554,
   "id": "5b1ca236",
   "metadata": {},
   "outputs": [
    {
     "data": {
      "text/plain": [
       "Credit_Mix\n",
       "Good         6.399559\n",
       "Standard    15.145769\n",
       "Bad         24.396561\n",
       "Name: Interest_Rate, dtype: float64"
      ]
     },
     "execution_count": 554,
     "metadata": {},
     "output_type": "execute_result"
    }
   ],
   "source": [
    "z=df1.groupby(['Credit_Mix'])['Interest_Rate'].mean().sort_values()\n",
    "z"
   ]
  },
  {
   "cell_type": "code",
   "execution_count": 555,
   "id": "cd25c450",
   "metadata": {},
   "outputs": [
    {
     "data": {
      "image/png": "[encoded data removed]",
      "text/plain": [
       "<Figure size 640x480 with 1 Axes>"
      ]
     },
     "metadata": {},
     "output_type": "display_data"
    }
   ],
   "source": [
    "plt.plot(z)\n",
    "plt.xlabel('Credit status')\n",
    "plt.ylabel('Average Interest rate')\n",
    "plt.title('Bar graph of credit status and average interest rate')\n",
    "plt.show()"
   ]
  },
  {
   "cell_type": "code",
   "execution_count": 556,
   "id": "5b2b4ca7",
   "metadata": {},
   "outputs": [
    {
     "data": {
      "text/plain": [
       "Credit_Mix\n",
       "Bad         2675.903011\n",
       "Standard    3901.471954\n",
       "Good        5707.602086\n",
       "Name: Monthly_Inhand_Salary, dtype: float64"
      ]
     },
     "execution_count": 556,
     "metadata": {},
     "output_type": "execute_result"
    }
   ],
   "source": [
    "z=df1.groupby('Credit_Mix')['Monthly_Inhand_Salary'].mean().sort_values()\n",
    "z"
   ]
  },
  {
   "cell_type": "code",
   "execution_count": 557,
   "id": "1c5f59d4",
   "metadata": {},
   "outputs": [
    {
     "data": {
      "image/png": "[encoded data removed]",
      "text/plain": [
       "<Figure size 640x480 with 1 Axes>"
      ]
     },
     "metadata": {},
     "output_type": "display_data"
    }
   ],
   "source": [
    "plt.plot(z)\n",
    "plt.xlabel('Credit status')\n",
    "plt.ylabel('Average Monthly base salary')\n",
    "plt.title('Line graph of average salary of different credit status')\n",
    "plt.show()"
   ]
  },
  {
   "cell_type": "code",
   "execution_count": 558,
   "id": "859d31fa",
   "metadata": {},
   "outputs": [
    {
     "data": {
      "text/plain": [
       "Credit_Mix\n",
       "Good         6927.0\n",
       "Standard    20630.0\n",
       "Bad         22559.0\n",
       "Name: Num_of_Loan, dtype: float64"
      ]
     },
     "execution_count": 558,
     "metadata": {},
     "output_type": "execute_result"
    }
   ],
   "source": [
    "z=df1.groupby(['Credit_Mix'])['Num_of_Loan'].sum().sort_values()\n",
    "z"
   ]
  },
  {
   "cell_type": "code",
   "execution_count": 559,
   "id": "61cb3d5c",
   "metadata": {},
   "outputs": [
    {
     "data": {
      "image/png": "[encoded data removed]",
      "text/plain": [
       "<Figure size 640x480 with 1 Axes>"
      ]
     },
     "metadata": {},
     "output_type": "display_data"
    }
   ],
   "source": [
    "plt.bar(z.index,z)\n",
    "plt.xlabel(\"Credit status\")\n",
    "plt.ylabel('Total number of loans')\n",
    "plt.title(\"Bar graph of total number of loans amoung each credit status\")\n",
    "plt.show()"
   ]
  },
  {
   "cell_type": "code",
   "execution_count": 560,
   "id": "daa26d92",
   "metadata": {},
   "outputs": [
    {
     "data": {
      "text/plain": [
       "Credit_Mix\n",
       "Good        10.754315\n",
       "Standard    19.727979\n",
       "Bad         38.373168\n",
       "Name: Delay_from_due_date, dtype: float64"
      ]
     },
     "execution_count": 560,
     "metadata": {},
     "output_type": "execute_result"
    }
   ],
   "source": [
    "z=df1.groupby(['Credit_Mix'])['Delay_from_due_date'].mean().sort_values()\n",
    "z"
   ]
  },
  {
   "cell_type": "code",
   "execution_count": 561,
   "id": "34604492",
   "metadata": {},
   "outputs": [
    {
     "data": {
      "image/png": "[encoded data removed]",
      "text/plain": [
       "<Figure size 640x480 with 1 Axes>"
      ]
     },
     "metadata": {},
     "output_type": "display_data"
    }
   ],
   "source": [
    "plt.plot(z)\n",
    "plt.xlabel('Credit status')\n",
    "plt.ylabel('Average delay from due date')\n",
    "plt.title('Line graph of credit status vs average delay from due date')\n",
    "plt.show()"
   ]
  },
  {
   "cell_type": "code",
   "execution_count": 562,
   "id": "cd052d00",
   "metadata": {},
   "outputs": [
    {
     "data": {
      "text/html": [
       "<div>\n",
       "<style scoped>\n",
       "    .dataframe tbody tr th:only-of-type {\n",
       "        vertical-align: middle;\n",
       "    }\n",
       "\n",
       "    .dataframe tbody tr th {\n",
       "        vertical-align: top;\n",
       "    }\n",
       "\n",
       "    .dataframe thead th {\n",
       "        text-align: right;\n",
       "    }\n",
       "</style>\n",
       "<table border=\"1\" class=\"dataframe\">\n",
       "  <thead>\n",
       "    <tr style=\"text-align: right;\">\n",
       "      <th></th>\n",
       "      <th></th>\n",
       "      <th>Credit_Mix</th>\n",
       "    </tr>\n",
       "    <tr>\n",
       "      <th>Payment_of_Min_Amount</th>\n",
       "      <th>Credit_Mix</th>\n",
       "      <th></th>\n",
       "    </tr>\n",
       "  </thead>\n",
       "  <tbody>\n",
       "    <tr>\n",
       "      <th rowspan=\"2\" valign=\"top\">No</th>\n",
       "      <th>Good</th>\n",
       "      <td>2723</td>\n",
       "    </tr>\n",
       "    <tr>\n",
       "      <th>Standard</th>\n",
       "      <td>1099</td>\n",
       "    </tr>\n",
       "    <tr>\n",
       "      <th rowspan=\"2\" valign=\"top\">Yes</th>\n",
       "      <th>Bad</th>\n",
       "      <td>3548</td>\n",
       "    </tr>\n",
       "    <tr>\n",
       "      <th>Standard</th>\n",
       "      <td>4691</td>\n",
       "    </tr>\n",
       "  </tbody>\n",
       "</table>\n",
       "</div>"
      ],
      "text/plain": [
       "                                  Credit_Mix\n",
       "Payment_of_Min_Amount Credit_Mix            \n",
       "No                    Good              2723\n",
       "                      Standard          1099\n",
       "Yes                   Bad               3548\n",
       "                      Standard          4691"
      ]
     },
     "execution_count": 562,
     "metadata": {},
     "output_type": "execute_result"
    }
   ],
   "source": [
    "df1.groupby(['Payment_of_Min_Amount','Credit_Mix'])[['Credit_Mix']].count()"
   ]
  },
  {
   "cell_type": "code",
   "execution_count": 563,
   "id": "29f07bae",
   "metadata": {},
   "outputs": [
    {
     "data": {
      "text/html": [
       "<div>\n",
       "<style scoped>\n",
       "    .dataframe tbody tr th:only-of-type {\n",
       "        vertical-align: middle;\n",
       "    }\n",
       "\n",
       "    .dataframe tbody tr th {\n",
       "        vertical-align: top;\n",
       "    }\n",
       "\n",
       "    .dataframe thead th {\n",
       "        text-align: right;\n",
       "    }\n",
       "</style>\n",
       "<table border=\"1\" class=\"dataframe\">\n",
       "  <thead>\n",
       "    <tr style=\"text-align: right;\">\n",
       "      <th></th>\n",
       "      <th>Monthly_Balance</th>\n",
       "    </tr>\n",
       "    <tr>\n",
       "      <th>Credit_Mix</th>\n",
       "      <th></th>\n",
       "    </tr>\n",
       "  </thead>\n",
       "  <tbody>\n",
       "    <tr>\n",
       "      <th>Good</th>\n",
       "      <td>488.652959</td>\n",
       "    </tr>\n",
       "    <tr>\n",
       "      <th>Standard</th>\n",
       "      <td>381.204095</td>\n",
       "    </tr>\n",
       "    <tr>\n",
       "      <th>Bad</th>\n",
       "      <td>280.772860</td>\n",
       "    </tr>\n",
       "  </tbody>\n",
       "</table>\n",
       "</div>"
      ],
      "text/plain": [
       "            Monthly_Balance\n",
       "Credit_Mix                 \n",
       "Good             488.652959\n",
       "Standard         381.204095\n",
       "Bad              280.772860"
      ]
     },
     "execution_count": 563,
     "metadata": {},
     "output_type": "execute_result"
    }
   ],
   "source": [
    "z=df1.groupby('Credit_Mix')[['Monthly_Balance']].mean().sort_values(by='Monthly_Balance',ascending=False)\n",
    "z"
   ]
  },
  {
   "cell_type": "code",
   "execution_count": 564,
   "id": "f7d27655",
   "metadata": {},
   "outputs": [
    {
     "data": {
      "image/png": "[encoded data removed]",
      "text/plain": [
       "<Figure size 640x480 with 1 Axes>"
      ]
     },
     "metadata": {},
     "output_type": "display_data"
    }
   ],
   "source": [
    "plt.bar(z.index,z['Monthly_Balance'])\n",
    "plt.title('Bar chart of average monthly balance of different credit status')\n",
    "plt.xlabel('Credit status')\n",
    "plt.ylabel('Average monthly savings')\n",
    "plt.show()"
   ]
  },
  {
   "cell_type": "code",
   "execution_count": 565,
   "id": "cd608116",
   "metadata": {},
   "outputs": [
    {
     "data": {
      "text/plain": [
       "Credit_Mix\n",
       "Bad         13.877647\n",
       "Standard    11.636473\n",
       "Good         6.119423\n",
       "Name: Changed_Credit_Limit, dtype: float64"
      ]
     },
     "execution_count": 565,
     "metadata": {},
     "output_type": "execute_result"
    }
   ],
   "source": [
    "z=df1.groupby('Credit_Mix')['Changed_Credit_Limit'].mean().sort_values(ascending=False)\n",
    "z\n",
    "# Changed_Credit_Limit => Represents the percentage change in credit card limit"
   ]
  },
  {
   "cell_type": "code",
   "execution_count": 566,
   "id": "7026bce7",
   "metadata": {},
   "outputs": [
    {
     "data": {
      "image/png": "[encoded data removed]",
      "text/plain": [
       "<Figure size 640x480 with 1 Axes>"
      ]
     },
     "metadata": {},
     "output_type": "display_data"
    }
   ],
   "source": [
    "plt.bar(z.index,z)\n",
    "plt.xlabel('Credit status')\n",
    "plt.ylabel('Average credit limit')\n",
    "plt.title('Line graph of average credit limit in different credit status')\n",
    "plt.show()\n",
    "# insight -> bad credit status tries to improve their credit score"
   ]
  },
  {
   "cell_type": "code",
   "execution_count": 567,
   "id": "5b685a77",
   "metadata": {},
   "outputs": [
    {
     "data": {
      "text/plain": [
       "Index(['Month', 'Age', 'Occupation', 'Annual_Income', 'Monthly_Inhand_Salary',\n",
       "       'Num_Bank_Accounts', 'Num_Credit_Card', 'Interest_Rate', 'Num_of_Loan',\n",
       "       'Delay_from_due_date', 'Num_of_Delayed_Payment', 'Changed_Credit_Limit',\n",
       "       'Num_Credit_Inquiries', 'Credit_Mix', 'Outstanding_Debt',\n",
       "       'Credit_Utilization_Ratio', 'Credit_History_Age',\n",
       "       'Payment_of_Min_Amount', 'Total_EMI_per_month',\n",
       "       'Amount_invested_monthly', 'Payment_Behaviour', 'Monthly_Balance'],\n",
       "      dtype='object')"
      ]
     },
     "execution_count": 567,
     "metadata": {},
     "output_type": "execute_result"
    }
   ],
   "source": [
    "df1.columns"
   ]
  },
  {
   "cell_type": "code",
   "execution_count": 568,
   "id": "fb592601",
   "metadata": {},
   "outputs": [
    {
     "data": {
      "text/html": [
       "<div>\n",
       "<style scoped>\n",
       "    .dataframe tbody tr th:only-of-type {\n",
       "        vertical-align: middle;\n",
       "    }\n",
       "\n",
       "    .dataframe tbody tr th {\n",
       "        vertical-align: top;\n",
       "    }\n",
       "\n",
       "    .dataframe thead th {\n",
       "        text-align: right;\n",
       "    }\n",
       "</style>\n",
       "<table border=\"1\" class=\"dataframe\">\n",
       "  <thead>\n",
       "    <tr style=\"text-align: right;\">\n",
       "      <th></th>\n",
       "      <th></th>\n",
       "      <th>Month</th>\n",
       "    </tr>\n",
       "    <tr>\n",
       "      <th>Credit_Mix</th>\n",
       "      <th>Month</th>\n",
       "      <th></th>\n",
       "    </tr>\n",
       "  </thead>\n",
       "  <tbody>\n",
       "    <tr>\n",
       "      <th rowspan=\"4\" valign=\"top\">Bad</th>\n",
       "      <th>December</th>\n",
       "      <td>849</td>\n",
       "    </tr>\n",
       "    <tr>\n",
       "      <th>November</th>\n",
       "      <td>921</td>\n",
       "    </tr>\n",
       "    <tr>\n",
       "      <th>October</th>\n",
       "      <td>867</td>\n",
       "    </tr>\n",
       "    <tr>\n",
       "      <th>September</th>\n",
       "      <td>911</td>\n",
       "    </tr>\n",
       "    <tr>\n",
       "      <th rowspan=\"4\" valign=\"top\">Good</th>\n",
       "      <th>December</th>\n",
       "      <td>709</td>\n",
       "    </tr>\n",
       "    <tr>\n",
       "      <th>November</th>\n",
       "      <td>685</td>\n",
       "    </tr>\n",
       "    <tr>\n",
       "      <th>October</th>\n",
       "      <td>662</td>\n",
       "    </tr>\n",
       "    <tr>\n",
       "      <th>September</th>\n",
       "      <td>667</td>\n",
       "    </tr>\n",
       "    <tr>\n",
       "      <th rowspan=\"4\" valign=\"top\">Standard</th>\n",
       "      <th>December</th>\n",
       "      <td>1486</td>\n",
       "    </tr>\n",
       "    <tr>\n",
       "      <th>November</th>\n",
       "      <td>1458</td>\n",
       "    </tr>\n",
       "    <tr>\n",
       "      <th>October</th>\n",
       "      <td>1407</td>\n",
       "    </tr>\n",
       "    <tr>\n",
       "      <th>September</th>\n",
       "      <td>1439</td>\n",
       "    </tr>\n",
       "  </tbody>\n",
       "</table>\n",
       "</div>"
      ],
      "text/plain": [
       "                      Month\n",
       "Credit_Mix Month           \n",
       "Bad        December     849\n",
       "           November     921\n",
       "           October      867\n",
       "           September    911\n",
       "Good       December     709\n",
       "           November     685\n",
       "           October      662\n",
       "           September    667\n",
       "Standard   December    1486\n",
       "           November    1458\n",
       "           October     1407\n",
       "           September   1439"
      ]
     },
     "execution_count": 568,
     "metadata": {},
     "output_type": "execute_result"
    }
   ],
   "source": [
    "df1.groupby(['Credit_Mix','Month'])[['Month']].count()"
   ]
  },
  {
   "cell_type": "code",
   "execution_count": 569,
   "id": "6d861374",
   "metadata": {},
   "outputs": [
    {
     "data": {
      "image/png": "[encoded data removed]",
      "text/plain": [
       "<Figure size 1000x1000 with 1 Axes>"
      ]
     },
     "metadata": {},
     "output_type": "display_data"
    }
   ],
   "source": [
    "plt.figure(figsize=(10,10))\n",
    "sns.countplot(x=df1['Credit_Mix'],hue=df1['Payment_Behaviour'])\n",
    "plt.show()"
   ]
  },
  {
   "cell_type": "code",
   "execution_count": 570,
   "id": "05d35eb5",
   "metadata": {},
   "outputs": [
    {
     "data": {
      "text/html": [
       "<div>\n",
       "<style scoped>\n",
       "    .dataframe tbody tr th:only-of-type {\n",
       "        vertical-align: middle;\n",
       "    }\n",
       "\n",
       "    .dataframe tbody tr th {\n",
       "        vertical-align: top;\n",
       "    }\n",
       "\n",
       "    .dataframe thead th {\n",
       "        text-align: right;\n",
       "    }\n",
       "</style>\n",
       "<table border=\"1\" class=\"dataframe\">\n",
       "  <thead>\n",
       "    <tr style=\"text-align: right;\">\n",
       "      <th></th>\n",
       "      <th>Month</th>\n",
       "      <th>Age</th>\n",
       "      <th>Occupation</th>\n",
       "      <th>Annual_Income</th>\n",
       "      <th>Monthly_Inhand_Salary</th>\n",
       "      <th>Num_Bank_Accounts</th>\n",
       "      <th>Num_Credit_Card</th>\n",
       "      <th>Interest_Rate</th>\n",
       "      <th>Num_of_Loan</th>\n",
       "      <th>Delay_from_due_date</th>\n",
       "      <th>Num_of_Delayed_Payment</th>\n",
       "      <th>Changed_Credit_Limit</th>\n",
       "      <th>Num_Credit_Inquiries</th>\n",
       "      <th>Credit_Mix</th>\n",
       "      <th>Outstanding_Debt</th>\n",
       "      <th>Credit_Utilization_Ratio</th>\n",
       "      <th>Credit_History_Age</th>\n",
       "      <th>Payment_of_Min_Amount</th>\n",
       "      <th>Total_EMI_per_month</th>\n",
       "      <th>Amount_invested_monthly</th>\n",
       "      <th>Payment_Behaviour</th>\n",
       "      <th>Monthly_Balance</th>\n",
       "    </tr>\n",
       "  </thead>\n",
       "  <tbody>\n",
       "    <tr>\n",
       "      <th>1</th>\n",
       "      <td>October</td>\n",
       "      <td>24.0</td>\n",
       "      <td>Scientist</td>\n",
       "      <td>19114.12</td>\n",
       "      <td>1824.843333</td>\n",
       "      <td>3</td>\n",
       "      <td>4</td>\n",
       "      <td>3</td>\n",
       "      <td>4.0</td>\n",
       "      <td>3</td>\n",
       "      <td>9.0</td>\n",
       "      <td>13.27</td>\n",
       "      <td>4.0</td>\n",
       "      <td>Good</td>\n",
       "      <td>809.98</td>\n",
       "      <td>33.053114</td>\n",
       "      <td>274</td>\n",
       "      <td>No</td>\n",
       "      <td>49.574949</td>\n",
       "      <td>21.465380</td>\n",
       "      <td>High_spent_Medium_value_payments</td>\n",
       "      <td>361.444004</td>\n",
       "    </tr>\n",
       "    <tr>\n",
       "      <th>5</th>\n",
       "      <td>October</td>\n",
       "      <td>28.0</td>\n",
       "      <td>Teacher</td>\n",
       "      <td>34847.84</td>\n",
       "      <td>3037.986667</td>\n",
       "      <td>2</td>\n",
       "      <td>4</td>\n",
       "      <td>6</td>\n",
       "      <td>1.0</td>\n",
       "      <td>3</td>\n",
       "      <td>3.0</td>\n",
       "      <td>5.42</td>\n",
       "      <td>5.0</td>\n",
       "      <td>Good</td>\n",
       "      <td>605.03</td>\n",
       "      <td>30.116600</td>\n",
       "      <td>328</td>\n",
       "      <td>No</td>\n",
       "      <td>18.816215</td>\n",
       "      <td>251.627369</td>\n",
       "      <td>Low_spent_Large_value_payments</td>\n",
       "      <td>303.355083</td>\n",
       "    </tr>\n",
       "    <tr>\n",
       "      <th>9</th>\n",
       "      <td>October</td>\n",
       "      <td>35.0</td>\n",
       "      <td>Engineer</td>\n",
       "      <td>143162.64</td>\n",
       "      <td>12187.220000</td>\n",
       "      <td>1</td>\n",
       "      <td>5</td>\n",
       "      <td>8</td>\n",
       "      <td>3.0</td>\n",
       "      <td>6</td>\n",
       "      <td>3.0</td>\n",
       "      <td>2.10</td>\n",
       "      <td>3.0</td>\n",
       "      <td>Good</td>\n",
       "      <td>1303.01</td>\n",
       "      <td>35.685836</td>\n",
       "      <td>222</td>\n",
       "      <td>No</td>\n",
       "      <td>246.992319</td>\n",
       "      <td>453.615131</td>\n",
       "      <td>Low_spent_Large_value_payments</td>\n",
       "      <td>788.114550</td>\n",
       "    </tr>\n",
       "    <tr>\n",
       "      <th>12</th>\n",
       "      <td>September</td>\n",
       "      <td>55.0</td>\n",
       "      <td>Entrepreneur</td>\n",
       "      <td>30689.89</td>\n",
       "      <td>2612.490833</td>\n",
       "      <td>2</td>\n",
       "      <td>5</td>\n",
       "      <td>4</td>\n",
       "      <td>1.0</td>\n",
       "      <td>5</td>\n",
       "      <td>6.0</td>\n",
       "      <td>1.99</td>\n",
       "      <td>4.0</td>\n",
       "      <td>Good</td>\n",
       "      <td>632.46</td>\n",
       "      <td>39.377219</td>\n",
       "      <td>215</td>\n",
       "      <td>No</td>\n",
       "      <td>16.415452</td>\n",
       "      <td>69.107006</td>\n",
       "      <td>High_spent_Medium_value_payments</td>\n",
       "      <td>425.726626</td>\n",
       "    </tr>\n",
       "    <tr>\n",
       "      <th>14</th>\n",
       "      <td>November</td>\n",
       "      <td>55.0</td>\n",
       "      <td>Entrepreneur</td>\n",
       "      <td>30689.89</td>\n",
       "      <td>2612.490833</td>\n",
       "      <td>2</td>\n",
       "      <td>5</td>\n",
       "      <td>4</td>\n",
       "      <td>1.0</td>\n",
       "      <td>5</td>\n",
       "      <td>6.0</td>\n",
       "      <td>1.99</td>\n",
       "      <td>4.0</td>\n",
       "      <td>Good</td>\n",
       "      <td>632.46</td>\n",
       "      <td>36.824468</td>\n",
       "      <td>217</td>\n",
       "      <td>No</td>\n",
       "      <td>16.415452</td>\n",
       "      <td>191.886244</td>\n",
       "      <td>Low_spent_Medium_value_payments</td>\n",
       "      <td>332.947388</td>\n",
       "    </tr>\n",
       "    <tr>\n",
       "      <th>...</th>\n",
       "      <td>...</td>\n",
       "      <td>...</td>\n",
       "      <td>...</td>\n",
       "      <td>...</td>\n",
       "      <td>...</td>\n",
       "      <td>...</td>\n",
       "      <td>...</td>\n",
       "      <td>...</td>\n",
       "      <td>...</td>\n",
       "      <td>...</td>\n",
       "      <td>...</td>\n",
       "      <td>...</td>\n",
       "      <td>...</td>\n",
       "      <td>...</td>\n",
       "      <td>...</td>\n",
       "      <td>...</td>\n",
       "      <td>...</td>\n",
       "      <td>...</td>\n",
       "      <td>...</td>\n",
       "      <td>...</td>\n",
       "      <td>...</td>\n",
       "      <td>...</td>\n",
       "    </tr>\n",
       "    <tr>\n",
       "      <th>49966</th>\n",
       "      <td>November</td>\n",
       "      <td>39.0</td>\n",
       "      <td>Manager</td>\n",
       "      <td>15319.65</td>\n",
       "      <td>1460.637500</td>\n",
       "      <td>6</td>\n",
       "      <td>7</td>\n",
       "      <td>15</td>\n",
       "      <td>4.0</td>\n",
       "      <td>53</td>\n",
       "      <td>16.0</td>\n",
       "      <td>17.13</td>\n",
       "      <td>6.0</td>\n",
       "      <td>Bad</td>\n",
       "      <td>1453.61</td>\n",
       "      <td>25.497671</td>\n",
       "      <td>139</td>\n",
       "      <td>Yes</td>\n",
       "      <td>28.182033</td>\n",
       "      <td>28.514703</td>\n",
       "      <td>High_spent_Large_value_payments</td>\n",
       "      <td>329.367014</td>\n",
       "    </tr>\n",
       "    <tr>\n",
       "      <th>49976</th>\n",
       "      <td>September</td>\n",
       "      <td>21.0</td>\n",
       "      <td>Architect</td>\n",
       "      <td>38321.39</td>\n",
       "      <td>3106.647859</td>\n",
       "      <td>4</td>\n",
       "      <td>4</td>\n",
       "      <td>3</td>\n",
       "      <td>4.0</td>\n",
       "      <td>11</td>\n",
       "      <td>7.0</td>\n",
       "      <td>1.59</td>\n",
       "      <td>6.0</td>\n",
       "      <td>Good</td>\n",
       "      <td>678.57</td>\n",
       "      <td>29.004432</td>\n",
       "      <td>211</td>\n",
       "      <td>No</td>\n",
       "      <td>362.072453</td>\n",
       "      <td>79.991128</td>\n",
       "      <td>High_spent_Large_value_payments</td>\n",
       "      <td>381.182642</td>\n",
       "    </tr>\n",
       "    <tr>\n",
       "      <th>49992</th>\n",
       "      <td>September</td>\n",
       "      <td>29.0</td>\n",
       "      <td>Architect</td>\n",
       "      <td>20002.88</td>\n",
       "      <td>1929.906667</td>\n",
       "      <td>10</td>\n",
       "      <td>8</td>\n",
       "      <td>29</td>\n",
       "      <td>5.0</td>\n",
       "      <td>33</td>\n",
       "      <td>25.0</td>\n",
       "      <td>18.31</td>\n",
       "      <td>9.0</td>\n",
       "      <td>Bad</td>\n",
       "      <td>3571.70</td>\n",
       "      <td>32.391288</td>\n",
       "      <td>76</td>\n",
       "      <td>Yes</td>\n",
       "      <td>60.964772</td>\n",
       "      <td>107.210742</td>\n",
       "      <td>Low_spent_Small_value_payments</td>\n",
       "      <td>314.815153</td>\n",
       "    </tr>\n",
       "    <tr>\n",
       "      <th>49993</th>\n",
       "      <td>October</td>\n",
       "      <td>29.0</td>\n",
       "      <td>Architect</td>\n",
       "      <td>20002.88</td>\n",
       "      <td>1929.906667</td>\n",
       "      <td>10</td>\n",
       "      <td>8</td>\n",
       "      <td>29</td>\n",
       "      <td>5.0</td>\n",
       "      <td>33</td>\n",
       "      <td>25.0</td>\n",
       "      <td>18.31</td>\n",
       "      <td>12.0</td>\n",
       "      <td>Bad</td>\n",
       "      <td>3571.70</td>\n",
       "      <td>37.528511</td>\n",
       "      <td>77</td>\n",
       "      <td>Yes</td>\n",
       "      <td>60.964772</td>\n",
       "      <td>71.794421</td>\n",
       "      <td>Low_spent_Small_value_payments</td>\n",
       "      <td>350.231473</td>\n",
       "    </tr>\n",
       "    <tr>\n",
       "      <th>49997</th>\n",
       "      <td>October</td>\n",
       "      <td>25.0</td>\n",
       "      <td>Mechanic</td>\n",
       "      <td>39628.99</td>\n",
       "      <td>3359.415833</td>\n",
       "      <td>4</td>\n",
       "      <td>6</td>\n",
       "      <td>7</td>\n",
       "      <td>2.0</td>\n",
       "      <td>23</td>\n",
       "      <td>5.0</td>\n",
       "      <td>13.50</td>\n",
       "      <td>7.0</td>\n",
       "      <td>Good</td>\n",
       "      <td>502.38</td>\n",
       "      <td>36.858542</td>\n",
       "      <td>384</td>\n",
       "      <td>No</td>\n",
       "      <td>35.104023</td>\n",
       "      <td>10000.000000</td>\n",
       "      <td>Low_spent_Large_value_payments</td>\n",
       "      <td>349.726332</td>\n",
       "    </tr>\n",
       "  </tbody>\n",
       "</table>\n",
       "<p>12061 rows × 22 columns</p>\n",
       "</div>"
      ],
      "text/plain": [
       "           Month   Age  ...                 Payment_Behaviour  Monthly_Balance\n",
       "1        October  24.0  ...  High_spent_Medium_value_payments       361.444004\n",
       "5        October  28.0  ...    Low_spent_Large_value_payments       303.355083\n",
       "9        October  35.0  ...    Low_spent_Large_value_payments       788.114550\n",
       "12     September  55.0  ...  High_spent_Medium_value_payments       425.726626\n",
       "14      November  55.0  ...   Low_spent_Medium_value_payments       332.947388\n",
       "...          ...   ...  ...                               ...              ...\n",
       "49966   November  39.0  ...   High_spent_Large_value_payments       329.367014\n",
       "49976  September  21.0  ...   High_spent_Large_value_payments       381.182642\n",
       "49992  September  29.0  ...    Low_spent_Small_value_payments       314.815153\n",
       "49993    October  29.0  ...    Low_spent_Small_value_payments       350.231473\n",
       "49997    October  25.0  ...    Low_spent_Large_value_payments       349.726332\n",
       "\n",
       "[12061 rows x 22 columns]"
      ]
     },
     "execution_count": 570,
     "metadata": {},
     "output_type": "execute_result"
    }
   ],
   "source": [
    "df1"
   ]
  },
  {
   "cell_type": "code",
   "execution_count": 571,
   "id": "59eae575",
   "metadata": {},
   "outputs": [
    {
     "data": {
      "image/png": "[encoded data removed]",
      "text/plain": [
       "<Figure size 640x480 with 1 Axes>"
      ]
     },
     "metadata": {},
     "output_type": "display_data"
    }
   ],
   "source": [
    "plt.scatter(df1['Monthly_Inhand_Salary'],df1['Changed_Credit_Limit'])\n",
    "plt.xlabel('Monthly_Inhand_Salary')\n",
    "plt.ylabel('Changed_Credit_Limit')\n",
    "plt.show()\n",
    "# when salary increases, credit limit change is lowered, implies that the number of loans also increases and making debts  "
   ]
  },
  {
   "cell_type": "markdown",
   "id": "781656a8",
   "metadata": {},
   "source": [
    "Ordinal Encoding for month"
   ]
  },
  {
   "cell_type": "code",
   "execution_count": 572,
   "id": "85312df6",
   "metadata": {},
   "outputs": [],
   "source": [
    "month=OrdinalEncoder(categories=[['September', 'October', 'November', 'December']])\n",
    "df['Month']=month.fit_transform(df[['Month']])"
   ]
  },
  {
   "cell_type": "markdown",
   "id": "85b7e454",
   "metadata": {},
   "source": [
    "Ordinal encoding for occupation"
   ]
  },
  {
   "cell_type": "code",
   "execution_count": 573,
   "id": "f012dbb2",
   "metadata": {},
   "outputs": [],
   "source": [
    "occupation=LabelEncoder()\n",
    "df['Occupation']=occupation.fit_transform(df['Occupation'])"
   ]
  },
  {
   "cell_type": "markdown",
   "id": "cbeb1725",
   "metadata": {},
   "source": [
    "Ordinal Encoding in credit_mix"
   ]
  },
  {
   "cell_type": "code",
   "execution_count": 574,
   "id": "524d9c44",
   "metadata": {},
   "outputs": [
    {
     "data": {
      "text/plain": [
       "array(['Good', 'Standard', 'Bad'], dtype=object)"
      ]
     },
     "execution_count": 574,
     "metadata": {},
     "output_type": "execute_result"
    }
   ],
   "source": [
    "df['Credit_Mix'].unique()"
   ]
  },
  {
   "cell_type": "code",
   "execution_count": 575,
   "id": "1e9ca3fb",
   "metadata": {},
   "outputs": [],
   "source": [
    "credit_mix=OrdinalEncoder(categories=[['Bad','Standard','Good']])\n",
    "df['Credit_Mix']=credit_mix.fit_transform(df[['Credit_Mix']])"
   ]
  },
  {
   "cell_type": "markdown",
   "id": "1e49deb5",
   "metadata": {},
   "source": [
    "Ordinal encoding in Payment_Behaviour"
   ]
  },
  {
   "cell_type": "code",
   "execution_count": 576,
   "id": "687cb564",
   "metadata": {},
   "outputs": [
    {
     "data": {
      "text/plain": [
       "array(['High_spent_Medium_value_payments',\n",
       "       'Low_spent_Large_value_payments',\n",
       "       'Low_spent_Medium_value_payments',\n",
       "       'Low_spent_Small_value_payments',\n",
       "       'High_spent_Large_value_payments',\n",
       "       'High_spent_Small_value_payments'], dtype=object)"
      ]
     },
     "execution_count": 576,
     "metadata": {},
     "output_type": "execute_result"
    }
   ],
   "source": [
    "df['Payment_Behaviour'].unique()"
   ]
  },
  {
   "cell_type": "code",
   "execution_count": 577,
   "id": "389dc875",
   "metadata": {},
   "outputs": [],
   "source": [
    "behavior=OrdinalEncoder(categories=[['Low_spent_Small_value_payments','Low_spent_Medium_value_payments','Low_spent_Large_value_payments','High_spent_Small_value_payments','High_spent_Medium_value_payments','High_spent_Large_value_payments']])\n",
    "df['Payment_Behaviour']=behavior.fit_transform(df[['Payment_Behaviour']])"
   ]
  },
  {
   "cell_type": "code",
   "execution_count": 578,
   "id": "b49fe082",
   "metadata": {},
   "outputs": [],
   "source": [
    "Payment_of_Min_Amount=LabelEncoder()\n",
    "df['Payment_of_Min_Amount']=Payment_of_Min_Amount.fit_transform(df['Payment_of_Min_Amount'])"
   ]
  },
  {
   "cell_type": "code",
   "execution_count": 579,
   "id": "bbed954f",
   "metadata": {},
   "outputs": [
    {
     "data": {
      "text/plain": [
       "dtype('int64')"
      ]
     },
     "execution_count": 579,
     "metadata": {},
     "output_type": "execute_result"
    }
   ],
   "source": [
    "df['Interest_Rate'].dtype"
   ]
  },
  {
   "cell_type": "markdown",
   "id": "cadaba8d",
   "metadata": {},
   "source": [
    "Checking for negative or any outliers"
   ]
  },
  {
   "cell_type": "code",
   "execution_count": 580,
   "id": "6513bb4a",
   "metadata": {},
   "outputs": [
    {
     "name": "stdout",
     "output_type": "stream",
     "text": [
      "Minimum value of Month: 0.0\n",
      "Maximum_value of Month: 3.0\n",
      "\n",
      "Minimum value of Age: 14.0\n",
      "Maximum_value of Age: 95.0\n",
      "\n",
      "Minimum value of Occupation: 0\n",
      "Maximum_value of Occupation: 14\n",
      "\n",
      "Minimum value of Annual_Income: 7005.93\n",
      "Maximum_value of Annual_Income: 23994243.0\n",
      "\n",
      "Minimum value of Monthly_Inhand_Salary: 303.6454166666666\n",
      "Maximum_value of Monthly_Inhand_Salary: 15167.18\n",
      "\n",
      "Minimum value of Num_Bank_Accounts: 1\n",
      "Maximum_value of Num_Bank_Accounts: 10\n",
      "\n",
      "Minimum value of Num_Credit_Card: 1\n",
      "Maximum_value of Num_Credit_Card: 10\n",
      "\n",
      "Minimum value of Interest_Rate: 1\n",
      "Maximum_value of Interest_Rate: 34\n",
      "\n",
      "Minimum value of Num_of_Loan: 1.0\n",
      "Maximum_value of Num_of_Loan: 9.0\n",
      "\n",
      "Minimum value of Delay_from_due_date: 1\n",
      "Maximum_value of Delay_from_due_date: 67\n",
      "\n",
      "Minimum value of Num_of_Delayed_Payment: 0.0\n",
      "Maximum_value of Num_of_Delayed_Payment: 28.0\n",
      "\n",
      "Minimum value of Changed_Credit_Limit: -6.4\n",
      "Maximum_value of Changed_Credit_Limit: 35.81\n",
      "\n",
      "Minimum value of Num_Credit_Inquiries: 1.0\n",
      "Maximum_value of Num_Credit_Inquiries: 17.0\n",
      "\n",
      "Minimum value of Credit_Mix: 0.0\n",
      "Maximum_value of Credit_Mix: 2.0\n",
      "\n",
      "Minimum value of Outstanding_Debt: 12.41\n",
      "Maximum_value of Outstanding_Debt: 4998.07\n",
      "\n",
      "Minimum value of Credit_Utilization_Ratio: 21.24807121768862\n",
      "Maximum_value of Credit_Utilization_Ratio: 47.23010359407712\n",
      "\n",
      "Minimum value of Credit_History_Age: 10\n",
      "Maximum_value of Credit_History_Age: 408\n",
      "\n",
      "Minimum value of Payment_of_Min_Amount: 0\n",
      "Maximum_value of Payment_of_Min_Amount: 1\n",
      "\n",
      "Minimum value of Total_EMI_per_month: 12.000280476233074\n",
      "Maximum_value of Total_EMI_per_month: 82347.0\n",
      "\n",
      "Minimum value of Amount_invested_monthly: 0.0\n",
      "Maximum_value of Amount_invested_monthly: 10000.0\n",
      "\n",
      "Minimum value of Payment_Behaviour: 0.0\n",
      "Maximum_value of Payment_Behaviour: 5.0\n",
      "\n",
      "Minimum value of Monthly_Balance: 0.10340223118339507\n",
      "Maximum_value of Monthly_Balance: 1553.8416358575596\n",
      "\n"
     ]
    }
   ],
   "source": [
    "for i in df:\n",
    "  if df[i].dtype in [int,float]:\n",
    "    print(f\"Minimum value of {i}:\",df[i].min())\n",
    "    print(f'Maximum_value of {i}:',df[i].max())\n",
    "    print()"
   ]
  },
  {
   "cell_type": "code",
   "execution_count": 581,
   "id": "a7c104fc",
   "metadata": {},
   "outputs": [],
   "source": [
    "df.drop(index=df[df['Age']==95].index,inplace=True) "
   ]
  },
  {
   "cell_type": "code",
   "execution_count": 582,
   "id": "3a8007ab",
   "metadata": {},
   "outputs": [],
   "source": [
    "corr=df.corr(numeric_only=True)['Credit_Mix'].abs().sort_values()\n",
    "corr=corr.tail(11)"
   ]
  },
  {
   "cell_type": "code",
   "execution_count": 583,
   "id": "aad7066b",
   "metadata": {},
   "outputs": [
    {
     "data": {
      "text/plain": [
       "Num_Credit_Card           0.537051\n",
       "Num_of_Loan               0.634482\n",
       "Num_Credit_Inquiries      0.638348\n",
       "Credit_History_Age        0.646660\n",
       "Delay_from_due_date       0.668915\n",
       "Outstanding_Debt          0.697495\n",
       "Num_Bank_Accounts         0.699354\n",
       "Interest_Rate             0.728803\n",
       "Payment_of_Min_Amount     0.740903\n",
       "Num_of_Delayed_Payment    0.750637\n",
       "Credit_Mix                1.000000\n",
       "Name: Credit_Mix, dtype: float64"
      ]
     },
     "execution_count": 583,
     "metadata": {},
     "output_type": "execute_result"
    }
   ],
   "source": [
    "corr"
   ]
  },
  {
   "cell_type": "code",
   "execution_count": 584,
   "id": "3983a19f",
   "metadata": {},
   "outputs": [
    {
     "data": {
      "text/html": [
       "<div>\n",
       "<style scoped>\n",
       "    .dataframe tbody tr th:only-of-type {\n",
       "        vertical-align: middle;\n",
       "    }\n",
       "\n",
       "    .dataframe tbody tr th {\n",
       "        vertical-align: top;\n",
       "    }\n",
       "\n",
       "    .dataframe thead th {\n",
       "        text-align: right;\n",
       "    }\n",
       "</style>\n",
       "<table border=\"1\" class=\"dataframe\">\n",
       "  <thead>\n",
       "    <tr style=\"text-align: right;\">\n",
       "      <th></th>\n",
       "      <th>Num_Credit_Card</th>\n",
       "      <th>Num_of_Loan</th>\n",
       "      <th>Num_Credit_Inquiries</th>\n",
       "      <th>Credit_History_Age</th>\n",
       "      <th>Delay_from_due_date</th>\n",
       "      <th>Outstanding_Debt</th>\n",
       "      <th>Num_Bank_Accounts</th>\n",
       "      <th>Interest_Rate</th>\n",
       "      <th>Payment_of_Min_Amount</th>\n",
       "      <th>Num_of_Delayed_Payment</th>\n",
       "      <th>Credit_Mix</th>\n",
       "    </tr>\n",
       "  </thead>\n",
       "  <tbody>\n",
       "    <tr>\n",
       "      <th>1</th>\n",
       "      <td>4</td>\n",
       "      <td>4.0</td>\n",
       "      <td>4.0</td>\n",
       "      <td>274</td>\n",
       "      <td>3</td>\n",
       "      <td>809.98</td>\n",
       "      <td>3</td>\n",
       "      <td>3</td>\n",
       "      <td>0</td>\n",
       "      <td>9.0</td>\n",
       "      <td>2.0</td>\n",
       "    </tr>\n",
       "    <tr>\n",
       "      <th>5</th>\n",
       "      <td>4</td>\n",
       "      <td>1.0</td>\n",
       "      <td>5.0</td>\n",
       "      <td>328</td>\n",
       "      <td>3</td>\n",
       "      <td>605.03</td>\n",
       "      <td>2</td>\n",
       "      <td>6</td>\n",
       "      <td>0</td>\n",
       "      <td>3.0</td>\n",
       "      <td>2.0</td>\n",
       "    </tr>\n",
       "    <tr>\n",
       "      <th>9</th>\n",
       "      <td>5</td>\n",
       "      <td>3.0</td>\n",
       "      <td>3.0</td>\n",
       "      <td>222</td>\n",
       "      <td>6</td>\n",
       "      <td>1303.01</td>\n",
       "      <td>1</td>\n",
       "      <td>8</td>\n",
       "      <td>0</td>\n",
       "      <td>3.0</td>\n",
       "      <td>2.0</td>\n",
       "    </tr>\n",
       "    <tr>\n",
       "      <th>12</th>\n",
       "      <td>5</td>\n",
       "      <td>1.0</td>\n",
       "      <td>4.0</td>\n",
       "      <td>215</td>\n",
       "      <td>5</td>\n",
       "      <td>632.46</td>\n",
       "      <td>2</td>\n",
       "      <td>4</td>\n",
       "      <td>0</td>\n",
       "      <td>6.0</td>\n",
       "      <td>2.0</td>\n",
       "    </tr>\n",
       "    <tr>\n",
       "      <th>14</th>\n",
       "      <td>5</td>\n",
       "      <td>1.0</td>\n",
       "      <td>4.0</td>\n",
       "      <td>217</td>\n",
       "      <td>5</td>\n",
       "      <td>632.46</td>\n",
       "      <td>2</td>\n",
       "      <td>4</td>\n",
       "      <td>0</td>\n",
       "      <td>6.0</td>\n",
       "      <td>2.0</td>\n",
       "    </tr>\n",
       "    <tr>\n",
       "      <th>...</th>\n",
       "      <td>...</td>\n",
       "      <td>...</td>\n",
       "      <td>...</td>\n",
       "      <td>...</td>\n",
       "      <td>...</td>\n",
       "      <td>...</td>\n",
       "      <td>...</td>\n",
       "      <td>...</td>\n",
       "      <td>...</td>\n",
       "      <td>...</td>\n",
       "      <td>...</td>\n",
       "    </tr>\n",
       "    <tr>\n",
       "      <th>49966</th>\n",
       "      <td>7</td>\n",
       "      <td>4.0</td>\n",
       "      <td>6.0</td>\n",
       "      <td>139</td>\n",
       "      <td>53</td>\n",
       "      <td>1453.61</td>\n",
       "      <td>6</td>\n",
       "      <td>15</td>\n",
       "      <td>1</td>\n",
       "      <td>16.0</td>\n",
       "      <td>0.0</td>\n",
       "    </tr>\n",
       "    <tr>\n",
       "      <th>49976</th>\n",
       "      <td>4</td>\n",
       "      <td>4.0</td>\n",
       "      <td>6.0</td>\n",
       "      <td>211</td>\n",
       "      <td>11</td>\n",
       "      <td>678.57</td>\n",
       "      <td>4</td>\n",
       "      <td>3</td>\n",
       "      <td>0</td>\n",
       "      <td>7.0</td>\n",
       "      <td>2.0</td>\n",
       "    </tr>\n",
       "    <tr>\n",
       "      <th>49992</th>\n",
       "      <td>8</td>\n",
       "      <td>5.0</td>\n",
       "      <td>9.0</td>\n",
       "      <td>76</td>\n",
       "      <td>33</td>\n",
       "      <td>3571.70</td>\n",
       "      <td>10</td>\n",
       "      <td>29</td>\n",
       "      <td>1</td>\n",
       "      <td>25.0</td>\n",
       "      <td>0.0</td>\n",
       "    </tr>\n",
       "    <tr>\n",
       "      <th>49993</th>\n",
       "      <td>8</td>\n",
       "      <td>5.0</td>\n",
       "      <td>12.0</td>\n",
       "      <td>77</td>\n",
       "      <td>33</td>\n",
       "      <td>3571.70</td>\n",
       "      <td>10</td>\n",
       "      <td>29</td>\n",
       "      <td>1</td>\n",
       "      <td>25.0</td>\n",
       "      <td>0.0</td>\n",
       "    </tr>\n",
       "    <tr>\n",
       "      <th>49997</th>\n",
       "      <td>6</td>\n",
       "      <td>2.0</td>\n",
       "      <td>7.0</td>\n",
       "      <td>384</td>\n",
       "      <td>23</td>\n",
       "      <td>502.38</td>\n",
       "      <td>4</td>\n",
       "      <td>7</td>\n",
       "      <td>0</td>\n",
       "      <td>5.0</td>\n",
       "      <td>2.0</td>\n",
       "    </tr>\n",
       "  </tbody>\n",
       "</table>\n",
       "<p>12060 rows × 11 columns</p>\n",
       "</div>"
      ],
      "text/plain": [
       "       Num_Credit_Card  Num_of_Loan  ...  Num_of_Delayed_Payment  Credit_Mix\n",
       "1                    4          4.0  ...                     9.0         2.0\n",
       "5                    4          1.0  ...                     3.0         2.0\n",
       "9                    5          3.0  ...                     3.0         2.0\n",
       "12                   5          1.0  ...                     6.0         2.0\n",
       "14                   5          1.0  ...                     6.0         2.0\n",
       "...                ...          ...  ...                     ...         ...\n",
       "49966                7          4.0  ...                    16.0         0.0\n",
       "49976                4          4.0  ...                     7.0         2.0\n",
       "49992                8          5.0  ...                    25.0         0.0\n",
       "49993                8          5.0  ...                    25.0         0.0\n",
       "49997                6          2.0  ...                     5.0         2.0\n",
       "\n",
       "[12060 rows x 11 columns]"
      ]
     },
     "execution_count": 584,
     "metadata": {},
     "output_type": "execute_result"
    }
   ],
   "source": [
    "df2=df[corr.index]\n",
    "df2"
   ]
  },
  {
   "cell_type": "code",
   "execution_count": 585,
   "id": "ebef455d",
   "metadata": {},
   "outputs": [
    {
     "data": {
      "image/png": "[encoded data removed]",
      "text/plain": [
       "<Figure size 800x800 with 2 Axes>"
      ]
     },
     "metadata": {},
     "output_type": "display_data"
    }
   ],
   "source": [
    "plt.figure(figsize=(8,8))\n",
    "sns.heatmap(df2.corr(numeric_only=True),annot=True)\n",
    "plt.show()"
   ]
  },
  {
   "cell_type": "markdown",
   "id": "3a330370",
   "metadata": {},
   "source": [
    "Modeling"
   ]
  },
  {
   "cell_type": "code",
   "execution_count": 586,
   "id": "5f174c15",
   "metadata": {},
   "outputs": [],
   "source": [
    "x=df.drop(columns=['Credit_Mix'])\n",
    "y=df['Credit_Mix']"
   ]
  },
  {
   "cell_type": "code",
   "execution_count": 587,
   "id": "024b7bc7",
   "metadata": {},
   "outputs": [],
   "source": [
    "minmax=MinMaxScaler()\n",
    "x_scaled=minmax.fit_transform(x)"
   ]
  },
  {
   "cell_type": "code",
   "execution_count": 588,
   "id": "3adf2e9a",
   "metadata": {},
   "outputs": [],
   "source": [
    "x_train,x_test,y_train,y_test=train_test_split(x_scaled,y,test_size=0.3,random_state=42)"
   ]
  },
  {
   "cell_type": "code",
   "execution_count": 589,
   "id": "24a9e274",
   "metadata": {},
   "outputs": [
    {
     "name": "stdout",
     "output_type": "stream",
     "text": [
      "Accuracy score of train data-KNeighborsClassifier: 93.44941956882255\n",
      "Accuracy score of test data-KNeighborsClassifier: 90.74074074074075\n",
      "\n",
      "Accuracy score of train data-SVC: 93.98246860933428\n",
      "Accuracy score of test data-SVC: 92.92426755113323\n",
      "\n",
      "Accuracy score of train data-MultinomialNB: 80.6562425965411\n",
      "Accuracy score of test data-MultinomialNB: 81.53676064123825\n",
      "\n",
      "Accuracy score of train data-DecisionTreeClassifier: 100.0\n",
      "Accuracy score of test data-DecisionTreeClassifier: 93.06246545052515\n",
      "\n",
      "Accuracy score of train data-RandomForestClassifier: 100.0\n",
      "Accuracy score of test data-RandomForestClassifier: 95.6882255389718\n",
      "\n",
      "Accuracy score of train data-GradientBoostingClassifier: 96.12651030561479\n",
      "Accuracy score of test data-GradientBoostingClassifier: 94.47208402432284\n",
      "\n",
      "Accuracy score of train data-AdaBoostClassifier: 84.9680170575693\n",
      "Accuracy score of test data-AdaBoostClassifier: 84.5771144278607\n",
      "\n",
      "Accuracy score of train data-XGBClassifier: 100.0\n",
      "Accuracy score of test data-XGBClassifier: 96.04754007739082\n",
      "\n"
     ]
    }
   ],
   "source": [
    "models=[KNeighborsClassifier(),SVC(),MultinomialNB(),DecisionTreeClassifier(random_state=42),RandomForestClassifier(random_state=42),GradientBoostingClassifier(random_state=42),AdaBoostClassifier(random_state=42),XGBClassifier(random_state=42)]\n",
    "for model in models:\n",
    "  model.fit(x_train,y_train)\n",
    "  y_pred=model.predict(x_test)\n",
    "  print(f'Accuracy score of train data-{str(model).split('(')[0]}:',model.score(x_train,y_train)*100)\n",
    "  print(f'Accuracy score of test data-{str(model).split('(')[0]}:',accuracy_score(y_test,y_pred)*100)\n",
    "  print()"
   ]
  },
  {
   "cell_type": "markdown",
   "id": "50fbf495",
   "metadata": {},
   "source": [
    "feature selection using wrapper selection method"
   ]
  },
  {
   "cell_type": "code",
   "execution_count": 590,
   "id": "4dcf4994",
   "metadata": {},
   "outputs": [],
   "source": [
    "x=df.drop(columns='Credit_Mix')\n",
    "y=df['Credit_Mix']"
   ]
  },
  {
   "cell_type": "code",
   "execution_count": 591,
   "id": "fb546691",
   "metadata": {},
   "outputs": [
    {
     "data": {
      "text/html": [
       "<style>#sk-container-id-3 {\n",
       "  /* Definition of color scheme common for light and dark mode */\n",
       "  --sklearn-color-text: #000;\n",
       "  --sklearn-color-text-muted: #666;\n",
       "  --sklearn-color-line: gray;\n",
       "  /* Definition of color scheme for unfitted estimators */\n",
       "  --sklearn-color-unfitted-level-0: #fff5e6;\n",
       "  --sklearn-color-unfitted-level-1: #f6e4d2;\n",
       "  --sklearn-color-unfitted-level-2: #ffe0b3;\n",
       "  --sklearn-color-unfitted-level-3: chocolate;\n",
       "  /* Definition of color scheme for fitted estimators */\n",
       "  --sklearn-color-fitted-level-0: #f0f8ff;\n",
       "  --sklearn-color-fitted-level-1: #d4ebff;\n",
       "  --sklearn-color-fitted-level-2: #b3dbfd;\n",
       "  --sklearn-color-fitted-level-3: cornflowerblue;\n",
       "\n",
       "  /* Specific color for light theme */\n",
       "  --sklearn-color-text-on-default-background: var(--sg-text-color, var(--theme-code-foreground, var(--jp-content-font-color1, black)));\n",
       "  --sklearn-color-background: var(--sg-background-color, var(--theme-background, var(--jp-layout-color0, white)));\n",
       "  --sklearn-color-border-box: var(--sg-text-color, var(--theme-code-foreground, var(--jp-content-font-color1, black)));\n",
       "  --sklearn-color-icon: #696969;\n",
       "\n",
       "  @media (prefers-color-scheme: dark) {\n",
       "    /* Redefinition of color scheme for dark theme */\n",
       "    --sklearn-color-text-on-default-background: var(--sg-text-color, var(--theme-code-foreground, var(--jp-content-font-color1, white)));\n",
       "    --sklearn-color-background: var(--sg-background-color, var(--theme-background, var(--jp-layout-color0, #111)));\n",
       "    --sklearn-color-border-box: var(--sg-text-color, var(--theme-code-foreground, var(--jp-content-font-color1, white)));\n",
       "    --sklearn-color-icon: #878787;\n",
       "  }\n",
       "}\n",
       "\n",
       "#sk-container-id-3 {\n",
       "  color: var(--sklearn-color-text);\n",
       "}\n",
       "\n",
       "#sk-container-id-3 pre {\n",
       "  padding: 0;\n",
       "}\n",
       "\n",
       "#sk-container-id-3 input.sk-hidden--visually {\n",
       "  border: 0;\n",
       "  clip: rect(1px 1px 1px 1px);\n",
       "  clip: rect(1px, 1px, 1px, 1px);\n",
       "  height: 1px;\n",
       "  margin: -1px;\n",
       "  overflow: hidden;\n",
       "  padding: 0;\n",
       "  position: absolute;\n",
       "  width: 1px;\n",
       "}\n",
       "\n",
       "#sk-container-id-3 div.sk-dashed-wrapped {\n",
       "  border: 1px dashed var(--sklearn-color-line);\n",
       "  margin: 0 0.4em 0.5em 0.4em;\n",
       "  box-sizing: border-box;\n",
       "  padding-bottom: 0.4em;\n",
       "  background-color: var(--sklearn-color-background);\n",
       "}\n",
       "\n",
       "#sk-container-id-3 div.sk-container {\n",
       "  /* jupyter's `normalize.less` sets `[hidden] { display: none; }`\n",
       "     but bootstrap.min.css set `[hidden] { display: none !important; }`\n",
       "     so we also need the `!important` here to be able to override the\n",
       "     default hidden behavior on the sphinx rendered scikit-learn.org.\n",
       "     See: https://github.com/scikit-learn/scikit-learn/issues/21755 */\n",
       "  display: inline-block !important;\n",
       "  position: relative;\n",
       "}\n",
       "\n",
       "#sk-container-id-3 div.sk-text-repr-fallback {\n",
       "  display: none;\n",
       "}\n",
       "\n",
       "div.sk-parallel-item,\n",
       "div.sk-serial,\n",
       "div.sk-item {\n",
       "  /* draw centered vertical line to link estimators */\n",
       "  background-image: linear-gradient(var(--sklearn-color-text-on-default-background), var(--sklearn-color-text-on-default-background));\n",
       "  background-size: 2px 100%;\n",
       "  background-repeat: no-repeat;\n",
       "  background-position: center center;\n",
       "}\n",
       "\n",
       "/* Parallel-specific style estimator block */\n",
       "\n",
       "#sk-container-id-3 div.sk-parallel-item::after {\n",
       "  content: \"\";\n",
       "  width: 100%;\n",
       "  border-bottom: 2px solid var(--sklearn-color-text-on-default-background);\n",
       "  flex-grow: 1;\n",
       "}\n",
       "\n",
       "#sk-container-id-3 div.sk-parallel {\n",
       "  display: flex;\n",
       "  align-items: stretch;\n",
       "  justify-content: center;\n",
       "  background-color: var(--sklearn-color-background);\n",
       "  position: relative;\n",
       "}\n",
       "\n",
       "#sk-container-id-3 div.sk-parallel-item {\n",
       "  display: flex;\n",
       "  flex-direction: column;\n",
       "}\n",
       "\n",
       "#sk-container-id-3 div.sk-parallel-item:first-child::after {\n",
       "  align-self: flex-end;\n",
       "  width: 50%;\n",
       "}\n",
       "\n",
       "#sk-container-id-3 div.sk-parallel-item:last-child::after {\n",
       "  align-self: flex-start;\n",
       "  width: 50%;\n",
       "}\n",
       "\n",
       "#sk-container-id-3 div.sk-parallel-item:only-child::after {\n",
       "  width: 0;\n",
       "}\n",
       "\n",
       "/* Serial-specific style estimator block */\n",
       "\n",
       "#sk-container-id-3 div.sk-serial {\n",
       "  display: flex;\n",
       "  flex-direction: column;\n",
       "  align-items: center;\n",
       "  background-color: var(--sklearn-color-background);\n",
       "  padding-right: 1em;\n",
       "  padding-left: 1em;\n",
       "}\n",
       "\n",
       "\n",
       "/* Toggleable style: style used for estimator/Pipeline/ColumnTransformer box that is\n",
       "clickable and can be expanded/collapsed.\n",
       "- Pipeline and ColumnTransformer use this feature and define the default style\n",
       "- Estimators will overwrite some part of the style using the `sk-estimator` class\n",
       "*/\n",
       "\n",
       "/* Pipeline and ColumnTransformer style (default) */\n",
       "\n",
       "#sk-container-id-3 div.sk-toggleable {\n",
       "  /* Default theme specific background. It is overwritten whether we have a\n",
       "  specific estimator or a Pipeline/ColumnTransformer */\n",
       "  background-color: var(--sklearn-color-background);\n",
       "}\n",
       "\n",
       "/* Toggleable label */\n",
       "#sk-container-id-3 label.sk-toggleable__label {\n",
       "  cursor: pointer;\n",
       "  display: flex;\n",
       "  width: 100%;\n",
       "  margin-bottom: 0;\n",
       "  padding: 0.5em;\n",
       "  box-sizing: border-box;\n",
       "  text-align: center;\n",
       "  align-items: start;\n",
       "  justify-content: space-between;\n",
       "  gap: 0.5em;\n",
       "}\n",
       "\n",
       "#sk-container-id-3 label.sk-toggleable__label .caption {\n",
       "  font-size: 0.6rem;\n",
       "  font-weight: lighter;\n",
       "  color: var(--sklearn-color-text-muted);\n",
       "}\n",
       "\n",
       "#sk-container-id-3 label.sk-toggleable__label-arrow:before {\n",
       "  /* Arrow on the left of the label */\n",
       "  content: \"▸\";\n",
       "  float: left;\n",
       "  margin-right: 0.25em;\n",
       "  color: var(--sklearn-color-icon);\n",
       "}\n",
       "\n",
       "#sk-container-id-3 label.sk-toggleable__label-arrow:hover:before {\n",
       "  color: var(--sklearn-color-text);\n",
       "}\n",
       "\n",
       "/* Toggleable content - dropdown */\n",
       "\n",
       "#sk-container-id-3 div.sk-toggleable__content {\n",
       "  max-height: 0;\n",
       "  max-width: 0;\n",
       "  overflow: hidden;\n",
       "  text-align: left;\n",
       "  /* unfitted */\n",
       "  background-color: var(--sklearn-color-unfitted-level-0);\n",
       "}\n",
       "\n",
       "#sk-container-id-3 div.sk-toggleable__content.fitted {\n",
       "  /* fitted */\n",
       "  background-color: var(--sklearn-color-fitted-level-0);\n",
       "}\n",
       "\n",
       "#sk-container-id-3 div.sk-toggleable__content pre {\n",
       "  margin: 0.2em;\n",
       "  border-radius: 0.25em;\n",
       "  color: var(--sklearn-color-text);\n",
       "  /* unfitted */\n",
       "  background-color: var(--sklearn-color-unfitted-level-0);\n",
       "}\n",
       "\n",
       "#sk-container-id-3 div.sk-toggleable__content.fitted pre {\n",
       "  /* unfitted */\n",
       "  background-color: var(--sklearn-color-fitted-level-0);\n",
       "}\n",
       "\n",
       "#sk-container-id-3 input.sk-toggleable__control:checked~div.sk-toggleable__content {\n",
       "  /* Expand drop-down */\n",
       "  max-height: 200px;\n",
       "  max-width: 100%;\n",
       "  overflow: auto;\n",
       "}\n",
       "\n",
       "#sk-container-id-3 input.sk-toggleable__control:checked~label.sk-toggleable__label-arrow:before {\n",
       "  content: \"▾\";\n",
       "}\n",
       "\n",
       "/* Pipeline/ColumnTransformer-specific style */\n",
       "\n",
       "#sk-container-id-3 div.sk-label input.sk-toggleable__control:checked~label.sk-toggleable__label {\n",
       "  color: var(--sklearn-color-text);\n",
       "  background-color: var(--sklearn-color-unfitted-level-2);\n",
       "}\n",
       "\n",
       "#sk-container-id-3 div.sk-label.fitted input.sk-toggleable__control:checked~label.sk-toggleable__label {\n",
       "  background-color: var(--sklearn-color-fitted-level-2);\n",
       "}\n",
       "\n",
       "/* Estimator-specific style */\n",
       "\n",
       "/* Colorize estimator box */\n",
       "#sk-container-id-3 div.sk-estimator input.sk-toggleable__control:checked~label.sk-toggleable__label {\n",
       "  /* unfitted */\n",
       "  background-color: var(--sklearn-color-unfitted-level-2);\n",
       "}\n",
       "\n",
       "#sk-container-id-3 div.sk-estimator.fitted input.sk-toggleable__control:checked~label.sk-toggleable__label {\n",
       "  /* fitted */\n",
       "  background-color: var(--sklearn-color-fitted-level-2);\n",
       "}\n",
       "\n",
       "#sk-container-id-3 div.sk-label label.sk-toggleable__label,\n",
       "#sk-container-id-3 div.sk-label label {\n",
       "  /* The background is the default theme color */\n",
       "  color: var(--sklearn-color-text-on-default-background);\n",
       "}\n",
       "\n",
       "/* On hover, darken the color of the background */\n",
       "#sk-container-id-3 div.sk-label:hover label.sk-toggleable__label {\n",
       "  color: var(--sklearn-color-text);\n",
       "  background-color: var(--sklearn-color-unfitted-level-2);\n",
       "}\n",
       "\n",
       "/* Label box, darken color on hover, fitted */\n",
       "#sk-container-id-3 div.sk-label.fitted:hover label.sk-toggleable__label.fitted {\n",
       "  color: var(--sklearn-color-text);\n",
       "  background-color: var(--sklearn-color-fitted-level-2);\n",
       "}\n",
       "\n",
       "/* Estimator label */\n",
       "\n",
       "#sk-container-id-3 div.sk-label label {\n",
       "  font-family: monospace;\n",
       "  font-weight: bold;\n",
       "  display: inline-block;\n",
       "  line-height: 1.2em;\n",
       "}\n",
       "\n",
       "#sk-container-id-3 div.sk-label-container {\n",
       "  text-align: center;\n",
       "}\n",
       "\n",
       "/* Estimator-specific */\n",
       "#sk-container-id-3 div.sk-estimator {\n",
       "  font-family: monospace;\n",
       "  border: 1px dotted var(--sklearn-color-border-box);\n",
       "  border-radius: 0.25em;\n",
       "  box-sizing: border-box;\n",
       "  margin-bottom: 0.5em;\n",
       "  /* unfitted */\n",
       "  background-color: var(--sklearn-color-unfitted-level-0);\n",
       "}\n",
       "\n",
       "#sk-container-id-3 div.sk-estimator.fitted {\n",
       "  /* fitted */\n",
       "  background-color: var(--sklearn-color-fitted-level-0);\n",
       "}\n",
       "\n",
       "/* on hover */\n",
       "#sk-container-id-3 div.sk-estimator:hover {\n",
       "  /* unfitted */\n",
       "  background-color: var(--sklearn-color-unfitted-level-2);\n",
       "}\n",
       "\n",
       "#sk-container-id-3 div.sk-estimator.fitted:hover {\n",
       "  /* fitted */\n",
       "  background-color: var(--sklearn-color-fitted-level-2);\n",
       "}\n",
       "\n",
       "/* Specification for estimator info (e.g. \"i\" and \"?\") */\n",
       "\n",
       "/* Common style for \"i\" and \"?\" */\n",
       "\n",
       ".sk-estimator-doc-link,\n",
       "a:link.sk-estimator-doc-link,\n",
       "a:visited.sk-estimator-doc-link {\n",
       "  float: right;\n",
       "  font-size: smaller;\n",
       "  line-height: 1em;\n",
       "  font-family: monospace;\n",
       "  background-color: var(--sklearn-color-background);\n",
       "  border-radius: 1em;\n",
       "  height: 1em;\n",
       "  width: 1em;\n",
       "  text-decoration: none !important;\n",
       "  margin-left: 0.5em;\n",
       "  text-align: center;\n",
       "  /* unfitted */\n",
       "  border: var(--sklearn-color-unfitted-level-1) 1pt solid;\n",
       "  color: var(--sklearn-color-unfitted-level-1);\n",
       "}\n",
       "\n",
       ".sk-estimator-doc-link.fitted,\n",
       "a:link.sk-estimator-doc-link.fitted,\n",
       "a:visited.sk-estimator-doc-link.fitted {\n",
       "  /* fitted */\n",
       "  border: var(--sklearn-color-fitted-level-1) 1pt solid;\n",
       "  color: var(--sklearn-color-fitted-level-1);\n",
       "}\n",
       "\n",
       "/* On hover */\n",
       "div.sk-estimator:hover .sk-estimator-doc-link:hover,\n",
       ".sk-estimator-doc-link:hover,\n",
       "div.sk-label-container:hover .sk-estimator-doc-link:hover,\n",
       ".sk-estimator-doc-link:hover {\n",
       "  /* unfitted */\n",
       "  background-color: var(--sklearn-color-unfitted-level-3);\n",
       "  color: var(--sklearn-color-background);\n",
       "  text-decoration: none;\n",
       "}\n",
       "\n",
       "div.sk-estimator.fitted:hover .sk-estimator-doc-link.fitted:hover,\n",
       ".sk-estimator-doc-link.fitted:hover,\n",
       "div.sk-label-container:hover .sk-estimator-doc-link.fitted:hover,\n",
       ".sk-estimator-doc-link.fitted:hover {\n",
       "  /* fitted */\n",
       "  background-color: var(--sklearn-color-fitted-level-3);\n",
       "  color: var(--sklearn-color-background);\n",
       "  text-decoration: none;\n",
       "}\n",
       "\n",
       "/* Span, style for the box shown on hovering the info icon */\n",
       ".sk-estimator-doc-link span {\n",
       "  display: none;\n",
       "  z-index: 9999;\n",
       "  position: relative;\n",
       "  font-weight: normal;\n",
       "  right: .2ex;\n",
       "  padding: .5ex;\n",
       "  margin: .5ex;\n",
       "  width: min-content;\n",
       "  min-width: 20ex;\n",
       "  max-width: 50ex;\n",
       "  color: var(--sklearn-color-text);\n",
       "  box-shadow: 2pt 2pt 4pt #999;\n",
       "  /* unfitted */\n",
       "  background: var(--sklearn-color-unfitted-level-0);\n",
       "  border: .5pt solid var(--sklearn-color-unfitted-level-3);\n",
       "}\n",
       "\n",
       ".sk-estimator-doc-link.fitted span {\n",
       "  /* fitted */\n",
       "  background: var(--sklearn-color-fitted-level-0);\n",
       "  border: var(--sklearn-color-fitted-level-3);\n",
       "}\n",
       "\n",
       ".sk-estimator-doc-link:hover span {\n",
       "  display: block;\n",
       "}\n",
       "\n",
       "/* \"?\"-specific style due to the `<a>` HTML tag */\n",
       "\n",
       "#sk-container-id-3 a.estimator_doc_link {\n",
       "  float: right;\n",
       "  font-size: 1rem;\n",
       "  line-height: 1em;\n",
       "  font-family: monospace;\n",
       "  background-color: var(--sklearn-color-background);\n",
       "  border-radius: 1rem;\n",
       "  height: 1rem;\n",
       "  width: 1rem;\n",
       "  text-decoration: none;\n",
       "  /* unfitted */\n",
       "  color: var(--sklearn-color-unfitted-level-1);\n",
       "  border: var(--sklearn-color-unfitted-level-1) 1pt solid;\n",
       "}\n",
       "\n",
       "#sk-container-id-3 a.estimator_doc_link.fitted {\n",
       "  /* fitted */\n",
       "  border: var(--sklearn-color-fitted-level-1) 1pt solid;\n",
       "  color: var(--sklearn-color-fitted-level-1);\n",
       "}\n",
       "\n",
       "/* On hover */\n",
       "#sk-container-id-3 a.estimator_doc_link:hover {\n",
       "  /* unfitted */\n",
       "  background-color: var(--sklearn-color-unfitted-level-3);\n",
       "  color: var(--sklearn-color-background);\n",
       "  text-decoration: none;\n",
       "}\n",
       "\n",
       "#sk-container-id-3 a.estimator_doc_link.fitted:hover {\n",
       "  /* fitted */\n",
       "  background-color: var(--sklearn-color-fitted-level-3);\n",
       "}\n",
       "</style><div id=\"sk-container-id-3\" class=\"sk-top-container\"><div class=\"sk-text-repr-fallback\"><pre>RFE(estimator=RandomForestClassifier(random_state=42), n_features_to_select=10)</pre><b>In a Jupyter environment, please rerun this cell to show the HTML representation or trust the notebook. <br />On GitHub, the HTML representation is unable to render, please try loading this page with nbviewer.org.</b></div><div class=\"sk-container\" hidden><div class=\"sk-item sk-dashed-wrapped\"><div class=\"sk-label-container\"><div class=\"sk-label fitted sk-toggleable\"><input class=\"sk-toggleable__control sk-hidden--visually\" id=\"sk-estimator-id-7\" type=\"checkbox\" ><label for=\"sk-estimator-id-7\" class=\"sk-toggleable__label fitted sk-toggleable__label-arrow\"><div><div>RFE</div></div><div><a class=\"sk-estimator-doc-link fitted\" rel=\"noreferrer\" target=\"_blank\" href=\"https://scikit-learn.org/1.6/modules/generated/sklearn.feature_selection.RFE.html\">?<span>Documentation for RFE</span></a><span class=\"sk-estimator-doc-link fitted\">i<span>Fitted</span></span></div></label><div class=\"sk-toggleable__content fitted\"><pre>RFE(estimator=RandomForestClassifier(random_state=42), n_features_to_select=10)</pre></div> </div></div><div class=\"sk-parallel\"><div class=\"sk-parallel-item\"><div class=\"sk-item\"><div class=\"sk-label-container\"><div class=\"sk-label fitted sk-toggleable\"><input class=\"sk-toggleable__control sk-hidden--visually\" id=\"sk-estimator-id-8\" type=\"checkbox\" ><label for=\"sk-estimator-id-8\" class=\"sk-toggleable__label fitted sk-toggleable__label-arrow\"><div><div>estimator: RandomForestClassifier</div></div></label><div class=\"sk-toggleable__content fitted\"><pre>RandomForestClassifier(random_state=42)</pre></div> </div></div><div class=\"sk-serial\"><div class=\"sk-item\"><div class=\"sk-estimator fitted sk-toggleable\"><input class=\"sk-toggleable__control sk-hidden--visually\" id=\"sk-estimator-id-9\" type=\"checkbox\" ><label for=\"sk-estimator-id-9\" class=\"sk-toggleable__label fitted sk-toggleable__label-arrow\"><div><div>RandomForestClassifier</div></div><div><a class=\"sk-estimator-doc-link fitted\" rel=\"noreferrer\" target=\"_blank\" href=\"https://scikit-learn.org/1.6/modules/generated/sklearn.ensemble.RandomForestClassifier.html\">?<span>Documentation for RandomForestClassifier</span></a></div></label><div class=\"sk-toggleable__content fitted\"><pre>RandomForestClassifier(random_state=42)</pre></div> </div></div></div></div></div></div></div></div></div>"
      ],
      "text/plain": [
       "RFE(estimator=RandomForestClassifier(random_state=42), n_features_to_select=10)"
      ]
     },
     "execution_count": 591,
     "metadata": {},
     "output_type": "execute_result"
    }
   ],
   "source": [
    "model=RandomForestClassifier(random_state=42)\n",
    "rfe=RFE(model,n_features_to_select=10)\n",
    "rfe.fit(x,y)"
   ]
  },
  {
   "cell_type": "code",
   "execution_count": 592,
   "id": "89be8e5b",
   "metadata": {},
   "outputs": [
    {
     "data": {
      "text/plain": [
       "array([False, False, False, False, False,  True,  True,  True,  True,\n",
       "        True,  True,  True, False,  True, False,  True,  True, False,\n",
       "       False, False, False])"
      ]
     },
     "execution_count": 592,
     "metadata": {},
     "output_type": "execute_result"
    }
   ],
   "source": [
    "rfe.get_support()"
   ]
  },
  {
   "cell_type": "code",
   "execution_count": 593,
   "id": "f56f9456",
   "metadata": {},
   "outputs": [
    {
     "data": {
      "text/plain": [
       "Index(['Num_Bank_Accounts', 'Num_Credit_Card', 'Interest_Rate', 'Num_of_Loan',\n",
       "       'Delay_from_due_date', 'Num_of_Delayed_Payment', 'Changed_Credit_Limit',\n",
       "       'Outstanding_Debt', 'Credit_History_Age', 'Payment_of_Min_Amount'],\n",
       "      dtype='object')"
      ]
     },
     "execution_count": 593,
     "metadata": {},
     "output_type": "execute_result"
    }
   ],
   "source": [
    "x.columns[rfe.get_support()]"
   ]
  },
  {
   "cell_type": "code",
   "execution_count": 594,
   "id": "61e21215",
   "metadata": {},
   "outputs": [],
   "source": [
    "x=df[x.columns[rfe.get_support()]]"
   ]
  },
  {
   "cell_type": "code",
   "execution_count": 595,
   "id": "a9de77c9",
   "metadata": {},
   "outputs": [],
   "source": [
    "# bad -0\n",
    "# standard -1\n",
    "# good -2\n",
    "\n",
    "# no -0\n",
    "# yes -1"
   ]
  },
  {
   "cell_type": "code",
   "execution_count": 596,
   "id": "0782f9b2",
   "metadata": {},
   "outputs": [],
   "source": [
    "z=x.copy()\n",
    "z['credit_mix']=y\n"
   ]
  },
  {
   "cell_type": "code",
   "execution_count": 597,
   "id": "3772a2c3",
   "metadata": {},
   "outputs": [
    {
     "data": {
      "text/html": [
       "<div>\n",
       "<style scoped>\n",
       "    .dataframe tbody tr th:only-of-type {\n",
       "        vertical-align: middle;\n",
       "    }\n",
       "\n",
       "    .dataframe tbody tr th {\n",
       "        vertical-align: top;\n",
       "    }\n",
       "\n",
       "    .dataframe thead th {\n",
       "        text-align: right;\n",
       "    }\n",
       "</style>\n",
       "<table border=\"1\" class=\"dataframe\">\n",
       "  <thead>\n",
       "    <tr style=\"text-align: right;\">\n",
       "      <th></th>\n",
       "      <th>Num_Bank_Accounts</th>\n",
       "      <th>Num_Credit_Card</th>\n",
       "      <th>Interest_Rate</th>\n",
       "      <th>Num_of_Loan</th>\n",
       "      <th>Delay_from_due_date</th>\n",
       "      <th>Num_of_Delayed_Payment</th>\n",
       "      <th>Changed_Credit_Limit</th>\n",
       "      <th>Outstanding_Debt</th>\n",
       "      <th>Credit_History_Age</th>\n",
       "      <th>Payment_of_Min_Amount</th>\n",
       "      <th>credit_mix</th>\n",
       "    </tr>\n",
       "  </thead>\n",
       "  <tbody>\n",
       "    <tr>\n",
       "      <th>1</th>\n",
       "      <td>3</td>\n",
       "      <td>4</td>\n",
       "      <td>3</td>\n",
       "      <td>4.0</td>\n",
       "      <td>3</td>\n",
       "      <td>9.0</td>\n",
       "      <td>13.27</td>\n",
       "      <td>809.98</td>\n",
       "      <td>274</td>\n",
       "      <td>0</td>\n",
       "      <td>2.0</td>\n",
       "    </tr>\n",
       "    <tr>\n",
       "      <th>5</th>\n",
       "      <td>2</td>\n",
       "      <td>4</td>\n",
       "      <td>6</td>\n",
       "      <td>1.0</td>\n",
       "      <td>3</td>\n",
       "      <td>3.0</td>\n",
       "      <td>5.42</td>\n",
       "      <td>605.03</td>\n",
       "      <td>328</td>\n",
       "      <td>0</td>\n",
       "      <td>2.0</td>\n",
       "    </tr>\n",
       "    <tr>\n",
       "      <th>9</th>\n",
       "      <td>1</td>\n",
       "      <td>5</td>\n",
       "      <td>8</td>\n",
       "      <td>3.0</td>\n",
       "      <td>6</td>\n",
       "      <td>3.0</td>\n",
       "      <td>2.10</td>\n",
       "      <td>1303.01</td>\n",
       "      <td>222</td>\n",
       "      <td>0</td>\n",
       "      <td>2.0</td>\n",
       "    </tr>\n",
       "    <tr>\n",
       "      <th>12</th>\n",
       "      <td>2</td>\n",
       "      <td>5</td>\n",
       "      <td>4</td>\n",
       "      <td>1.0</td>\n",
       "      <td>5</td>\n",
       "      <td>6.0</td>\n",
       "      <td>1.99</td>\n",
       "      <td>632.46</td>\n",
       "      <td>215</td>\n",
       "      <td>0</td>\n",
       "      <td>2.0</td>\n",
       "    </tr>\n",
       "    <tr>\n",
       "      <th>14</th>\n",
       "      <td>2</td>\n",
       "      <td>5</td>\n",
       "      <td>4</td>\n",
       "      <td>1.0</td>\n",
       "      <td>5</td>\n",
       "      <td>6.0</td>\n",
       "      <td>1.99</td>\n",
       "      <td>632.46</td>\n",
       "      <td>217</td>\n",
       "      <td>0</td>\n",
       "      <td>2.0</td>\n",
       "    </tr>\n",
       "    <tr>\n",
       "      <th>...</th>\n",
       "      <td>...</td>\n",
       "      <td>...</td>\n",
       "      <td>...</td>\n",
       "      <td>...</td>\n",
       "      <td>...</td>\n",
       "      <td>...</td>\n",
       "      <td>...</td>\n",
       "      <td>...</td>\n",
       "      <td>...</td>\n",
       "      <td>...</td>\n",
       "      <td>...</td>\n",
       "    </tr>\n",
       "    <tr>\n",
       "      <th>49951</th>\n",
       "      <td>2</td>\n",
       "      <td>3</td>\n",
       "      <td>7</td>\n",
       "      <td>1.0</td>\n",
       "      <td>2</td>\n",
       "      <td>10.0</td>\n",
       "      <td>13.66</td>\n",
       "      <td>1245.01</td>\n",
       "      <td>290</td>\n",
       "      <td>0</td>\n",
       "      <td>2.0</td>\n",
       "    </tr>\n",
       "    <tr>\n",
       "      <th>49956</th>\n",
       "      <td>8</td>\n",
       "      <td>5</td>\n",
       "      <td>12</td>\n",
       "      <td>4.0</td>\n",
       "      <td>25</td>\n",
       "      <td>11.0</td>\n",
       "      <td>2.97</td>\n",
       "      <td>909.01</td>\n",
       "      <td>203</td>\n",
       "      <td>0</td>\n",
       "      <td>2.0</td>\n",
       "    </tr>\n",
       "    <tr>\n",
       "      <th>49957</th>\n",
       "      <td>8</td>\n",
       "      <td>5</td>\n",
       "      <td>12</td>\n",
       "      <td>4.0</td>\n",
       "      <td>25</td>\n",
       "      <td>14.0</td>\n",
       "      <td>2.97</td>\n",
       "      <td>909.01</td>\n",
       "      <td>204</td>\n",
       "      <td>0</td>\n",
       "      <td>2.0</td>\n",
       "    </tr>\n",
       "    <tr>\n",
       "      <th>49976</th>\n",
       "      <td>4</td>\n",
       "      <td>4</td>\n",
       "      <td>3</td>\n",
       "      <td>4.0</td>\n",
       "      <td>11</td>\n",
       "      <td>7.0</td>\n",
       "      <td>1.59</td>\n",
       "      <td>678.57</td>\n",
       "      <td>211</td>\n",
       "      <td>0</td>\n",
       "      <td>2.0</td>\n",
       "    </tr>\n",
       "    <tr>\n",
       "      <th>49997</th>\n",
       "      <td>4</td>\n",
       "      <td>6</td>\n",
       "      <td>7</td>\n",
       "      <td>2.0</td>\n",
       "      <td>23</td>\n",
       "      <td>5.0</td>\n",
       "      <td>13.50</td>\n",
       "      <td>502.38</td>\n",
       "      <td>384</td>\n",
       "      <td>0</td>\n",
       "      <td>2.0</td>\n",
       "    </tr>\n",
       "  </tbody>\n",
       "</table>\n",
       "<p>2723 rows × 11 columns</p>\n",
       "</div>"
      ],
      "text/plain": [
       "       Num_Bank_Accounts  Num_Credit_Card  ...  Payment_of_Min_Amount  credit_mix\n",
       "1                      3                4  ...                      0         2.0\n",
       "5                      2                4  ...                      0         2.0\n",
       "9                      1                5  ...                      0         2.0\n",
       "12                     2                5  ...                      0         2.0\n",
       "14                     2                5  ...                      0         2.0\n",
       "...                  ...              ...  ...                    ...         ...\n",
       "49951                  2                3  ...                      0         2.0\n",
       "49956                  8                5  ...                      0         2.0\n",
       "49957                  8                5  ...                      0         2.0\n",
       "49976                  4                4  ...                      0         2.0\n",
       "49997                  4                6  ...                      0         2.0\n",
       "\n",
       "[2723 rows x 11 columns]"
      ]
     },
     "execution_count": 597,
     "metadata": {},
     "output_type": "execute_result"
    }
   ],
   "source": [
    "z[(z['credit_mix']==2)]"
   ]
  },
  {
   "cell_type": "code",
   "execution_count": 598,
   "id": "0ba5664d",
   "metadata": {},
   "outputs": [],
   "source": [
    "minmax=MinMaxScaler()\n",
    "x_scaled=minmax.fit_transform(x)"
   ]
  },
  {
   "cell_type": "code",
   "execution_count": 599,
   "id": "5336c092",
   "metadata": {},
   "outputs": [],
   "source": [
    "x_train,x_test,y_train,y_test=train_test_split(x_scaled,y,test_size=0.3,random_state=42)"
   ]
  },
  {
   "cell_type": "code",
   "execution_count": 611,
   "id": "c81698c0",
   "metadata": {},
   "outputs": [
    {
     "name": "stdout",
     "output_type": "stream",
     "text": [
      "Accuracy score of test data-KNeighborsClassifier: 93.20066334991708\n",
      "classification_report\n",
      "               precision    recall  f1-score   support\n",
      "\n",
      "         0.0       0.93      0.96      0.95      1033\n",
      "         1.0       0.95      0.91      0.93      1796\n",
      "         2.0       0.90      0.94      0.92       789\n",
      "\n",
      "    accuracy                           0.93      3618\n",
      "   macro avg       0.93      0.94      0.93      3618\n",
      "weighted avg       0.93      0.93      0.93      3618\n",
      "\n",
      "\n",
      "Accuracy score of test data-SVC: 93.31122166943062\n",
      "classification_report\n",
      "               precision    recall  f1-score   support\n",
      "\n",
      "         0.0       0.93      0.96      0.95      1033\n",
      "         1.0       0.95      0.92      0.93      1796\n",
      "         2.0       0.91      0.93      0.92       789\n",
      "\n",
      "    accuracy                           0.93      3618\n",
      "   macro avg       0.93      0.94      0.93      3618\n",
      "weighted avg       0.93      0.93      0.93      3618\n",
      "\n",
      "\n",
      "Accuracy score of test data-MultinomialNB: 70.37037037037037\n",
      "classification_report\n",
      "               precision    recall  f1-score   support\n",
      "\n",
      "         0.0       1.00      0.43      0.60      1033\n",
      "         1.0       0.63      0.96      0.76      1796\n",
      "         2.0       0.84      0.48      0.61       789\n",
      "\n",
      "    accuracy                           0.70      3618\n",
      "   macro avg       0.82      0.62      0.66      3618\n",
      "weighted avg       0.78      0.70      0.68      3618\n",
      "\n",
      "\n",
      "Accuracy score of test data-DecisionTreeClassifier: 93.69817578772802\n",
      "classification_report\n",
      "               precision    recall  f1-score   support\n",
      "\n",
      "         0.0       0.94      0.93      0.94      1033\n",
      "         1.0       0.94      0.93      0.94      1796\n",
      "         2.0       0.92      0.96      0.94       789\n",
      "\n",
      "    accuracy                           0.94      3618\n",
      "   macro avg       0.94      0.94      0.94      3618\n",
      "weighted avg       0.94      0.94      0.94      3618\n",
      "\n",
      "\n",
      "Accuracy score of test data-RandomForestClassifier: 96.43449419568823\n",
      "classification_report\n",
      "               precision    recall  f1-score   support\n",
      "\n",
      "         0.0       0.96      0.98      0.97      1033\n",
      "         1.0       0.97      0.95      0.96      1796\n",
      "         2.0       0.94      0.97      0.96       789\n",
      "\n",
      "    accuracy                           0.96      3618\n",
      "   macro avg       0.96      0.97      0.96      3618\n",
      "weighted avg       0.96      0.96      0.96      3618\n",
      "\n",
      "\n",
      "Accuracy score of test data-GradientBoostingClassifier: 94.58264234383637\n",
      "classification_report\n",
      "               precision    recall  f1-score   support\n",
      "\n",
      "         0.0       0.95      0.97      0.96      1033\n",
      "         1.0       0.96      0.93      0.94      1796\n",
      "         2.0       0.92      0.95      0.93       789\n",
      "\n",
      "    accuracy                           0.95      3618\n",
      "   macro avg       0.94      0.95      0.95      3618\n",
      "weighted avg       0.95      0.95      0.95      3618\n",
      "\n",
      "\n",
      "Accuracy score of test data-AdaBoostClassifier: 84.5771144278607\n",
      "classification_report\n",
      "               precision    recall  f1-score   support\n",
      "\n",
      "         0.0       0.81      0.82      0.81      1033\n",
      "         1.0       0.88      0.79      0.84      1796\n",
      "         2.0       0.82      1.00      0.90       789\n",
      "\n",
      "    accuracy                           0.85      3618\n",
      "   macro avg       0.84      0.87      0.85      3618\n",
      "weighted avg       0.85      0.85      0.84      3618\n",
      "\n",
      "\n",
      "Accuracy score of test data-XGBClassifier: 96.26865671641791\n",
      "classification_report\n",
      "               precision    recall  f1-score   support\n",
      "\n",
      "         0.0       0.97      0.98      0.97      1033\n",
      "         1.0       0.97      0.95      0.96      1796\n",
      "         2.0       0.94      0.97      0.95       789\n",
      "\n",
      "    accuracy                           0.96      3618\n",
      "   macro avg       0.96      0.97      0.96      3618\n",
      "weighted avg       0.96      0.96      0.96      3618\n",
      "\n",
      "\n"
     ]
    },
    {
     "data": {
      "text/plain": [
       "{'KNeighborsClassifier': 93.20066334991708,\n",
       " 'SVC': 93.31122166943062,\n",
       " 'MultinomialNB': 70.37037037037037,\n",
       " 'DecisionTreeClassifier': 93.69817578772802,\n",
       " 'RandomForestClassifier': 96.43449419568823,\n",
       " 'GradientBoostingClassifier': 94.58264234383637,\n",
       " 'AdaBoostClassifier': 84.5771144278607,\n",
       " 'XGBClassifier': 96.26865671641791}"
      ]
     },
     "execution_count": 611,
     "metadata": {},
     "output_type": "execute_result"
    }
   ],
   "source": [
    "from sklearn.metrics import classification_report\n",
    "models=[KNeighborsClassifier(),SVC(),MultinomialNB(),DecisionTreeClassifier(random_state=42),RandomForestClassifier(random_state=42),GradientBoostingClassifier(random_state=42),AdaBoostClassifier(random_state=42),XGBClassifier(random_state=42)]\n",
    "dict_models={}\n",
    "for model in models:\n",
    "  model.fit(x_train,y_train)\n",
    "  y_pred=model.predict(x_test)\n",
    "  print(f'Accuracy score of test data-{str(model).split('(')[0]}:',accuracy_score(y_test,y_pred)*100)\n",
    "  print(\"classification_report\\n\",classification_report(y_test,y_pred))\n",
    "  print()\n",
    "  dict_models[str(model).split('(')[0]]=accuracy_score(y_test,y_pred)*100\n",
    "dict_models"
   ]
  },
  {
   "cell_type": "code",
   "execution_count": 601,
   "id": "cdd30704",
   "metadata": {},
   "outputs": [
    {
     "data": {
      "text/plain": [
       "{'MultinomialNB': 70.37037037037037,\n",
       " 'AdaBoostClassifier': 84.5771144278607,\n",
       " 'KNeighborsClassifier': 93.20066334991708,\n",
       " 'SVC': 93.31122166943062,\n",
       " 'DecisionTreeClassifier': 93.69817578772802,\n",
       " 'GradientBoostingClassifier': 94.58264234383637,\n",
       " 'XGBClassifier': 96.26865671641791,\n",
       " 'RandomForestClassifier': 96.43449419568823}"
      ]
     },
     "execution_count": 601,
     "metadata": {},
     "output_type": "execute_result"
    }
   ],
   "source": [
    "dict_models=dict(sorted(dict_models.items(),key=lambda x:x[1]))\n",
    "dict_models"
   ]
  },
  {
   "cell_type": "code",
   "execution_count": 602,
   "id": "06d14ded",
   "metadata": {},
   "outputs": [
    {
     "data": {
      "image/png": "[encoded data removed]",
      "text/plain": [
       "<Figure size 640x480 with 1 Axes>"
      ]
     },
     "metadata": {},
     "output_type": "display_data"
    }
   ],
   "source": [
    "plt.barh([''.join(re.findall(r'[A-Z]+',i)) for i in dict_models.keys()],dict_models.values(),color=plt.cm.tab10(range(len(dict_models.keys()))))\n",
    "plt.title('Bar chart of models and their accuracies')\n",
    "plt.xlabel('Accuracy')\n",
    "plt.ylabel('Models')\n",
    "plt.show()"
   ]
  },
  {
   "cell_type": "code",
   "execution_count": 603,
   "id": "b4188c17",
   "metadata": {},
   "outputs": [
    {
     "data": {
      "text/plain": [
       "96.43449419568823"
      ]
     },
     "execution_count": 603,
     "metadata": {},
     "output_type": "execute_result"
    }
   ],
   "source": [
    "forest=RandomForestClassifier(random_state=42)\n",
    "forest.fit(x_train,y_train)\n",
    "y_pred=forest.predict(x_test)\n",
    "accuracy_score(y_test,y_pred)*100"
   ]
  },
  {
   "cell_type": "code",
   "execution_count": 604,
   "id": "29f7e6af",
   "metadata": {},
   "outputs": [
    {
     "data": {
      "text/plain": [
       "100.0"
      ]
     },
     "execution_count": 604,
     "metadata": {},
     "output_type": "execute_result"
    }
   ],
   "source": [
    "forest.score(x_train,y_train)*100"
   ]
  },
  {
   "cell_type": "markdown",
   "id": "f2738117",
   "metadata": {},
   "source": [
    "pickling"
   ]
  },
  {
   "cell_type": "code",
   "execution_count": 605,
   "id": "724e1d70",
   "metadata": {},
   "outputs": [],
   "source": [
    "dict1={'model':forest,'output':credit_mix,'Payment_of_Min_Amount':Payment_of_Min_Amount,'scaler':minmax}\n",
    "with open('credit.pkl','wb') as obj1:\n",
    "  pickle.dump(dict1,obj1)"
   ]
  },
  {
   "cell_type": "code",
   "execution_count": 606,
   "id": "5727fb98",
   "metadata": {},
   "outputs": [
    {
     "data": {
      "text/plain": [
       "1        2.0\n",
       "5        2.0\n",
       "9        2.0\n",
       "12       2.0\n",
       "14       2.0\n",
       "        ... \n",
       "49966    0.0\n",
       "49976    2.0\n",
       "49992    0.0\n",
       "49993    0.0\n",
       "49997    2.0\n",
       "Name: Credit_Mix, Length: 12060, dtype: float64"
      ]
     },
     "execution_count": 606,
     "metadata": {},
     "output_type": "execute_result"
    }
   ],
   "source": [
    "y"
   ]
  },
  {
   "cell_type": "code",
   "execution_count": 607,
   "id": "27293f2c",
   "metadata": {},
   "outputs": [
    {
     "data": {
      "text/plain": [
       "1        2.0\n",
       "5        2.0\n",
       "9        2.0\n",
       "12       2.0\n",
       "14       2.0\n",
       "        ... \n",
       "49966    0.0\n",
       "49976    2.0\n",
       "49992    0.0\n",
       "49993    0.0\n",
       "49997    2.0\n",
       "Name: Credit_Mix, Length: 12060, dtype: float64"
      ]
     },
     "execution_count": 607,
     "metadata": {},
     "output_type": "execute_result"
    }
   ],
   "source": [
    "y"
   ]
  },
  {
   "cell_type": "code",
   "execution_count": 608,
   "id": "996a489c",
   "metadata": {},
   "outputs": [
    {
     "data": {
      "text/html": [
       "<div>\n",
       "<style scoped>\n",
       "    .dataframe tbody tr th:only-of-type {\n",
       "        vertical-align: middle;\n",
       "    }\n",
       "\n",
       "    .dataframe tbody tr th {\n",
       "        vertical-align: top;\n",
       "    }\n",
       "\n",
       "    .dataframe thead th {\n",
       "        text-align: right;\n",
       "    }\n",
       "</style>\n",
       "<table border=\"1\" class=\"dataframe\">\n",
       "  <thead>\n",
       "    <tr style=\"text-align: right;\">\n",
       "      <th></th>\n",
       "      <th>Num_Bank_Accounts</th>\n",
       "      <th>Num_Credit_Card</th>\n",
       "      <th>Interest_Rate</th>\n",
       "      <th>Num_of_Loan</th>\n",
       "      <th>Delay_from_due_date</th>\n",
       "      <th>Num_of_Delayed_Payment</th>\n",
       "      <th>Changed_Credit_Limit</th>\n",
       "      <th>Outstanding_Debt</th>\n",
       "      <th>Credit_History_Age</th>\n",
       "      <th>Payment_of_Min_Amount</th>\n",
       "    </tr>\n",
       "  </thead>\n",
       "  <tbody>\n",
       "    <tr>\n",
       "      <th>1</th>\n",
       "      <td>3</td>\n",
       "      <td>4</td>\n",
       "      <td>3</td>\n",
       "      <td>4.0</td>\n",
       "      <td>3</td>\n",
       "      <td>9.0</td>\n",
       "      <td>13.27</td>\n",
       "      <td>809.98</td>\n",
       "      <td>274</td>\n",
       "      <td>0</td>\n",
       "    </tr>\n",
       "    <tr>\n",
       "      <th>5</th>\n",
       "      <td>2</td>\n",
       "      <td>4</td>\n",
       "      <td>6</td>\n",
       "      <td>1.0</td>\n",
       "      <td>3</td>\n",
       "      <td>3.0</td>\n",
       "      <td>5.42</td>\n",
       "      <td>605.03</td>\n",
       "      <td>328</td>\n",
       "      <td>0</td>\n",
       "    </tr>\n",
       "    <tr>\n",
       "      <th>9</th>\n",
       "      <td>1</td>\n",
       "      <td>5</td>\n",
       "      <td>8</td>\n",
       "      <td>3.0</td>\n",
       "      <td>6</td>\n",
       "      <td>3.0</td>\n",
       "      <td>2.10</td>\n",
       "      <td>1303.01</td>\n",
       "      <td>222</td>\n",
       "      <td>0</td>\n",
       "    </tr>\n",
       "    <tr>\n",
       "      <th>12</th>\n",
       "      <td>2</td>\n",
       "      <td>5</td>\n",
       "      <td>4</td>\n",
       "      <td>1.0</td>\n",
       "      <td>5</td>\n",
       "      <td>6.0</td>\n",
       "      <td>1.99</td>\n",
       "      <td>632.46</td>\n",
       "      <td>215</td>\n",
       "      <td>0</td>\n",
       "    </tr>\n",
       "    <tr>\n",
       "      <th>14</th>\n",
       "      <td>2</td>\n",
       "      <td>5</td>\n",
       "      <td>4</td>\n",
       "      <td>1.0</td>\n",
       "      <td>5</td>\n",
       "      <td>6.0</td>\n",
       "      <td>1.99</td>\n",
       "      <td>632.46</td>\n",
       "      <td>217</td>\n",
       "      <td>0</td>\n",
       "    </tr>\n",
       "    <tr>\n",
       "      <th>...</th>\n",
       "      <td>...</td>\n",
       "      <td>...</td>\n",
       "      <td>...</td>\n",
       "      <td>...</td>\n",
       "      <td>...</td>\n",
       "      <td>...</td>\n",
       "      <td>...</td>\n",
       "      <td>...</td>\n",
       "      <td>...</td>\n",
       "      <td>...</td>\n",
       "    </tr>\n",
       "    <tr>\n",
       "      <th>49966</th>\n",
       "      <td>6</td>\n",
       "      <td>7</td>\n",
       "      <td>15</td>\n",
       "      <td>4.0</td>\n",
       "      <td>53</td>\n",
       "      <td>16.0</td>\n",
       "      <td>17.13</td>\n",
       "      <td>1453.61</td>\n",
       "      <td>139</td>\n",
       "      <td>1</td>\n",
       "    </tr>\n",
       "    <tr>\n",
       "      <th>49976</th>\n",
       "      <td>4</td>\n",
       "      <td>4</td>\n",
       "      <td>3</td>\n",
       "      <td>4.0</td>\n",
       "      <td>11</td>\n",
       "      <td>7.0</td>\n",
       "      <td>1.59</td>\n",
       "      <td>678.57</td>\n",
       "      <td>211</td>\n",
       "      <td>0</td>\n",
       "    </tr>\n",
       "    <tr>\n",
       "      <th>49992</th>\n",
       "      <td>10</td>\n",
       "      <td>8</td>\n",
       "      <td>29</td>\n",
       "      <td>5.0</td>\n",
       "      <td>33</td>\n",
       "      <td>25.0</td>\n",
       "      <td>18.31</td>\n",
       "      <td>3571.70</td>\n",
       "      <td>76</td>\n",
       "      <td>1</td>\n",
       "    </tr>\n",
       "    <tr>\n",
       "      <th>49993</th>\n",
       "      <td>10</td>\n",
       "      <td>8</td>\n",
       "      <td>29</td>\n",
       "      <td>5.0</td>\n",
       "      <td>33</td>\n",
       "      <td>25.0</td>\n",
       "      <td>18.31</td>\n",
       "      <td>3571.70</td>\n",
       "      <td>77</td>\n",
       "      <td>1</td>\n",
       "    </tr>\n",
       "    <tr>\n",
       "      <th>49997</th>\n",
       "      <td>4</td>\n",
       "      <td>6</td>\n",
       "      <td>7</td>\n",
       "      <td>2.0</td>\n",
       "      <td>23</td>\n",
       "      <td>5.0</td>\n",
       "      <td>13.50</td>\n",
       "      <td>502.38</td>\n",
       "      <td>384</td>\n",
       "      <td>0</td>\n",
       "    </tr>\n",
       "  </tbody>\n",
       "</table>\n",
       "<p>12060 rows × 10 columns</p>\n",
       "</div>"
      ],
      "text/plain": [
       "       Num_Bank_Accounts  ...  Payment_of_Min_Amount\n",
       "1                      3  ...                      0\n",
       "5                      2  ...                      0\n",
       "9                      1  ...                      0\n",
       "12                     2  ...                      0\n",
       "14                     2  ...                      0\n",
       "...                  ...  ...                    ...\n",
       "49966                  6  ...                      1\n",
       "49976                  4  ...                      0\n",
       "49992                 10  ...                      1\n",
       "49993                 10  ...                      1\n",
       "49997                  4  ...                      0\n",
       "\n",
       "[12060 rows x 10 columns]"
      ]
     },
     "execution_count": 608,
     "metadata": {},
     "output_type": "execute_result"
    }
   ],
   "source": [
    "x"
   ]
  },
  {
   "cell_type": "code",
   "execution_count": 609,
   "id": "80abdf12",
   "metadata": {},
   "outputs": [
    {
     "data": {
      "text/plain": [
       "1        2.0\n",
       "5        2.0\n",
       "9        2.0\n",
       "12       2.0\n",
       "14       2.0\n",
       "        ... \n",
       "49966    0.0\n",
       "49976    2.0\n",
       "49992    0.0\n",
       "49993    0.0\n",
       "49997    2.0\n",
       "Name: Credit_Mix, Length: 12060, dtype: float64"
      ]
     },
     "execution_count": 609,
     "metadata": {},
     "output_type": "execute_result"
    }
   ],
   "source": [
    "y"
   ]
  },
  {
   "cell_type": "code",
   "execution_count": 610,
   "id": "6693756b",
   "metadata": {},
   "outputs": [],
   "source": [
    "# fpr, tpr, thresholds = roc_curve(y_test, y_pred)\n",
    "# roc_auc = auc(fpr, tpr)\n",
    "# plt.figure(figsize=(8, 6))\n",
    "# plt.plot(fpr, tpr, color='darkorange', lw=2, label=f'ROC Curve (AUC = {roc_auc:.2f})')\n",
    "# plt.plot([0, 1], [0, 1], color='navy', lw=1, linestyle='--')\n",
    "# plt.xlabel('False Positive Rate')\n",
    "# plt.ylabel('True Positive Rate')\n",
    "# plt.title('ROC Curve')\n",
    "# plt.legend(loc='lower right')\n",
    "# plt.grid(True)\n",
    "# plt.show()"
   ]
  }
 ],
 "metadata": {
  "kernelspec": {
   "display_name": "Python 3",
   "language": "python",
   "name": "python3"
  },
  "language_info": {
   "codemirror_mode": {
    "name": "ipython",
    "version": 3
   },
   "file_extension": ".py",
   "mimetype": "text/x-python",
   "name": "python",
   "nbconvert_exporter": "python",
   "pygments_lexer": "ipython3",
   "version": "3.12.1"
  }
 },
 "nbformat": 4,
 "nbformat_minor": 5
}
