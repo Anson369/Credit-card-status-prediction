{
 "cells": [
  {
   "cell_type": "code",
   "execution_count": 2,
   "id": "65f7841e",
   "metadata": {},
   "outputs": [],
   "source": [
    "import pandas as pd\n",
    "import numpy as np\n",
    "import re\n",
    "import matplotlib.pyplot as plt\n",
    "import seaborn as sns\n",
    "from sklearn.preprocessing import MinMaxScaler\n",
    "from sklearn.preprocessing import LabelEncoder,OrdinalEncoder,OneHotEncoder\n",
    "from sklearn.model_selection import train_test_split\n",
    "from sklearn.neighbors import KNeighborsClassifier\n",
    "from sklearn.svm import SVC\n",
    "from sklearn.naive_bayes import MultinomialNB\n",
    "from sklearn.tree import DecisionTreeClassifier\n",
    "from sklearn.ensemble import RandomForestClassifier,GradientBoostingClassifier,AdaBoostClassifier\n",
    "from xgboost import XGBClassifier\n",
    "from sklearn.metrics import accuracy_score\n",
    "from sklearn.model_selection import GridSearchCV\n",
    "from sklearn.feature_selection import RFE\n",
    "import pickle"
   ]
  },
  {
   "cell_type": "code",
   "execution_count": null,
   "id": "b21daae6",
   "metadata": {},
   "outputs": [],
   "source": []
  },
  {
   "cell_type": "code",
   "execution_count": 3,
   "id": "3aa590ac",
   "metadata": {},
   "outputs": [],
   "source": [
    "df=pd.read_csv('test.csv')"
   ]
  },
  {
   "cell_type": "code",
   "execution_count": 4,
   "id": "c02fc608",
   "metadata": {},
   "outputs": [
    {
     "data": {
      "text/plain": [
       "ID                             0\n",
       "Customer_ID                    0\n",
       "Month                          0\n",
       "Name                        5015\n",
       "Age                            0\n",
       "SSN                            0\n",
       "Occupation                     0\n",
       "Annual_Income                  0\n",
       "Monthly_Inhand_Salary       7498\n",
       "Num_Bank_Accounts              0\n",
       "Num_Credit_Card                0\n",
       "Interest_Rate                  0\n",
       "Num_of_Loan                    0\n",
       "Type_of_Loan                5704\n",
       "Delay_from_due_date            0\n",
       "Num_of_Delayed_Payment      3498\n",
       "Changed_Credit_Limit           0\n",
       "Num_Credit_Inquiries        1035\n",
       "Credit_Mix                     0\n",
       "Outstanding_Debt               0\n",
       "Credit_Utilization_Ratio       0\n",
       "Credit_History_Age          4470\n",
       "Payment_of_Min_Amount          0\n",
       "Total_EMI_per_month            0\n",
       "Amount_invested_monthly     2271\n",
       "Payment_Behaviour              0\n",
       "Monthly_Balance              562\n",
       "dtype: int64"
      ]
     },
     "execution_count": 4,
     "metadata": {},
     "output_type": "execute_result"
    }
   ],
   "source": [
    "df.isna().sum()"
   ]
  },
  {
   "cell_type": "code",
   "execution_count": 5,
   "id": "289d0cc7",
   "metadata": {},
   "outputs": [],
   "source": [
    "df.dropna(inplace=True)"
   ]
  },
  {
   "cell_type": "code",
   "execution_count": 6,
   "id": "31dad25a",
   "metadata": {},
   "outputs": [
    {
     "data": {
      "text/plain": [
       "Credit_Mix\n",
       "Standard    9757\n",
       "Good        5802\n",
       "Bad         5654\n",
       "_           5246\n",
       "Name: count, dtype: int64"
      ]
     },
     "execution_count": 6,
     "metadata": {},
     "output_type": "execute_result"
    }
   ],
   "source": [
    "df['Credit_Mix'].value_counts()"
   ]
  },
  {
   "cell_type": "code",
   "execution_count": 7,
   "id": "fc16dd3e",
   "metadata": {},
   "outputs": [],
   "source": [
    "df.drop(columns=['ID','Customer_ID','Name','SSN','Type_of_Loan'],inplace=True) # removing useless columns"
   ]
  },
  {
   "cell_type": "code",
   "execution_count": 8,
   "id": "145bb4fd",
   "metadata": {},
   "outputs": [],
   "source": [
    "df['Age']=df['Age'].str.strip('_') # stripping '-' character"
   ]
  },
  {
   "cell_type": "code",
   "execution_count": 9,
   "id": "6f8c1177",
   "metadata": {},
   "outputs": [],
   "source": [
    "df['Age']=df['Age'].astype(float) # converting data type float"
   ]
  },
  {
   "cell_type": "code",
   "execution_count": 10,
   "id": "697e6781",
   "metadata": {},
   "outputs": [],
   "source": [
    "df=df[df['Occupation']!='_______'] # removing the values '_______' from the occupation column"
   ]
  },
  {
   "cell_type": "code",
   "execution_count": 11,
   "id": "df4681f2",
   "metadata": {},
   "outputs": [],
   "source": [
    "df['Annual_Income']=df['Annual_Income'].str.strip('_') # stripping '-' character"
   ]
  },
  {
   "cell_type": "code",
   "execution_count": 12,
   "id": "d127c05b",
   "metadata": {},
   "outputs": [],
   "source": [
    "df['Annual_Income']=df['Annual_Income'].astype(float) # converting datatype"
   ]
  },
  {
   "cell_type": "code",
   "execution_count": 13,
   "id": "5c598048",
   "metadata": {},
   "outputs": [],
   "source": [
    "df['Monthly_Inhand_Salary']=df['Monthly_Inhand_Salary'].astype(float) # converting datatype"
   ]
  },
  {
   "cell_type": "code",
   "execution_count": 14,
   "id": "929934b2",
   "metadata": {},
   "outputs": [],
   "source": [
    "df['Num_of_Loan']=df['Num_of_Loan'].str.strip('_') # stripping '-' character"
   ]
  },
  {
   "cell_type": "code",
   "execution_count": 15,
   "id": "2a4cb74f",
   "metadata": {},
   "outputs": [],
   "source": [
    "df['Num_of_Loan']=df['Num_of_Loan'].astype(float) # converting datatype"
   ]
  },
  {
   "cell_type": "code",
   "execution_count": 16,
   "id": "3cdb6aa8",
   "metadata": {},
   "outputs": [],
   "source": [
    "df['Num_of_Delayed_Payment']=df['Num_of_Delayed_Payment'].str.strip('_') # stripping '-' character"
   ]
  },
  {
   "cell_type": "code",
   "execution_count": 17,
   "id": "6a98a838",
   "metadata": {},
   "outputs": [],
   "source": [
    "df['Num_of_Delayed_Payment']=df['Num_of_Delayed_Payment'].astype(float) # converting datatype"
   ]
  },
  {
   "cell_type": "code",
   "execution_count": 18,
   "id": "f8d366dc",
   "metadata": {},
   "outputs": [],
   "source": [
    "df['Changed_Credit_Limit']=df['Changed_Credit_Limit'].str.strip('_') # stripping '-' character"
   ]
  },
  {
   "cell_type": "code",
   "execution_count": 19,
   "id": "7c7a82cd",
   "metadata": {},
   "outputs": [],
   "source": [
    "df=df[df['Changed_Credit_Limit']!=''] # removing blank space from the column "
   ]
  },
  {
   "cell_type": "code",
   "execution_count": 20,
   "id": "08cedf7b",
   "metadata": {},
   "outputs": [],
   "source": [
    "df['Changed_Credit_Limit']=df['Changed_Credit_Limit'].astype(float) # converting datatype"
   ]
  },
  {
   "cell_type": "code",
   "execution_count": 21,
   "id": "44ebed87",
   "metadata": {},
   "outputs": [],
   "source": [
    "df=df[df['Credit_Mix']!='_'] # removing '-' character from the columns"
   ]
  },
  {
   "cell_type": "code",
   "execution_count": 22,
   "id": "927a7fc3",
   "metadata": {},
   "outputs": [],
   "source": [
    "df['Outstanding_Debt']=df['Outstanding_Debt'].str.strip('_') # stripping '-' character"
   ]
  },
  {
   "cell_type": "code",
   "execution_count": 23,
   "id": "4f116b47",
   "metadata": {},
   "outputs": [],
   "source": [
    "df['Outstanding_Debt']=df['Outstanding_Debt'].astype(float) # converting datatype"
   ]
  },
  {
   "cell_type": "code",
   "execution_count": 24,
   "id": "4fe5f3e1",
   "metadata": {},
   "outputs": [],
   "source": [
    "df=df[df['Payment_of_Min_Amount']!='NM'] # removing irrelavant character from the columns since it is a boolean column"
   ]
  },
  {
   "cell_type": "code",
   "execution_count": 25,
   "id": "55dfc651",
   "metadata": {},
   "outputs": [],
   "source": [
    "df['Amount_invested_monthly']=df['Amount_invested_monthly'].str.strip('_') # stripping '-' character"
   ]
  },
  {
   "cell_type": "code",
   "execution_count": 26,
   "id": "cb3fadba",
   "metadata": {},
   "outputs": [],
   "source": [
    "df['Amount_invested_monthly']=df['Amount_invested_monthly'].astype(float) # converting datatype"
   ]
  },
  {
   "cell_type": "code",
   "execution_count": 27,
   "id": "281d962e",
   "metadata": {},
   "outputs": [],
   "source": [
    "df['Monthly_Balance']=df['Monthly_Balance'].str.strip('_') # stripping '-' character"
   ]
  },
  {
   "cell_type": "code",
   "execution_count": 28,
   "id": "e5afe6c4",
   "metadata": {},
   "outputs": [],
   "source": [
    "df['Monthly_Balance']=df['Monthly_Balance'].astype(float) # converting datatype"
   ]
  },
  {
   "cell_type": "markdown",
   "id": "88b7e081",
   "metadata": {},
   "source": [
    "IQR Method"
   ]
  },
  {
   "cell_type": "code",
   "execution_count": 29,
   "id": "b409eba7",
   "metadata": {},
   "outputs": [
    {
     "data": {
      "text/plain": [
       "{'Age': (np.float64(-0.5), np.float64(67.5)),\n",
       " 'Annual_Income': (np.float64(-57754.87750000001), np.float64(146458.9425)),\n",
       " 'Monthly_Inhand_Salary': (np.float64(-4620.501249999998),\n",
       "  np.float64(11893.535416666664)),\n",
       " 'Num_Bank_Accounts': (np.float64(-2.0), np.float64(14.0)),\n",
       " 'Num_Credit_Card': (np.float64(-0.5), np.float64(11.5)),\n",
       " 'Interest_Rate': (np.float64(-13.0), np.float64(43.0)),\n",
       " 'Num_of_Loan': (np.float64(-4.0), np.float64(12.0)),\n",
       " 'Delay_from_due_date': (np.float64(-16.0), np.float64(56.0)),\n",
       " 'Num_of_Delayed_Payment': (np.float64(-6.0), np.float64(34.0)),\n",
       " 'Changed_Credit_Limit': (np.float64(-9.28), np.float64(30.08)),\n",
       " 'Num_Credit_Inquiries': (np.float64(-4.0), np.float64(20.0)),\n",
       " 'Outstanding_Debt': (np.float64(-1669.1175000000003), np.float64(4394.5825)),\n",
       " 'Credit_Utilization_Ratio': (np.float64(15.468079372165995),\n",
       "  np.float64(48.89557197052333)),\n",
       " 'Total_EMI_per_month': (np.float64(-165.3502450625721),\n",
       "  np.float64(390.0444805438806)),\n",
       " 'Amount_invested_monthly': (np.float64(-195.30909617410663),\n",
       "  np.float64(519.0702268303742)),\n",
       " 'Monthly_Balance': (np.float64(-10.37429172867212),\n",
       "  np.float64(722.6708587408675))}"
      ]
     },
     "execution_count": 29,
     "metadata": {},
     "output_type": "execute_result"
    }
   ],
   "source": [
    "iqr_dict={}\n",
    "for i in df:\n",
    "  if df[i].dtype in [int,float]:\n",
    "    q1=df[i].quantile(0.25)\n",
    "    q3=df[i].quantile(0.75)\n",
    "    iqr=q3-q1\n",
    "    min_range=q1-(1.5*iqr)\n",
    "    max_range=q3+(1.5*iqr)\n",
    "    iqr_dict[i]=(min_range,max_range)\n",
    "iqr_dict"
   ]
  },
  {
   "cell_type": "code",
   "execution_count": 30,
   "id": "0da77386",
   "metadata": {},
   "outputs": [],
   "source": [
    "df=df[(df['Age']>0) & (df['Age']<100)] # there are ages which are negative and greater than 100 "
   ]
  },
  {
   "cell_type": "code",
   "execution_count": 31,
   "id": "6e9e4db1",
   "metadata": {},
   "outputs": [],
   "source": [
    "df=df[(df['Num_Bank_Accounts']>0) & (df['Num_Bank_Accounts']<11)] # filtering out the relevant values "
   ]
  },
  {
   "cell_type": "code",
   "execution_count": 32,
   "id": "cf1fd2ee",
   "metadata": {},
   "outputs": [],
   "source": [
    "df=df[(df['Num_Credit_Card']>0) & (df['Num_Credit_Card']<11)] # filtering out the relevant values"
   ]
  },
  {
   "cell_type": "code",
   "execution_count": 33,
   "id": "769413b2",
   "metadata": {},
   "outputs": [],
   "source": [
    "df=df[(df['Interest_Rate']>0) & (df['Interest_Rate']<=iqr_dict['Interest_Rate'][1])] # filtering out the relevant values using iqr method"
   ]
  },
  {
   "cell_type": "code",
   "execution_count": 34,
   "id": "d15626a9",
   "metadata": {},
   "outputs": [],
   "source": [
    "df=df[(df['Num_of_Loan']>0) & (df['Num_of_Loan']<=12)] # filtering out the relevant values"
   ]
  },
  {
   "cell_type": "code",
   "execution_count": 35,
   "id": "78baa842",
   "metadata": {},
   "outputs": [],
   "source": [
    "df=df[df['Delay_from_due_date']>0] # filtering out the relevant values"
   ]
  },
  {
   "cell_type": "code",
   "execution_count": 36,
   "id": "6899b4a0",
   "metadata": {},
   "outputs": [],
   "source": [
    "df=df[(df['Num_of_Delayed_Payment']>=0) & (df['Num_of_Delayed_Payment']<=34)] # filtering out the relevant values"
   ]
  },
  {
   "cell_type": "code",
   "execution_count": 37,
   "id": "1e397ad0",
   "metadata": {},
   "outputs": [],
   "source": [
    "df=df[(df['Num_Credit_Inquiries']>0) & (df['Num_Credit_Inquiries']<=20)] # filtering out the relevant values"
   ]
  },
  {
   "cell_type": "code",
   "execution_count": 38,
   "id": "66de33d2",
   "metadata": {},
   "outputs": [],
   "source": [
    "# df['Outstanding_Debt'] is in US dollars\n",
    "df=df[df['Outstanding_Debt']>12] # filtering out the relevant values"
   ]
  },
  {
   "cell_type": "code",
   "execution_count": 39,
   "id": "a53881f6",
   "metadata": {},
   "outputs": [
    {
     "data": {
      "text/plain": [
       "array(['22 Years and 10 Months', '27 Years and 4 Months',\n",
       "       '18 Years and 6 Months', '17 Years and 11 Months',\n",
       "       '18 Years and 1 Months', '18 Years and 2 Months',\n",
       "       '27 Years and 1 Months', '27 Years and 2 Months',\n",
       "       '19 Years and 10 Months', '27 Years and 6 Months',\n",
       "       '27 Years and 7 Months', '18 Years and 11 Months',\n",
       "       '19 Years and 1 Months', '18 Years and 10 Months',\n",
       "       '19 Years and 0 Months', '10 Years and 9 Months',\n",
       "       '10 Years and 10 Months', '11 Years and 0 Months',\n",
       "       '12 Years and 11 Months', '18 Years and 8 Months',\n",
       "       '18 Years and 9 Months', '14 Years and 4 Months',\n",
       "       '14 Years and 6 Months', '14 Years and 7 Months',\n",
       "       '20 Years and 0 Months', '20 Years and 1 Months',\n",
       "       '30 Years and 11 Months', '31 Years and 2 Months',\n",
       "       '19 Years and 7 Months', '9 Years and 4 Months',\n",
       "       '9 Years and 5 Months', '13 Years and 9 Months',\n",
       "       '13 Years and 11 Months', '22 Years and 2 Months',\n",
       "       '28 Years and 10 Months', '8 Years and 7 Months',\n",
       "       '8 Years and 8 Months', '24 Years and 11 Months',\n",
       "       '25 Years and 0 Months', '25 Years and 1 Months',\n",
       "       '25 Years and 2 Months', '2 Years and 0 Months',\n",
       "       '2 Years and 1 Months', '11 Years and 7 Months',\n",
       "       '11 Years and 8 Months', '11 Years and 10 Months',\n",
       "       '31 Years and 5 Months', '31 Years and 6 Months',\n",
       "       '11 Years and 1 Months', '11 Years and 3 Months',\n",
       "       '1 Years and 1 Months', '32 Years and 5 Months',\n",
       "       '32 Years and 6 Months', '17 Years and 6 Months',\n",
       "       '17 Years and 7 Months', '17 Years and 9 Months',\n",
       "       '13 Years and 2 Months', '13 Years and 3 Months',\n",
       "       '13 Years and 4 Months', '13 Years and 6 Months',\n",
       "       '12 Years and 3 Months', '25 Years and 4 Months',\n",
       "       '25 Years and 5 Months', '31 Years and 9 Months',\n",
       "       '32 Years and 0 Months', '14 Years and 0 Months',\n",
       "       '3 Years and 9 Months', '17 Years and 1 Months',\n",
       "       '17 Years and 2 Months', '17 Years and 3 Months',\n",
       "       '9 Years and 3 Months', '5 Years and 1 Months',\n",
       "       '5 Years and 4 Months', '13 Years and 0 Months',\n",
       "       '13 Years and 7 Months', '13 Years and 8 Months',\n",
       "       '26 Years and 5 Months', '33 Years and 9 Months',\n",
       "       '18 Years and 5 Months', '8 Years and 2 Months',\n",
       "       '29 Years and 0 Months', '29 Years and 2 Months',\n",
       "       '29 Years and 11 Months', '31 Years and 0 Months',\n",
       "       '31 Years and 1 Months', '14 Years and 1 Months',\n",
       "       '2 Years and 2 Months', '2 Years and 3 Months',\n",
       "       '33 Years and 11 Months', '26 Years and 8 Months',\n",
       "       '29 Years and 6 Months', '29 Years and 7 Months',\n",
       "       '5 Years and 5 Months', '5 Years and 6 Months',\n",
       "       '32 Years and 3 Months', '9 Years and 7 Months',\n",
       "       '6 Years and 7 Months', '22 Years and 5 Months',\n",
       "       '22 Years and 4 Months', '12 Years and 10 Months',\n",
       "       '20 Years and 11 Months', '21 Years and 0 Months',\n",
       "       '21 Years and 2 Months', '13 Years and 1 Months',\n",
       "       '3 Years and 0 Months', '16 Years and 2 Months',\n",
       "       '31 Years and 7 Months', '27 Years and 9 Months',\n",
       "       '28 Years and 7 Months', '17 Years and 10 Months',\n",
       "       '19 Years and 2 Months', '8 Years and 10 Months',\n",
       "       '17 Years and 5 Months', '27 Years and 5 Months',\n",
       "       '12 Years and 6 Months', '12 Years and 8 Months',\n",
       "       '29 Years and 8 Months', '32 Years and 2 Months',\n",
       "       '22 Years and 0 Months', '23 Years and 5 Months',\n",
       "       '23 Years and 8 Months', '14 Years and 2 Months',\n",
       "       '15 Years and 2 Months', '15 Years and 4 Months',\n",
       "       '23 Years and 11 Months', '24 Years and 0 Months',\n",
       "       '19 Years and 9 Months', '8 Years and 11 Months',\n",
       "       '9 Years and 0 Months', '9 Years and 9 Months',\n",
       "       '9 Years and 10 Months', '6 Years and 5 Months',\n",
       "       '6 Years and 0 Months', '6 Years and 1 Months',\n",
       "       '6 Years and 3 Months', '25 Years and 9 Months',\n",
       "       '20 Years and 2 Months', '20 Years and 3 Months',\n",
       "       '16 Years and 0 Months', '16 Years and 1 Months',\n",
       "       '19 Years and 3 Months', '19 Years and 4 Months',\n",
       "       '28 Years and 6 Months', '32 Years and 10 Months',\n",
       "       '7 Years and 8 Months', '7 Years and 9 Months',\n",
       "       '16 Years and 3 Months', '26 Years and 7 Months',\n",
       "       '26 Years and 10 Months', '21 Years and 11 Months',\n",
       "       '15 Years and 6 Months', '15 Years and 7 Months',\n",
       "       '15 Years and 8 Months', '15 Years and 9 Months',\n",
       "       '16 Years and 9 Months', '17 Years and 0 Months',\n",
       "       '12 Years and 1 Months', '22 Years and 1 Months',\n",
       "       '21 Years and 9 Months', '21 Years and 10 Months',\n",
       "       '8 Years and 0 Months', '33 Years and 7 Months',\n",
       "       '33 Years and 5 Months', '33 Years and 6 Months',\n",
       "       '30 Years and 5 Months', '30 Years and 7 Months',\n",
       "       '18 Years and 0 Months', '10 Years and 5 Months',\n",
       "       '10 Years and 8 Months', '14 Years and 8 Months',\n",
       "       '22 Years and 11 Months', '23 Years and 1 Months',\n",
       "       '29 Years and 1 Months', '29 Years and 3 Months',\n",
       "       '2 Years and 11 Months', '24 Years and 4 Months',\n",
       "       '24 Years and 6 Months', '24 Years and 7 Months',\n",
       "       '16 Years and 5 Months', '10 Years and 0 Months',\n",
       "       '23 Years and 0 Months', '26 Years and 9 Months',\n",
       "       '19 Years and 6 Months', '19 Years and 8 Months',\n",
       "       '16 Years and 11 Months', '11 Years and 4 Months',\n",
       "       '8 Years and 5 Months', '20 Years and 5 Months',\n",
       "       '9 Years and 2 Months', '28 Years and 0 Months',\n",
       "       '28 Years and 1 Months', '6 Years and 10 Months',\n",
       "       '10 Years and 1 Months', '10 Years and 2 Months',\n",
       "       '16 Years and 10 Months', '31 Years and 4 Months',\n",
       "       '12 Years and 7 Months', '30 Years and 2 Months',\n",
       "       '8 Years and 6 Months', '6 Years and 4 Months',\n",
       "       '28 Years and 11 Months', '10 Years and 11 Months',\n",
       "       '12 Years and 5 Months', '13 Years and 5 Months',\n",
       "       '26 Years and 11 Months', '27 Years and 0 Months',\n",
       "       '16 Years and 6 Months', '23 Years and 3 Months',\n",
       "       '5 Years and 10 Months', '5 Years and 11 Months',\n",
       "       '30 Years and 8 Months', '30 Years and 9 Months',\n",
       "       '23 Years and 4 Months', '3 Years and 11 Months',\n",
       "       '4 Years and 0 Months', '26 Years and 1 Months',\n",
       "       '7 Years and 0 Months', '11 Years and 5 Months',\n",
       "       '12 Years and 9 Months', '12 Years and 0 Months',\n",
       "       '29 Years and 10 Months', '7 Years and 10 Months',\n",
       "       '26 Years and 2 Months', '22 Years and 6 Months',\n",
       "       '22 Years and 7 Months', '22 Years and 8 Months',\n",
       "       '18 Years and 4 Months', '1 Years and 6 Months',\n",
       "       '1 Years and 7 Months', '14 Years and 5 Months',\n",
       "       '25 Years and 11 Months', '5 Years and 0 Months',\n",
       "       '5 Years and 3 Months', '7 Years and 1 Months',\n",
       "       '7 Years and 2 Months', '7 Years and 4 Months',\n",
       "       '4 Years and 7 Months', '20 Years and 8 Months',\n",
       "       '11 Years and 2 Months', '29 Years and 5 Months',\n",
       "       '9 Years and 11 Months', '20 Years and 4 Months',\n",
       "       '11 Years and 6 Months', '16 Years and 7 Months',\n",
       "       '8 Years and 9 Months', '32 Years and 1 Months',\n",
       "       '27 Years and 11 Months', '21 Years and 1 Months',\n",
       "       '18 Years and 7 Months', '16 Years and 4 Months',\n",
       "       '31 Years and 10 Months', '21 Years and 6 Months',\n",
       "       '23 Years and 6 Months', '30 Years and 0 Months',\n",
       "       '30 Years and 1 Months', '26 Years and 3 Months',\n",
       "       '2 Years and 7 Months', '20 Years and 6 Months',\n",
       "       '22 Years and 9 Months', '10 Years and 7 Months',\n",
       "       '2 Years and 5 Months', '2 Years and 8 Months',\n",
       "       '14 Years and 3 Months', '9 Years and 1 Months',\n",
       "       '30 Years and 4 Months', '30 Years and 6 Months',\n",
       "       '10 Years and 6 Months', '33 Years and 10 Months',\n",
       "       '6 Years and 6 Months', '31 Years and 11 Months',\n",
       "       '15 Years and 0 Months', '22 Years and 3 Months',\n",
       "       '32 Years and 9 Months', '31 Years and 8 Months',\n",
       "       '32 Years and 11 Months', '33 Years and 0 Months',\n",
       "       '20 Years and 9 Months', '11 Years and 11 Months',\n",
       "       '21 Years and 7 Months', '10 Years and 3 Months',\n",
       "       '14 Years and 10 Months', '15 Years and 10 Months',\n",
       "       '6 Years and 8 Months', '15 Years and 3 Months',\n",
       "       '24 Years and 10 Months', '1 Years and 10 Months',\n",
       "       '1 Years and 11 Months', '31 Years and 3 Months',\n",
       "       '12 Years and 2 Months', '25 Years and 3 Months',\n",
       "       '21 Years and 8 Months', '33 Years and 1 Months',\n",
       "       '33 Years and 2 Months', '1 Years and 3 Months',\n",
       "       '17 Years and 4 Months', '20 Years and 10 Months',\n",
       "       '7 Years and 11 Months', '8 Years and 1 Months',\n",
       "       '27 Years and 10 Months', '26 Years and 6 Months',\n",
       "       '15 Years and 11 Months', '10 Years and 4 Months',\n",
       "       '14 Years and 9 Months', '14 Years and 11 Months',\n",
       "       '20 Years and 7 Months', '32 Years and 4 Months',\n",
       "       '25 Years and 8 Months', '7 Years and 3 Months',\n",
       "       '30 Years and 10 Months', '4 Years and 3 Months',\n",
       "       '25 Years and 10 Months', '24 Years and 2 Months',\n",
       "       '28 Years and 2 Months', '26 Years and 0 Months',\n",
       "       '26 Years and 4 Months', '23 Years and 7 Months',\n",
       "       '23 Years and 10 Months', '28 Years and 8 Months',\n",
       "       '15 Years and 5 Months', '24 Years and 8 Months',\n",
       "       '28 Years and 9 Months', '6 Years and 9 Months',\n",
       "       '33 Years and 8 Months', '1 Years and 9 Months',\n",
       "       '25 Years and 6 Months', '5 Years and 8 Months',\n",
       "       '5 Years and 9 Months', '32 Years and 8 Months',\n",
       "       '19 Years and 5 Months', '21 Years and 3 Months',\n",
       "       '21 Years and 4 Months', '23 Years and 9 Months',\n",
       "       '24 Years and 1 Months', '24 Years and 3 Months',\n",
       "       '8 Years and 4 Months', '21 Years and 5 Months',\n",
       "       '32 Years and 7 Months', '16 Years and 8 Months',\n",
       "       '13 Years and 10 Months', '3 Years and 3 Months',\n",
       "       '7 Years and 6 Months', '6 Years and 2 Months',\n",
       "       '8 Years and 3 Months', '4 Years and 4 Months',\n",
       "       '4 Years and 5 Months', '29 Years and 9 Months',\n",
       "       '27 Years and 8 Months', '24 Years and 5 Months',\n",
       "       '19 Years and 11 Months', '23 Years and 2 Months',\n",
       "       '6 Years and 11 Months', '28 Years and 4 Months',\n",
       "       '9 Years and 8 Months', '25 Years and 7 Months',\n",
       "       '28 Years and 3 Months', '15 Years and 1 Months',\n",
       "       '9 Years and 6 Months', '24 Years and 9 Months',\n",
       "       '17 Years and 8 Months', '4 Years and 9 Months',\n",
       "       '4 Years and 11 Months', '1 Years and 0 Months',\n",
       "       '33 Years and 4 Months', '3 Years and 5 Months',\n",
       "       '11 Years and 9 Months', '30 Years and 3 Months',\n",
       "       '4 Years and 1 Months', '5 Years and 2 Months',\n",
       "       '7 Years and 7 Months', '27 Years and 3 Months',\n",
       "       '18 Years and 3 Months', '2 Years and 9 Months',\n",
       "       '2 Years and 10 Months', '28 Years and 5 Months',\n",
       "       '5 Years and 7 Months', '33 Years and 3 Months',\n",
       "       '3 Years and 6 Months', '3 Years and 8 Months',\n",
       "       '1 Years and 8 Months', '3 Years and 4 Months',\n",
       "       '3 Years and 1 Months', '12 Years and 4 Months',\n",
       "       '4 Years and 6 Months', '4 Years and 10 Months',\n",
       "       '2 Years and 4 Months', '1 Years and 2 Months',\n",
       "       '4 Years and 8 Months', '4 Years and 2 Months',\n",
       "       '7 Years and 5 Months', '1 Years and 4 Months',\n",
       "       '1 Years and 5 Months', '0 Years and 11 Months',\n",
       "       '0 Years and 10 Months', '2 Years and 6 Months',\n",
       "       '3 Years and 2 Months', '29 Years and 4 Months',\n",
       "       '3 Years and 10 Months', '34 Years and 0 Months',\n",
       "       '3 Years and 7 Months'], dtype=object)"
      ]
     },
     "execution_count": 39,
     "metadata": {},
     "output_type": "execute_result"
    }
   ],
   "source": [
    "df['Credit_History_Age'].unique()"
   ]
  },
  {
   "cell_type": "code",
   "execution_count": 40,
   "id": "60619c72",
   "metadata": {},
   "outputs": [],
   "source": [
    "df['Credit_History_Age'] = df['Credit_History_Age'].apply(lambda x: (int(re.search(r'(\\d+)\\s*[yY]ears?', x).group(1)) * 12) + int(re.search(r'(\\d+)\\s*[nM]onths?',x).group(1)))"
   ]
  },
  {
   "cell_type": "code",
   "execution_count": 41,
   "id": "e92cc1fd",
   "metadata": {},
   "outputs": [],
   "source": [
    "df.rename({'Credit_History_Age':'Credit_History_Age(in months)'},inplace=True) # for better understanding renaming the column name"
   ]
  },
  {
   "cell_type": "code",
   "execution_count": 42,
   "id": "9cc4f778",
   "metadata": {},
   "outputs": [
    {
     "data": {
      "text/plain": [
       "1         49.574949\n",
       "5         18.816215\n",
       "9        246.992319\n",
       "12        16.415452\n",
       "14        16.415452\n",
       "            ...    \n",
       "49966     28.182033\n",
       "49976    362.072453\n",
       "49992     60.964772\n",
       "49993     60.964772\n",
       "49997     35.104023\n",
       "Name: Total_EMI_per_month, Length: 13318, dtype: float64"
      ]
     },
     "execution_count": 42,
     "metadata": {},
     "output_type": "execute_result"
    }
   ],
   "source": [
    "df['Total_EMI_per_month'] # in US Dollars"
   ]
  },
  {
   "cell_type": "code",
   "execution_count": 43,
   "id": "62632e44",
   "metadata": {},
   "outputs": [],
   "source": [
    "df=df[df['Total_EMI_per_month']>12]  # filtering out the relevant values"
   ]
  },
  {
   "cell_type": "code",
   "execution_count": 44,
   "id": "b5095edb",
   "metadata": {},
   "outputs": [],
   "source": [
    "df=df[df['Payment_Behaviour']!='!@9#%8'] # removing the irrelevant values"
   ]
  },
  {
   "cell_type": "code",
   "execution_count": 45,
   "id": "13ad2343",
   "metadata": {},
   "outputs": [
    {
     "data": {
      "text/html": [
       "<div>\n",
       "<style scoped>\n",
       "    .dataframe tbody tr th:only-of-type {\n",
       "        vertical-align: middle;\n",
       "    }\n",
       "\n",
       "    .dataframe tbody tr th {\n",
       "        vertical-align: top;\n",
       "    }\n",
       "\n",
       "    .dataframe thead th {\n",
       "        text-align: right;\n",
       "    }\n",
       "</style>\n",
       "<table border=\"1\" class=\"dataframe\">\n",
       "  <thead>\n",
       "    <tr style=\"text-align: right;\">\n",
       "      <th></th>\n",
       "      <th>Month</th>\n",
       "      <th>Age</th>\n",
       "      <th>Occupation</th>\n",
       "      <th>Annual_Income</th>\n",
       "      <th>Monthly_Inhand_Salary</th>\n",
       "      <th>Num_Bank_Accounts</th>\n",
       "      <th>Num_Credit_Card</th>\n",
       "      <th>Interest_Rate</th>\n",
       "      <th>Num_of_Loan</th>\n",
       "      <th>Delay_from_due_date</th>\n",
       "      <th>...</th>\n",
       "      <th>Num_Credit_Inquiries</th>\n",
       "      <th>Credit_Mix</th>\n",
       "      <th>Outstanding_Debt</th>\n",
       "      <th>Credit_Utilization_Ratio</th>\n",
       "      <th>Credit_History_Age</th>\n",
       "      <th>Payment_of_Min_Amount</th>\n",
       "      <th>Total_EMI_per_month</th>\n",
       "      <th>Amount_invested_monthly</th>\n",
       "      <th>Payment_Behaviour</th>\n",
       "      <th>Monthly_Balance</th>\n",
       "    </tr>\n",
       "  </thead>\n",
       "  <tbody>\n",
       "    <tr>\n",
       "      <th>17036</th>\n",
       "      <td>September</td>\n",
       "      <td>38.0</td>\n",
       "      <td>Media_Manager</td>\n",
       "      <td>29588.18</td>\n",
       "      <td>2281.681667</td>\n",
       "      <td>3</td>\n",
       "      <td>4</td>\n",
       "      <td>1</td>\n",
       "      <td>3.0</td>\n",
       "      <td>9</td>\n",
       "      <td>...</td>\n",
       "      <td>3.0</td>\n",
       "      <td>Good</td>\n",
       "      <td>193.06</td>\n",
       "      <td>28.385089</td>\n",
       "      <td>247</td>\n",
       "      <td>No</td>\n",
       "      <td>61.709502</td>\n",
       "      <td>70.725651</td>\n",
       "      <td>High_spent_Small_value_payments</td>\n",
       "      <td>-3.333333e+26</td>\n",
       "    </tr>\n",
       "  </tbody>\n",
       "</table>\n",
       "<p>1 rows × 22 columns</p>\n",
       "</div>"
      ],
      "text/plain": [
       "           Month   Age     Occupation  Annual_Income  Monthly_Inhand_Salary  \\\n",
       "17036  September  38.0  Media_Manager       29588.18            2281.681667   \n",
       "\n",
       "       Num_Bank_Accounts  Num_Credit_Card  Interest_Rate  Num_of_Loan  \\\n",
       "17036                  3                4              1          3.0   \n",
       "\n",
       "       Delay_from_due_date  ...  Num_Credit_Inquiries  Credit_Mix  \\\n",
       "17036                    9  ...                   3.0        Good   \n",
       "\n",
       "       Outstanding_Debt Credit_Utilization_Ratio  Credit_History_Age  \\\n",
       "17036            193.06                28.385089                 247   \n",
       "\n",
       "       Payment_of_Min_Amount  Total_EMI_per_month Amount_invested_monthly  \\\n",
       "17036                     No            61.709502               70.725651   \n",
       "\n",
       "                     Payment_Behaviour  Monthly_Balance  \n",
       "17036  High_spent_Small_value_payments    -3.333333e+26  \n",
       "\n",
       "[1 rows x 22 columns]"
      ]
     },
     "execution_count": 45,
     "metadata": {},
     "output_type": "execute_result"
    }
   ],
   "source": [
    "df[df['Monthly_Balance']<0]"
   ]
  },
  {
   "cell_type": "code",
   "execution_count": 46,
   "id": "e68cc161",
   "metadata": {},
   "outputs": [],
   "source": [
    "df=df[df['Monthly_Balance']>0] # removing negative values"
   ]
  },
  {
   "cell_type": "code",
   "execution_count": 47,
   "id": "73fb30d8",
   "metadata": {},
   "outputs": [],
   "source": [
    "df1=df.copy()"
   ]
  },
  {
   "cell_type": "markdown",
   "id": "519dee95",
   "metadata": {},
   "source": [
    "ANALYSIS\n"
   ]
  },
  {
   "cell_type": "code",
   "execution_count": 98,
   "id": "ecfb5065",
   "metadata": {},
   "outputs": [
    {
     "data": {
      "text/plain": [
       "Credit_Mix\n",
       "Standard    5790\n",
       "Bad         3548\n",
       "Good        2723\n",
       "Name: count, dtype: int64"
      ]
     },
     "execution_count": 98,
     "metadata": {},
     "output_type": "execute_result"
    }
   ],
   "source": [
    "df1['Credit_Mix'].value_counts()"
   ]
  },
  {
   "cell_type": "code",
   "execution_count": null,
   "id": "4d4539e4",
   "metadata": {},
   "outputs": [
    {
     "data": {
      "image/png": "[encoded data removed]",
      "text/plain": [
       "<Figure size 640x480 with 1 Axes>"
      ]
     },
     "metadata": {},
     "output_type": "display_data"
    }
   ],
   "source": [
    "sns.countplot(x=df1['Credit_Mix'])\n",
    "plt.title('Count plot of overall credit status')\n",
    "plt.yticks(range(0,6000,400))\n",
    "plt.show()"
   ]
  },
  {
   "cell_type": "code",
   "execution_count": 107,
   "id": "1f8297a3",
   "metadata": {},
   "outputs": [
    {
     "data": {
      "text/html": [
       "<div>\n",
       "<style scoped>\n",
       "    .dataframe tbody tr th:only-of-type {\n",
       "        vertical-align: middle;\n",
       "    }\n",
       "\n",
       "    .dataframe tbody tr th {\n",
       "        vertical-align: top;\n",
       "    }\n",
       "\n",
       "    .dataframe thead th {\n",
       "        text-align: right;\n",
       "    }\n",
       "</style>\n",
       "<table border=\"1\" class=\"dataframe\">\n",
       "  <thead>\n",
       "    <tr style=\"text-align: right;\">\n",
       "      <th></th>\n",
       "      <th>Outstanding_Debt</th>\n",
       "    </tr>\n",
       "    <tr>\n",
       "      <th>Credit_Mix</th>\n",
       "      <th></th>\n",
       "    </tr>\n",
       "  </thead>\n",
       "  <tbody>\n",
       "    <tr>\n",
       "      <th>Good</th>\n",
       "      <td>743.040342</td>\n",
       "    </tr>\n",
       "    <tr>\n",
       "      <th>Standard</th>\n",
       "      <td>1125.145212</td>\n",
       "    </tr>\n",
       "    <tr>\n",
       "      <th>Bad</th>\n",
       "      <td>2988.870896</td>\n",
       "    </tr>\n",
       "  </tbody>\n",
       "</table>\n",
       "</div>"
      ],
      "text/plain": [
       "            Outstanding_Debt\n",
       "Credit_Mix                  \n",
       "Good              743.040342\n",
       "Standard         1125.145212\n",
       "Bad              2988.870896"
      ]
     },
     "execution_count": 107,
     "metadata": {},
     "output_type": "execute_result"
    }
   ],
   "source": [
    "z=df1.groupby('Credit_Mix')[['Outstanding_Debt']].mean().sort_values(by='Outstanding_Debt')\n",
    "z"
   ]
  },
  {
   "cell_type": "code",
   "execution_count": 108,
   "id": "aff5bd18",
   "metadata": {},
   "outputs": [
    {
     "data": {
      "image/png": "[encoded data removed]",
      "text/plain": [
       "<Figure size 640x480 with 1 Axes>"
      ]
     },
     "metadata": {},
     "output_type": "display_data"
    }
   ],
   "source": [
    "plt.bar(z.index,z['Outstanding_Debt'])\n",
    "plt.xlabel('Credit status')\n",
    "plt.ylabel('outstanding debt')\n",
    "plt.title('Line graph of credit status and average debts')\n",
    "plt.show()"
   ]
  },
  {
   "cell_type": "code",
   "execution_count": 110,
   "id": "5b1ca236",
   "metadata": {},
   "outputs": [
    {
     "data": {
      "text/plain": [
       "Credit_Mix\n",
       "Good         6.399559\n",
       "Standard    15.145769\n",
       "Bad         24.396561\n",
       "Name: Interest_Rate, dtype: float64"
      ]
     },
     "execution_count": 110,
     "metadata": {},
     "output_type": "execute_result"
    }
   ],
   "source": [
    "z=df1.groupby(['Credit_Mix'])['Interest_Rate'].mean().sort_values()\n",
    "z"
   ]
  },
  {
   "cell_type": "code",
   "execution_count": 111,
   "id": "cd25c450",
   "metadata": {},
   "outputs": [
    {
     "data": {
      "image/png": "[encoded data removed]",
      "text/plain": [
       "<Figure size 640x480 with 1 Axes>"
      ]
     },
     "metadata": {},
     "output_type": "display_data"
    }
   ],
   "source": [
    "plt.plot(z)\n",
    "plt.xlabel('Credit status')\n",
    "plt.ylabel('Average Interest rate')\n",
    "plt.title('Bar graph of credit status and average interest rate')\n",
    "plt.show()"
   ]
  },
  {
   "cell_type": "code",
   "execution_count": 117,
   "id": "5b2b4ca7",
   "metadata": {},
   "outputs": [
    {
     "data": {
      "text/plain": [
       "Credit_Mix\n",
       "Bad         2675.903011\n",
       "Standard    3901.471954\n",
       "Good        5707.602086\n",
       "Name: Monthly_Inhand_Salary, dtype: float64"
      ]
     },
     "execution_count": 117,
     "metadata": {},
     "output_type": "execute_result"
    }
   ],
   "source": [
    "z=df1.groupby('Credit_Mix')['Monthly_Inhand_Salary'].mean().sort_values()\n",
    "z"
   ]
  },
  {
   "cell_type": "code",
   "execution_count": 119,
   "id": "1c5f59d4",
   "metadata": {},
   "outputs": [
    {
     "data": {
      "image/png": "[encoded data removed]",
      "text/plain": [
       "<Figure size 640x480 with 1 Axes>"
      ]
     },
     "metadata": {},
     "output_type": "display_data"
    }
   ],
   "source": [
    "plt.plot(z)\n",
    "plt.xlabel('Credit status')\n",
    "plt.ylabel('Average Monthly base salary')\n",
    "plt.title('Line graph of average salary of different credit status')\n",
    "plt.show()"
   ]
  },
  {
   "cell_type": "code",
   "execution_count": 127,
   "id": "859d31fa",
   "metadata": {},
   "outputs": [
    {
     "data": {
      "text/plain": [
       "Credit_Mix\n",
       "Good         6927.0\n",
       "Standard    20630.0\n",
       "Bad         22559.0\n",
       "Name: Num_of_Loan, dtype: float64"
      ]
     },
     "execution_count": 127,
     "metadata": {},
     "output_type": "execute_result"
    }
   ],
   "source": [
    "z=df1.groupby(['Credit_Mix'])['Num_of_Loan'].sum().sort_values()\n",
    "z"
   ]
  },
  {
   "cell_type": "code",
   "execution_count": 128,
   "id": "61cb3d5c",
   "metadata": {},
   "outputs": [
    {
     "data": {
      "image/png": "[encoded data removed]",
      "text/plain": [
       "<Figure size 640x480 with 1 Axes>"
      ]
     },
     "metadata": {},
     "output_type": "display_data"
    }
   ],
   "source": [
    "plt.bar(z.index,z)\n",
    "plt.xlabel(\"Credit status\")\n",
    "plt.ylabel('Total number of loans')\n",
    "plt.title(\"Bar graph of total number of loans amoung each credit status\")\n",
    "plt.show()"
   ]
  },
  {
   "cell_type": "code",
   "execution_count": 131,
   "id": "daa26d92",
   "metadata": {},
   "outputs": [
    {
     "data": {
      "text/plain": [
       "Credit_Mix\n",
       "Good        10.754315\n",
       "Standard    19.727979\n",
       "Bad         38.373168\n",
       "Name: Delay_from_due_date, dtype: float64"
      ]
     },
     "execution_count": 131,
     "metadata": {},
     "output_type": "execute_result"
    }
   ],
   "source": [
    "z=df1.groupby(['Credit_Mix'])['Delay_from_due_date'].mean().sort_values()\n",
    "z"
   ]
  },
  {
   "cell_type": "code",
   "execution_count": 143,
   "id": "34604492",
   "metadata": {},
   "outputs": [
    {
     "data": {
      "image/png": "[encoded data removed]",
      "text/plain": [
       "<Figure size 640x480 with 1 Axes>"
      ]
     },
     "metadata": {},
     "output_type": "display_data"
    }
   ],
   "source": [
    "plt.plot(z)\n",
    "plt.xlabel('Credit status')\n",
    "plt.ylabel('Average delay from due date')\n",
    "plt.title('Line graph of credit status vs average delay from due date')\n",
    "plt.show()"
   ]
  },
  {
   "cell_type": "code",
   "execution_count": null,
   "id": "dba2a316",
   "metadata": {},
   "outputs": [],
   "source": []
  },
  {
   "cell_type": "code",
   "execution_count": 53,
   "id": "cd052d00",
   "metadata": {},
   "outputs": [
    {
     "data": {
      "text/html": [
       "<div>\n",
       "<style scoped>\n",
       "    .dataframe tbody tr th:only-of-type {\n",
       "        vertical-align: middle;\n",
       "    }\n",
       "\n",
       "    .dataframe tbody tr th {\n",
       "        vertical-align: top;\n",
       "    }\n",
       "\n",
       "    .dataframe thead th {\n",
       "        text-align: right;\n",
       "    }\n",
       "</style>\n",
       "<table border=\"1\" class=\"dataframe\">\n",
       "  <thead>\n",
       "    <tr style=\"text-align: right;\">\n",
       "      <th></th>\n",
       "      <th></th>\n",
       "      <th>Credit_Mix</th>\n",
       "    </tr>\n",
       "    <tr>\n",
       "      <th>Payment_of_Min_Amount</th>\n",
       "      <th>Credit_Mix</th>\n",
       "      <th></th>\n",
       "    </tr>\n",
       "  </thead>\n",
       "  <tbody>\n",
       "    <tr>\n",
       "      <th rowspan=\"2\" valign=\"top\">No</th>\n",
       "      <th>Good</th>\n",
       "      <td>2723</td>\n",
       "    </tr>\n",
       "    <tr>\n",
       "      <th>Standard</th>\n",
       "      <td>1099</td>\n",
       "    </tr>\n",
       "    <tr>\n",
       "      <th rowspan=\"2\" valign=\"top\">Yes</th>\n",
       "      <th>Bad</th>\n",
       "      <td>3548</td>\n",
       "    </tr>\n",
       "    <tr>\n",
       "      <th>Standard</th>\n",
       "      <td>4691</td>\n",
       "    </tr>\n",
       "  </tbody>\n",
       "</table>\n",
       "</div>"
      ],
      "text/plain": [
       "                                  Credit_Mix\n",
       "Payment_of_Min_Amount Credit_Mix            \n",
       "No                    Good              2723\n",
       "                      Standard          1099\n",
       "Yes                   Bad               3548\n",
       "                      Standard          4691"
      ]
     },
     "execution_count": 53,
     "metadata": {},
     "output_type": "execute_result"
    }
   ],
   "source": [
    "df1.groupby(['Payment_of_Min_Amount','Credit_Mix'])[['Credit_Mix']].count()"
   ]
  },
  {
   "cell_type": "code",
   "execution_count": 54,
   "id": "29f07bae",
   "metadata": {},
   "outputs": [
    {
     "data": {
      "text/html": [
       "<div>\n",
       "<style scoped>\n",
       "    .dataframe tbody tr th:only-of-type {\n",
       "        vertical-align: middle;\n",
       "    }\n",
       "\n",
       "    .dataframe tbody tr th {\n",
       "        vertical-align: top;\n",
       "    }\n",
       "\n",
       "    .dataframe thead th {\n",
       "        text-align: right;\n",
       "    }\n",
       "</style>\n",
       "<table border=\"1\" class=\"dataframe\">\n",
       "  <thead>\n",
       "    <tr style=\"text-align: right;\">\n",
       "      <th></th>\n",
       "      <th>Monthly_Balance</th>\n",
       "    </tr>\n",
       "    <tr>\n",
       "      <th>Credit_Mix</th>\n",
       "      <th></th>\n",
       "    </tr>\n",
       "  </thead>\n",
       "  <tbody>\n",
       "    <tr>\n",
       "      <th>Bad</th>\n",
       "      <td>280.772860</td>\n",
       "    </tr>\n",
       "    <tr>\n",
       "      <th>Good</th>\n",
       "      <td>488.652959</td>\n",
       "    </tr>\n",
       "    <tr>\n",
       "      <th>Standard</th>\n",
       "      <td>381.204095</td>\n",
       "    </tr>\n",
       "  </tbody>\n",
       "</table>\n",
       "</div>"
      ],
      "text/plain": [
       "            Monthly_Balance\n",
       "Credit_Mix                 \n",
       "Bad              280.772860\n",
       "Good             488.652959\n",
       "Standard         381.204095"
      ]
     },
     "execution_count": 54,
     "metadata": {},
     "output_type": "execute_result"
    }
   ],
   "source": [
    "df1.groupby('Credit_Mix')[['Monthly_Balance']].mean()"
   ]
  },
  {
   "cell_type": "code",
   "execution_count": null,
   "id": "cd608116",
   "metadata": {},
   "outputs": [
    {
     "data": {
      "text/plain": [
       "Credit_Mix\n",
       "Bad         13.877647\n",
       "Standard    11.636473\n",
       "Good         6.119423\n",
       "Name: Changed_Credit_Limit, dtype: float64"
      ]
     },
     "execution_count": 138,
     "metadata": {},
     "output_type": "execute_result"
    }
   ],
   "source": [
    "z=df1.groupby('Credit_Mix')['Changed_Credit_Limit'].mean().sort_values(ascending=False)\n",
    "z\n",
    "# Changed_Credit_Limit => Represents the percentage change in credit card limit"
   ]
  },
  {
   "cell_type": "code",
   "execution_count": null,
   "id": "7026bce7",
   "metadata": {},
   "outputs": [
    {
     "data": {
      "image/png": "[encoded data removed]",
      "text/plain": [
       "<Figure size 640x480 with 1 Axes>"
      ]
     },
     "metadata": {},
     "output_type": "display_data"
    }
   ],
   "source": [
    "plt.bar(z.index,z)\n",
    "plt.xlabel('Credit status')\n",
    "plt.ylabel('Average credit limit')\n",
    "plt.title('Line graph of average credit limit in different credit status')\n",
    "plt.show()\n",
    "# insight -> bad credit status tries to improve their credit score"
   ]
  },
  {
   "cell_type": "code",
   "execution_count": 57,
   "id": "65f6a250",
   "metadata": {},
   "outputs": [
    {
     "data": {
      "text/html": [
       "<div>\n",
       "<style scoped>\n",
       "    .dataframe tbody tr th:only-of-type {\n",
       "        vertical-align: middle;\n",
       "    }\n",
       "\n",
       "    .dataframe tbody tr th {\n",
       "        vertical-align: top;\n",
       "    }\n",
       "\n",
       "    .dataframe thead th {\n",
       "        text-align: right;\n",
       "    }\n",
       "</style>\n",
       "<table border=\"1\" class=\"dataframe\">\n",
       "  <thead>\n",
       "    <tr style=\"text-align: right;\">\n",
       "      <th></th>\n",
       "      <th></th>\n",
       "      <th>Num_of_Delayed_Payment</th>\n",
       "    </tr>\n",
       "    <tr>\n",
       "      <th>Credit_Mix</th>\n",
       "      <th>Payment_of_Min_Amount</th>\n",
       "      <th></th>\n",
       "    </tr>\n",
       "  </thead>\n",
       "  <tbody>\n",
       "    <tr>\n",
       "      <th>Bad</th>\n",
       "      <th>Yes</th>\n",
       "      <td>70836.0</td>\n",
       "    </tr>\n",
       "    <tr>\n",
       "      <th>Good</th>\n",
       "      <th>No</th>\n",
       "      <td>19887.0</td>\n",
       "    </tr>\n",
       "    <tr>\n",
       "      <th rowspan=\"2\" valign=\"top\">Standard</th>\n",
       "      <th>No</th>\n",
       "      <td>15418.0</td>\n",
       "    </tr>\n",
       "    <tr>\n",
       "      <th>Yes</th>\n",
       "      <td>65754.0</td>\n",
       "    </tr>\n",
       "  </tbody>\n",
       "</table>\n",
       "</div>"
      ],
      "text/plain": [
       "                                  Num_of_Delayed_Payment\n",
       "Credit_Mix Payment_of_Min_Amount                        \n",
       "Bad        Yes                                   70836.0\n",
       "Good       No                                    19887.0\n",
       "Standard   No                                    15418.0\n",
       "           Yes                                   65754.0"
      ]
     },
     "execution_count": 57,
     "metadata": {},
     "output_type": "execute_result"
    }
   ],
   "source": [
    "df1.groupby(['Credit_Mix','Payment_of_Min_Amount'])[['Num_of_Delayed_Payment']].sum()"
   ]
  },
  {
   "cell_type": "code",
   "execution_count": 58,
   "id": "5b685a77",
   "metadata": {},
   "outputs": [
    {
     "data": {
      "text/plain": [
       "Index(['Month', 'Age', 'Occupation', 'Annual_Income', 'Monthly_Inhand_Salary',\n",
       "       'Num_Bank_Accounts', 'Num_Credit_Card', 'Interest_Rate', 'Num_of_Loan',\n",
       "       'Delay_from_due_date', 'Num_of_Delayed_Payment', 'Changed_Credit_Limit',\n",
       "       'Num_Credit_Inquiries', 'Credit_Mix', 'Outstanding_Debt',\n",
       "       'Credit_Utilization_Ratio', 'Credit_History_Age',\n",
       "       'Payment_of_Min_Amount', 'Total_EMI_per_month',\n",
       "       'Amount_invested_monthly', 'Payment_Behaviour', 'Monthly_Balance'],\n",
       "      dtype='object')"
      ]
     },
     "execution_count": 58,
     "metadata": {},
     "output_type": "execute_result"
    }
   ],
   "source": [
    "df1.columns"
   ]
  },
  {
   "cell_type": "code",
   "execution_count": 59,
   "id": "fb592601",
   "metadata": {},
   "outputs": [
    {
     "data": {
      "text/html": [
       "<div>\n",
       "<style scoped>\n",
       "    .dataframe tbody tr th:only-of-type {\n",
       "        vertical-align: middle;\n",
       "    }\n",
       "\n",
       "    .dataframe tbody tr th {\n",
       "        vertical-align: top;\n",
       "    }\n",
       "\n",
       "    .dataframe thead th {\n",
       "        text-align: right;\n",
       "    }\n",
       "</style>\n",
       "<table border=\"1\" class=\"dataframe\">\n",
       "  <thead>\n",
       "    <tr style=\"text-align: right;\">\n",
       "      <th></th>\n",
       "      <th></th>\n",
       "      <th>Month</th>\n",
       "    </tr>\n",
       "    <tr>\n",
       "      <th>Credit_Mix</th>\n",
       "      <th>Month</th>\n",
       "      <th></th>\n",
       "    </tr>\n",
       "  </thead>\n",
       "  <tbody>\n",
       "    <tr>\n",
       "      <th rowspan=\"4\" valign=\"top\">Bad</th>\n",
       "      <th>December</th>\n",
       "      <td>849</td>\n",
       "    </tr>\n",
       "    <tr>\n",
       "      <th>November</th>\n",
       "      <td>921</td>\n",
       "    </tr>\n",
       "    <tr>\n",
       "      <th>October</th>\n",
       "      <td>867</td>\n",
       "    </tr>\n",
       "    <tr>\n",
       "      <th>September</th>\n",
       "      <td>911</td>\n",
       "    </tr>\n",
       "    <tr>\n",
       "      <th rowspan=\"4\" valign=\"top\">Good</th>\n",
       "      <th>December</th>\n",
       "      <td>709</td>\n",
       "    </tr>\n",
       "    <tr>\n",
       "      <th>November</th>\n",
       "      <td>685</td>\n",
       "    </tr>\n",
       "    <tr>\n",
       "      <th>October</th>\n",
       "      <td>662</td>\n",
       "    </tr>\n",
       "    <tr>\n",
       "      <th>September</th>\n",
       "      <td>667</td>\n",
       "    </tr>\n",
       "    <tr>\n",
       "      <th rowspan=\"4\" valign=\"top\">Standard</th>\n",
       "      <th>December</th>\n",
       "      <td>1486</td>\n",
       "    </tr>\n",
       "    <tr>\n",
       "      <th>November</th>\n",
       "      <td>1458</td>\n",
       "    </tr>\n",
       "    <tr>\n",
       "      <th>October</th>\n",
       "      <td>1407</td>\n",
       "    </tr>\n",
       "    <tr>\n",
       "      <th>September</th>\n",
       "      <td>1439</td>\n",
       "    </tr>\n",
       "  </tbody>\n",
       "</table>\n",
       "</div>"
      ],
      "text/plain": [
       "                      Month\n",
       "Credit_Mix Month           \n",
       "Bad        December     849\n",
       "           November     921\n",
       "           October      867\n",
       "           September    911\n",
       "Good       December     709\n",
       "           November     685\n",
       "           October      662\n",
       "           September    667\n",
       "Standard   December    1486\n",
       "           November    1458\n",
       "           October     1407\n",
       "           September   1439"
      ]
     },
     "execution_count": 59,
     "metadata": {},
     "output_type": "execute_result"
    }
   ],
   "source": [
    "df1.groupby(['Credit_Mix','Month'])[['Month']].count()"
   ]
  },
  {
   "cell_type": "code",
   "execution_count": 60,
   "id": "6d861374",
   "metadata": {},
   "outputs": [
    {
     "data": {
      "image/png": "[encoded data removed]",
      "text/plain": [
       "<Figure size 1000x1000 with 1 Axes>"
      ]
     },
     "metadata": {},
     "output_type": "display_data"
    }
   ],
   "source": [
    "plt.figure(figsize=(10,10))\n",
    "sns.countplot(x=df1['Credit_Mix'],hue=df1['Payment_Behaviour'])\n",
    "plt.show()"
   ]
  },
  {
   "cell_type": "code",
   "execution_count": 61,
   "id": "05d35eb5",
   "metadata": {},
   "outputs": [
    {
     "data": {
      "text/html": [
       "<div>\n",
       "<style scoped>\n",
       "    .dataframe tbody tr th:only-of-type {\n",
       "        vertical-align: middle;\n",
       "    }\n",
       "\n",
       "    .dataframe tbody tr th {\n",
       "        vertical-align: top;\n",
       "    }\n",
       "\n",
       "    .dataframe thead th {\n",
       "        text-align: right;\n",
       "    }\n",
       "</style>\n",
       "<table border=\"1\" class=\"dataframe\">\n",
       "  <thead>\n",
       "    <tr style=\"text-align: right;\">\n",
       "      <th></th>\n",
       "      <th>Month</th>\n",
       "      <th>Age</th>\n",
       "      <th>Occupation</th>\n",
       "      <th>Annual_Income</th>\n",
       "      <th>Monthly_Inhand_Salary</th>\n",
       "      <th>Num_Bank_Accounts</th>\n",
       "      <th>Num_Credit_Card</th>\n",
       "      <th>Interest_Rate</th>\n",
       "      <th>Num_of_Loan</th>\n",
       "      <th>Delay_from_due_date</th>\n",
       "      <th>...</th>\n",
       "      <th>Num_Credit_Inquiries</th>\n",
       "      <th>Credit_Mix</th>\n",
       "      <th>Outstanding_Debt</th>\n",
       "      <th>Credit_Utilization_Ratio</th>\n",
       "      <th>Credit_History_Age</th>\n",
       "      <th>Payment_of_Min_Amount</th>\n",
       "      <th>Total_EMI_per_month</th>\n",
       "      <th>Amount_invested_monthly</th>\n",
       "      <th>Payment_Behaviour</th>\n",
       "      <th>Monthly_Balance</th>\n",
       "    </tr>\n",
       "  </thead>\n",
       "  <tbody>\n",
       "    <tr>\n",
       "      <th>1</th>\n",
       "      <td>October</td>\n",
       "      <td>24.0</td>\n",
       "      <td>Scientist</td>\n",
       "      <td>19114.12</td>\n",
       "      <td>1824.843333</td>\n",
       "      <td>3</td>\n",
       "      <td>4</td>\n",
       "      <td>3</td>\n",
       "      <td>4.0</td>\n",
       "      <td>3</td>\n",
       "      <td>...</td>\n",
       "      <td>4.0</td>\n",
       "      <td>Good</td>\n",
       "      <td>809.98</td>\n",
       "      <td>33.053114</td>\n",
       "      <td>274</td>\n",
       "      <td>No</td>\n",
       "      <td>49.574949</td>\n",
       "      <td>21.465380</td>\n",
       "      <td>High_spent_Medium_value_payments</td>\n",
       "      <td>361.444004</td>\n",
       "    </tr>\n",
       "    <tr>\n",
       "      <th>5</th>\n",
       "      <td>October</td>\n",
       "      <td>28.0</td>\n",
       "      <td>Teacher</td>\n",
       "      <td>34847.84</td>\n",
       "      <td>3037.986667</td>\n",
       "      <td>2</td>\n",
       "      <td>4</td>\n",
       "      <td>6</td>\n",
       "      <td>1.0</td>\n",
       "      <td>3</td>\n",
       "      <td>...</td>\n",
       "      <td>5.0</td>\n",
       "      <td>Good</td>\n",
       "      <td>605.03</td>\n",
       "      <td>30.116600</td>\n",
       "      <td>328</td>\n",
       "      <td>No</td>\n",
       "      <td>18.816215</td>\n",
       "      <td>251.627369</td>\n",
       "      <td>Low_spent_Large_value_payments</td>\n",
       "      <td>303.355083</td>\n",
       "    </tr>\n",
       "    <tr>\n",
       "      <th>9</th>\n",
       "      <td>October</td>\n",
       "      <td>35.0</td>\n",
       "      <td>Engineer</td>\n",
       "      <td>143162.64</td>\n",
       "      <td>12187.220000</td>\n",
       "      <td>1</td>\n",
       "      <td>5</td>\n",
       "      <td>8</td>\n",
       "      <td>3.0</td>\n",
       "      <td>6</td>\n",
       "      <td>...</td>\n",
       "      <td>3.0</td>\n",
       "      <td>Good</td>\n",
       "      <td>1303.01</td>\n",
       "      <td>35.685836</td>\n",
       "      <td>222</td>\n",
       "      <td>No</td>\n",
       "      <td>246.992319</td>\n",
       "      <td>453.615131</td>\n",
       "      <td>Low_spent_Large_value_payments</td>\n",
       "      <td>788.114550</td>\n",
       "    </tr>\n",
       "    <tr>\n",
       "      <th>12</th>\n",
       "      <td>September</td>\n",
       "      <td>55.0</td>\n",
       "      <td>Entrepreneur</td>\n",
       "      <td>30689.89</td>\n",
       "      <td>2612.490833</td>\n",
       "      <td>2</td>\n",
       "      <td>5</td>\n",
       "      <td>4</td>\n",
       "      <td>1.0</td>\n",
       "      <td>5</td>\n",
       "      <td>...</td>\n",
       "      <td>4.0</td>\n",
       "      <td>Good</td>\n",
       "      <td>632.46</td>\n",
       "      <td>39.377219</td>\n",
       "      <td>215</td>\n",
       "      <td>No</td>\n",
       "      <td>16.415452</td>\n",
       "      <td>69.107006</td>\n",
       "      <td>High_spent_Medium_value_payments</td>\n",
       "      <td>425.726626</td>\n",
       "    </tr>\n",
       "    <tr>\n",
       "      <th>14</th>\n",
       "      <td>November</td>\n",
       "      <td>55.0</td>\n",
       "      <td>Entrepreneur</td>\n",
       "      <td>30689.89</td>\n",
       "      <td>2612.490833</td>\n",
       "      <td>2</td>\n",
       "      <td>5</td>\n",
       "      <td>4</td>\n",
       "      <td>1.0</td>\n",
       "      <td>5</td>\n",
       "      <td>...</td>\n",
       "      <td>4.0</td>\n",
       "      <td>Good</td>\n",
       "      <td>632.46</td>\n",
       "      <td>36.824468</td>\n",
       "      <td>217</td>\n",
       "      <td>No</td>\n",
       "      <td>16.415452</td>\n",
       "      <td>191.886244</td>\n",
       "      <td>Low_spent_Medium_value_payments</td>\n",
       "      <td>332.947388</td>\n",
       "    </tr>\n",
       "    <tr>\n",
       "      <th>...</th>\n",
       "      <td>...</td>\n",
       "      <td>...</td>\n",
       "      <td>...</td>\n",
       "      <td>...</td>\n",
       "      <td>...</td>\n",
       "      <td>...</td>\n",
       "      <td>...</td>\n",
       "      <td>...</td>\n",
       "      <td>...</td>\n",
       "      <td>...</td>\n",
       "      <td>...</td>\n",
       "      <td>...</td>\n",
       "      <td>...</td>\n",
       "      <td>...</td>\n",
       "      <td>...</td>\n",
       "      <td>...</td>\n",
       "      <td>...</td>\n",
       "      <td>...</td>\n",
       "      <td>...</td>\n",
       "      <td>...</td>\n",
       "      <td>...</td>\n",
       "    </tr>\n",
       "    <tr>\n",
       "      <th>49966</th>\n",
       "      <td>November</td>\n",
       "      <td>39.0</td>\n",
       "      <td>Manager</td>\n",
       "      <td>15319.65</td>\n",
       "      <td>1460.637500</td>\n",
       "      <td>6</td>\n",
       "      <td>7</td>\n",
       "      <td>15</td>\n",
       "      <td>4.0</td>\n",
       "      <td>53</td>\n",
       "      <td>...</td>\n",
       "      <td>6.0</td>\n",
       "      <td>Bad</td>\n",
       "      <td>1453.61</td>\n",
       "      <td>25.497671</td>\n",
       "      <td>139</td>\n",
       "      <td>Yes</td>\n",
       "      <td>28.182033</td>\n",
       "      <td>28.514703</td>\n",
       "      <td>High_spent_Large_value_payments</td>\n",
       "      <td>329.367014</td>\n",
       "    </tr>\n",
       "    <tr>\n",
       "      <th>49976</th>\n",
       "      <td>September</td>\n",
       "      <td>21.0</td>\n",
       "      <td>Architect</td>\n",
       "      <td>38321.39</td>\n",
       "      <td>3106.647859</td>\n",
       "      <td>4</td>\n",
       "      <td>4</td>\n",
       "      <td>3</td>\n",
       "      <td>4.0</td>\n",
       "      <td>11</td>\n",
       "      <td>...</td>\n",
       "      <td>6.0</td>\n",
       "      <td>Good</td>\n",
       "      <td>678.57</td>\n",
       "      <td>29.004432</td>\n",
       "      <td>211</td>\n",
       "      <td>No</td>\n",
       "      <td>362.072453</td>\n",
       "      <td>79.991128</td>\n",
       "      <td>High_spent_Large_value_payments</td>\n",
       "      <td>381.182642</td>\n",
       "    </tr>\n",
       "    <tr>\n",
       "      <th>49992</th>\n",
       "      <td>September</td>\n",
       "      <td>29.0</td>\n",
       "      <td>Architect</td>\n",
       "      <td>20002.88</td>\n",
       "      <td>1929.906667</td>\n",
       "      <td>10</td>\n",
       "      <td>8</td>\n",
       "      <td>29</td>\n",
       "      <td>5.0</td>\n",
       "      <td>33</td>\n",
       "      <td>...</td>\n",
       "      <td>9.0</td>\n",
       "      <td>Bad</td>\n",
       "      <td>3571.70</td>\n",
       "      <td>32.391288</td>\n",
       "      <td>76</td>\n",
       "      <td>Yes</td>\n",
       "      <td>60.964772</td>\n",
       "      <td>107.210742</td>\n",
       "      <td>Low_spent_Small_value_payments</td>\n",
       "      <td>314.815153</td>\n",
       "    </tr>\n",
       "    <tr>\n",
       "      <th>49993</th>\n",
       "      <td>October</td>\n",
       "      <td>29.0</td>\n",
       "      <td>Architect</td>\n",
       "      <td>20002.88</td>\n",
       "      <td>1929.906667</td>\n",
       "      <td>10</td>\n",
       "      <td>8</td>\n",
       "      <td>29</td>\n",
       "      <td>5.0</td>\n",
       "      <td>33</td>\n",
       "      <td>...</td>\n",
       "      <td>12.0</td>\n",
       "      <td>Bad</td>\n",
       "      <td>3571.70</td>\n",
       "      <td>37.528511</td>\n",
       "      <td>77</td>\n",
       "      <td>Yes</td>\n",
       "      <td>60.964772</td>\n",
       "      <td>71.794421</td>\n",
       "      <td>Low_spent_Small_value_payments</td>\n",
       "      <td>350.231473</td>\n",
       "    </tr>\n",
       "    <tr>\n",
       "      <th>49997</th>\n",
       "      <td>October</td>\n",
       "      <td>25.0</td>\n",
       "      <td>Mechanic</td>\n",
       "      <td>39628.99</td>\n",
       "      <td>3359.415833</td>\n",
       "      <td>4</td>\n",
       "      <td>6</td>\n",
       "      <td>7</td>\n",
       "      <td>2.0</td>\n",
       "      <td>23</td>\n",
       "      <td>...</td>\n",
       "      <td>7.0</td>\n",
       "      <td>Good</td>\n",
       "      <td>502.38</td>\n",
       "      <td>36.858542</td>\n",
       "      <td>384</td>\n",
       "      <td>No</td>\n",
       "      <td>35.104023</td>\n",
       "      <td>10000.000000</td>\n",
       "      <td>Low_spent_Large_value_payments</td>\n",
       "      <td>349.726332</td>\n",
       "    </tr>\n",
       "  </tbody>\n",
       "</table>\n",
       "<p>12061 rows × 22 columns</p>\n",
       "</div>"
      ],
      "text/plain": [
       "           Month   Age    Occupation  Annual_Income  Monthly_Inhand_Salary  \\\n",
       "1        October  24.0     Scientist       19114.12            1824.843333   \n",
       "5        October  28.0       Teacher       34847.84            3037.986667   \n",
       "9        October  35.0      Engineer      143162.64           12187.220000   \n",
       "12     September  55.0  Entrepreneur       30689.89            2612.490833   \n",
       "14      November  55.0  Entrepreneur       30689.89            2612.490833   \n",
       "...          ...   ...           ...            ...                    ...   \n",
       "49966   November  39.0       Manager       15319.65            1460.637500   \n",
       "49976  September  21.0     Architect       38321.39            3106.647859   \n",
       "49992  September  29.0     Architect       20002.88            1929.906667   \n",
       "49993    October  29.0     Architect       20002.88            1929.906667   \n",
       "49997    October  25.0      Mechanic       39628.99            3359.415833   \n",
       "\n",
       "       Num_Bank_Accounts  Num_Credit_Card  Interest_Rate  Num_of_Loan  \\\n",
       "1                      3                4              3          4.0   \n",
       "5                      2                4              6          1.0   \n",
       "9                      1                5              8          3.0   \n",
       "12                     2                5              4          1.0   \n",
       "14                     2                5              4          1.0   \n",
       "...                  ...              ...            ...          ...   \n",
       "49966                  6                7             15          4.0   \n",
       "49976                  4                4              3          4.0   \n",
       "49992                 10                8             29          5.0   \n",
       "49993                 10                8             29          5.0   \n",
       "49997                  4                6              7          2.0   \n",
       "\n",
       "       Delay_from_due_date  ...  Num_Credit_Inquiries  Credit_Mix  \\\n",
       "1                        3  ...                   4.0        Good   \n",
       "5                        3  ...                   5.0        Good   \n",
       "9                        6  ...                   3.0        Good   \n",
       "12                       5  ...                   4.0        Good   \n",
       "14                       5  ...                   4.0        Good   \n",
       "...                    ...  ...                   ...         ...   \n",
       "49966                   53  ...                   6.0         Bad   \n",
       "49976                   11  ...                   6.0        Good   \n",
       "49992                   33  ...                   9.0         Bad   \n",
       "49993                   33  ...                  12.0         Bad   \n",
       "49997                   23  ...                   7.0        Good   \n",
       "\n",
       "       Outstanding_Debt Credit_Utilization_Ratio  Credit_History_Age  \\\n",
       "1                809.98                33.053114                 274   \n",
       "5                605.03                30.116600                 328   \n",
       "9               1303.01                35.685836                 222   \n",
       "12               632.46                39.377219                 215   \n",
       "14               632.46                36.824468                 217   \n",
       "...                 ...                      ...                 ...   \n",
       "49966           1453.61                25.497671                 139   \n",
       "49976            678.57                29.004432                 211   \n",
       "49992           3571.70                32.391288                  76   \n",
       "49993           3571.70                37.528511                  77   \n",
       "49997            502.38                36.858542                 384   \n",
       "\n",
       "       Payment_of_Min_Amount  Total_EMI_per_month Amount_invested_monthly  \\\n",
       "1                         No            49.574949               21.465380   \n",
       "5                         No            18.816215              251.627369   \n",
       "9                         No           246.992319              453.615131   \n",
       "12                        No            16.415452               69.107006   \n",
       "14                        No            16.415452              191.886244   \n",
       "...                      ...                  ...                     ...   \n",
       "49966                    Yes            28.182033               28.514703   \n",
       "49976                     No           362.072453               79.991128   \n",
       "49992                    Yes            60.964772              107.210742   \n",
       "49993                    Yes            60.964772               71.794421   \n",
       "49997                     No            35.104023            10000.000000   \n",
       "\n",
       "                      Payment_Behaviour  Monthly_Balance  \n",
       "1      High_spent_Medium_value_payments       361.444004  \n",
       "5        Low_spent_Large_value_payments       303.355083  \n",
       "9        Low_spent_Large_value_payments       788.114550  \n",
       "12     High_spent_Medium_value_payments       425.726626  \n",
       "14      Low_spent_Medium_value_payments       332.947388  \n",
       "...                                 ...              ...  \n",
       "49966   High_spent_Large_value_payments       329.367014  \n",
       "49976   High_spent_Large_value_payments       381.182642  \n",
       "49992    Low_spent_Small_value_payments       314.815153  \n",
       "49993    Low_spent_Small_value_payments       350.231473  \n",
       "49997    Low_spent_Large_value_payments       349.726332  \n",
       "\n",
       "[12061 rows x 22 columns]"
      ]
     },
     "execution_count": 61,
     "metadata": {},
     "output_type": "execute_result"
    }
   ],
   "source": [
    "df1"
   ]
  },
  {
   "cell_type": "code",
   "execution_count": 62,
   "id": "59eae575",
   "metadata": {},
   "outputs": [
    {
     "data": {
      "image/png": "[encoded data removed]",
      "text/plain": [
       "<Figure size 640x480 with 1 Axes>"
      ]
     },
     "metadata": {},
     "output_type": "display_data"
    }
   ],
   "source": [
    "plt.scatter(df1['Num_Bank_Accounts'],df1['Interest_Rate'])\n",
    "plt.xlabel('Number of bank accounts')\n",
    "plt.ylabel('Interest rate')\n",
    "plt.show()"
   ]
  },
  {
   "cell_type": "markdown",
   "id": "781656a8",
   "metadata": {},
   "source": [
    "Ordinal Encoding for month"
   ]
  },
  {
   "cell_type": "code",
   "execution_count": 63,
   "id": "85312df6",
   "metadata": {},
   "outputs": [],
   "source": [
    "month=OrdinalEncoder(categories=[['September', 'October', 'November', 'December']])\n",
    "df['Month']=month.fit_transform(df[['Month']])"
   ]
  },
  {
   "cell_type": "markdown",
   "id": "85b7e454",
   "metadata": {},
   "source": [
    "Ordinal encoding for occupation"
   ]
  },
  {
   "cell_type": "code",
   "execution_count": 64,
   "id": "f012dbb2",
   "metadata": {},
   "outputs": [],
   "source": [
    "occupation=LabelEncoder()\n",
    "df['Occupation']=occupation.fit_transform(df['Occupation'])"
   ]
  },
  {
   "cell_type": "markdown",
   "id": "cbeb1725",
   "metadata": {},
   "source": [
    "Ordinal Encoding in credit_mix"
   ]
  },
  {
   "cell_type": "code",
   "execution_count": 65,
   "id": "524d9c44",
   "metadata": {},
   "outputs": [
    {
     "data": {
      "text/plain": [
       "array(['Good', 'Standard', 'Bad'], dtype=object)"
      ]
     },
     "execution_count": 65,
     "metadata": {},
     "output_type": "execute_result"
    }
   ],
   "source": [
    "df['Credit_Mix'].unique()"
   ]
  },
  {
   "cell_type": "code",
   "execution_count": 66,
   "id": "1e9ca3fb",
   "metadata": {},
   "outputs": [],
   "source": [
    "credit_mix=OrdinalEncoder(categories=[['Bad','Standard','Good']])\n",
    "df['Credit_Mix']=credit_mix.fit_transform(df[['Credit_Mix']])"
   ]
  },
  {
   "cell_type": "markdown",
   "id": "1e49deb5",
   "metadata": {},
   "source": [
    "Ordinal encoding in Payment_Behaviour"
   ]
  },
  {
   "cell_type": "code",
   "execution_count": 67,
   "id": "687cb564",
   "metadata": {},
   "outputs": [
    {
     "data": {
      "text/plain": [
       "array(['High_spent_Medium_value_payments',\n",
       "       'Low_spent_Large_value_payments',\n",
       "       'Low_spent_Medium_value_payments',\n",
       "       'Low_spent_Small_value_payments',\n",
       "       'High_spent_Large_value_payments',\n",
       "       'High_spent_Small_value_payments'], dtype=object)"
      ]
     },
     "execution_count": 67,
     "metadata": {},
     "output_type": "execute_result"
    }
   ],
   "source": [
    "df['Payment_Behaviour'].unique()"
   ]
  },
  {
   "cell_type": "code",
   "execution_count": 68,
   "id": "389dc875",
   "metadata": {},
   "outputs": [],
   "source": [
    "behavior=OrdinalEncoder(categories=[['Low_spent_Small_value_payments','Low_spent_Medium_value_payments','Low_spent_Large_value_payments','High_spent_Small_value_payments','High_spent_Medium_value_payments','High_spent_Large_value_payments']])\n",
    "df['Payment_Behaviour']=behavior.fit_transform(df[['Payment_Behaviour']])"
   ]
  },
  {
   "cell_type": "code",
   "execution_count": 69,
   "id": "b49fe082",
   "metadata": {},
   "outputs": [],
   "source": [
    "Payment_of_Min_Amount=LabelEncoder()\n",
    "df['Payment_of_Min_Amount']=Payment_of_Min_Amount.fit_transform(df['Payment_of_Min_Amount'])"
   ]
  },
  {
   "cell_type": "code",
   "execution_count": 70,
   "id": "bbed954f",
   "metadata": {},
   "outputs": [
    {
     "data": {
      "text/plain": [
       "dtype('int64')"
      ]
     },
     "execution_count": 70,
     "metadata": {},
     "output_type": "execute_result"
    }
   ],
   "source": [
    "df['Interest_Rate'].dtype"
   ]
  },
  {
   "cell_type": "markdown",
   "id": "cadaba8d",
   "metadata": {},
   "source": [
    "Checking for negative or any outliers"
   ]
  },
  {
   "cell_type": "code",
   "execution_count": 71,
   "id": "6513bb4a",
   "metadata": {},
   "outputs": [
    {
     "name": "stdout",
     "output_type": "stream",
     "text": [
      "Minimum value of Month: 0.0\n",
      "Maximum_value of Month: 3.0\n",
      "\n",
      "Minimum value of Age: 14.0\n",
      "Maximum_value of Age: 95.0\n",
      "\n",
      "Minimum value of Occupation: 0\n",
      "Maximum_value of Occupation: 14\n",
      "\n",
      "Minimum value of Annual_Income: 7005.93\n",
      "Maximum_value of Annual_Income: 23994243.0\n",
      "\n",
      "Minimum value of Monthly_Inhand_Salary: 303.6454166666666\n",
      "Maximum_value of Monthly_Inhand_Salary: 15167.18\n",
      "\n",
      "Minimum value of Num_Bank_Accounts: 1\n",
      "Maximum_value of Num_Bank_Accounts: 10\n",
      "\n",
      "Minimum value of Num_Credit_Card: 1\n",
      "Maximum_value of Num_Credit_Card: 10\n",
      "\n",
      "Minimum value of Interest_Rate: 1\n",
      "Maximum_value of Interest_Rate: 34\n",
      "\n",
      "Minimum value of Num_of_Loan: 1.0\n",
      "Maximum_value of Num_of_Loan: 9.0\n",
      "\n",
      "Minimum value of Delay_from_due_date: 1\n",
      "Maximum_value of Delay_from_due_date: 67\n",
      "\n",
      "Minimum value of Num_of_Delayed_Payment: 0.0\n",
      "Maximum_value of Num_of_Delayed_Payment: 28.0\n",
      "\n",
      "Minimum value of Changed_Credit_Limit: -6.4\n",
      "Maximum_value of Changed_Credit_Limit: 35.81\n",
      "\n",
      "Minimum value of Num_Credit_Inquiries: 1.0\n",
      "Maximum_value of Num_Credit_Inquiries: 17.0\n",
      "\n",
      "Minimum value of Credit_Mix: 0.0\n",
      "Maximum_value of Credit_Mix: 2.0\n",
      "\n",
      "Minimum value of Outstanding_Debt: 12.41\n",
      "Maximum_value of Outstanding_Debt: 4998.07\n",
      "\n",
      "Minimum value of Credit_Utilization_Ratio: 21.24807121768862\n",
      "Maximum_value of Credit_Utilization_Ratio: 47.23010359407712\n",
      "\n",
      "Minimum value of Credit_History_Age: 10\n",
      "Maximum_value of Credit_History_Age: 408\n",
      "\n",
      "Minimum value of Payment_of_Min_Amount: 0\n",
      "Maximum_value of Payment_of_Min_Amount: 1\n",
      "\n",
      "Minimum value of Total_EMI_per_month: 12.000280476233074\n",
      "Maximum_value of Total_EMI_per_month: 82347.0\n",
      "\n",
      "Minimum value of Amount_invested_monthly: 0.0\n",
      "Maximum_value of Amount_invested_monthly: 10000.0\n",
      "\n",
      "Minimum value of Payment_Behaviour: 0.0\n",
      "Maximum_value of Payment_Behaviour: 5.0\n",
      "\n",
      "Minimum value of Monthly_Balance: 0.10340223118339507\n",
      "Maximum_value of Monthly_Balance: 1553.8416358575596\n",
      "\n"
     ]
    }
   ],
   "source": [
    "for i in df:\n",
    "  if df[i].dtype in [int,float]:\n",
    "    print(f\"Minimum value of {i}:\",df[i].min())\n",
    "    print(f'Maximum_value of {i}:',df[i].max())\n",
    "    print()"
   ]
  },
  {
   "cell_type": "code",
   "execution_count": 72,
   "id": "a7c104fc",
   "metadata": {},
   "outputs": [],
   "source": [
    "df.drop(index=df[df['Age']==95].index,inplace=True) "
   ]
  },
  {
   "cell_type": "markdown",
   "id": "3a330370",
   "metadata": {},
   "source": [
    "Modeling"
   ]
  },
  {
   "cell_type": "code",
   "execution_count": 73,
   "id": "5f174c15",
   "metadata": {},
   "outputs": [],
   "source": [
    "x=df.drop(columns=['Credit_Mix'])\n",
    "y=df['Credit_Mix']"
   ]
  },
  {
   "cell_type": "code",
   "execution_count": 74,
   "id": "024b7bc7",
   "metadata": {},
   "outputs": [],
   "source": [
    "minmax=MinMaxScaler()\n",
    "x_scaled=minmax.fit_transform(x)"
   ]
  },
  {
   "cell_type": "code",
   "execution_count": 75,
   "id": "3adf2e9a",
   "metadata": {},
   "outputs": [],
   "source": [
    "x_train,x_test,y_train,y_test=train_test_split(x_scaled,y,test_size=0.3,random_state=42)"
   ]
  },
  {
   "cell_type": "code",
   "execution_count": 76,
   "id": "24a9e274",
   "metadata": {},
   "outputs": [
    {
     "name": "stdout",
     "output_type": "stream",
     "text": [
      "Train data-KNeighborsClassifier: 93.44941956882255\n",
      "Test data-KNeighborsClassifier: 90.74074074074075\n",
      "\n",
      "Train data-SVC: 93.98246860933428\n",
      "Test data-SVC: 92.92426755113323\n",
      "\n",
      "Train data-MultinomialNB: 80.6562425965411\n",
      "Test data-MultinomialNB: 81.53676064123825\n",
      "\n",
      "Train data-DecisionTreeClassifier: 100.0\n",
      "Test data-DecisionTreeClassifier: 93.06246545052515\n",
      "\n",
      "Train data-RandomForestClassifier: 100.0\n",
      "Test data-RandomForestClassifier: 95.6882255389718\n",
      "\n",
      "Train data-GradientBoostingClassifier: 96.12651030561479\n",
      "Test data-GradientBoostingClassifier: 94.47208402432284\n",
      "\n",
      "Train data-AdaBoostClassifier: 84.9680170575693\n",
      "Test data-AdaBoostClassifier: 84.5771144278607\n",
      "\n",
      "Train data-XGBClassifier: 100.0\n",
      "Test data-XGBClassifier: 96.04754007739082\n",
      "\n"
     ]
    }
   ],
   "source": [
    "models=[KNeighborsClassifier(),SVC(),MultinomialNB(),DecisionTreeClassifier(random_state=42),RandomForestClassifier(random_state=42),GradientBoostingClassifier(random_state=42),AdaBoostClassifier(random_state=42),XGBClassifier(random_state=42)]\n",
    "for model in models:\n",
    "  model.fit(x_train,y_train)\n",
    "  y_pred=model.predict(x_test)\n",
    "  print(f'Train data-{str(model).split('(')[0]}:',model.score(x_train,y_train)*100)\n",
    "  print(f'Test data-{str(model).split('(')[0]}:',accuracy_score(y_test,y_pred)*100)\n",
    "  print()"
   ]
  },
  {
   "cell_type": "markdown",
   "id": "50fbf495",
   "metadata": {},
   "source": [
    "feature selection using wrapper selection method"
   ]
  },
  {
   "cell_type": "code",
   "execution_count": 77,
   "id": "4dcf4994",
   "metadata": {},
   "outputs": [],
   "source": [
    "x=df.drop(columns='Credit_Mix')\n",
    "y=df['Credit_Mix']"
   ]
  },
  {
   "cell_type": "code",
   "execution_count": 78,
   "id": "fb546691",
   "metadata": {},
   "outputs": [
    {
     "data": {
      "text/html": [
       "<style>#sk-container-id-1 {\n",
       "  /* Definition of color scheme common for light and dark mode */\n",
       "  --sklearn-color-text: #000;\n",
       "  --sklearn-color-text-muted: #666;\n",
       "  --sklearn-color-line: gray;\n",
       "  /* Definition of color scheme for unfitted estimators */\n",
       "  --sklearn-color-unfitted-level-0: #fff5e6;\n",
       "  --sklearn-color-unfitted-level-1: #f6e4d2;\n",
       "  --sklearn-color-unfitted-level-2: #ffe0b3;\n",
       "  --sklearn-color-unfitted-level-3: chocolate;\n",
       "  /* Definition of color scheme for fitted estimators */\n",
       "  --sklearn-color-fitted-level-0: #f0f8ff;\n",
       "  --sklearn-color-fitted-level-1: #d4ebff;\n",
       "  --sklearn-color-fitted-level-2: #b3dbfd;\n",
       "  --sklearn-color-fitted-level-3: cornflowerblue;\n",
       "\n",
       "  /* Specific color for light theme */\n",
       "  --sklearn-color-text-on-default-background: var(--sg-text-color, var(--theme-code-foreground, var(--jp-content-font-color1, black)));\n",
       "  --sklearn-color-background: var(--sg-background-color, var(--theme-background, var(--jp-layout-color0, white)));\n",
       "  --sklearn-color-border-box: var(--sg-text-color, var(--theme-code-foreground, var(--jp-content-font-color1, black)));\n",
       "  --sklearn-color-icon: #696969;\n",
       "\n",
       "  @media (prefers-color-scheme: dark) {\n",
       "    /* Redefinition of color scheme for dark theme */\n",
       "    --sklearn-color-text-on-default-background: var(--sg-text-color, var(--theme-code-foreground, var(--jp-content-font-color1, white)));\n",
       "    --sklearn-color-background: var(--sg-background-color, var(--theme-background, var(--jp-layout-color0, #111)));\n",
       "    --sklearn-color-border-box: var(--sg-text-color, var(--theme-code-foreground, var(--jp-content-font-color1, white)));\n",
       "    --sklearn-color-icon: #878787;\n",
       "  }\n",
       "}\n",
       "\n",
       "#sk-container-id-1 {\n",
       "  color: var(--sklearn-color-text);\n",
       "}\n",
       "\n",
       "#sk-container-id-1 pre {\n",
       "  padding: 0;\n",
       "}\n",
       "\n",
       "#sk-container-id-1 input.sk-hidden--visually {\n",
       "  border: 0;\n",
       "  clip: rect(1px 1px 1px 1px);\n",
       "  clip: rect(1px, 1px, 1px, 1px);\n",
       "  height: 1px;\n",
       "  margin: -1px;\n",
       "  overflow: hidden;\n",
       "  padding: 0;\n",
       "  position: absolute;\n",
       "  width: 1px;\n",
       "}\n",
       "\n",
       "#sk-container-id-1 div.sk-dashed-wrapped {\n",
       "  border: 1px dashed var(--sklearn-color-line);\n",
       "  margin: 0 0.4em 0.5em 0.4em;\n",
       "  box-sizing: border-box;\n",
       "  padding-bottom: 0.4em;\n",
       "  background-color: var(--sklearn-color-background);\n",
       "}\n",
       "\n",
       "#sk-container-id-1 div.sk-container {\n",
       "  /* jupyter's `normalize.less` sets `[hidden] { display: none; }`\n",
       "     but bootstrap.min.css set `[hidden] { display: none !important; }`\n",
       "     so we also need the `!important` here to be able to override the\n",
       "     default hidden behavior on the sphinx rendered scikit-learn.org.\n",
       "     See: https://github.com/scikit-learn/scikit-learn/issues/21755 */\n",
       "  display: inline-block !important;\n",
       "  position: relative;\n",
       "}\n",
       "\n",
       "#sk-container-id-1 div.sk-text-repr-fallback {\n",
       "  display: none;\n",
       "}\n",
       "\n",
       "div.sk-parallel-item,\n",
       "div.sk-serial,\n",
       "div.sk-item {\n",
       "  /* draw centered vertical line to link estimators */\n",
       "  background-image: linear-gradient(var(--sklearn-color-text-on-default-background), var(--sklearn-color-text-on-default-background));\n",
       "  background-size: 2px 100%;\n",
       "  background-repeat: no-repeat;\n",
       "  background-position: center center;\n",
       "}\n",
       "\n",
       "/* Parallel-specific style estimator block */\n",
       "\n",
       "#sk-container-id-1 div.sk-parallel-item::after {\n",
       "  content: \"\";\n",
       "  width: 100%;\n",
       "  border-bottom: 2px solid var(--sklearn-color-text-on-default-background);\n",
       "  flex-grow: 1;\n",
       "}\n",
       "\n",
       "#sk-container-id-1 div.sk-parallel {\n",
       "  display: flex;\n",
       "  align-items: stretch;\n",
       "  justify-content: center;\n",
       "  background-color: var(--sklearn-color-background);\n",
       "  position: relative;\n",
       "}\n",
       "\n",
       "#sk-container-id-1 div.sk-parallel-item {\n",
       "  display: flex;\n",
       "  flex-direction: column;\n",
       "}\n",
       "\n",
       "#sk-container-id-1 div.sk-parallel-item:first-child::after {\n",
       "  align-self: flex-end;\n",
       "  width: 50%;\n",
       "}\n",
       "\n",
       "#sk-container-id-1 div.sk-parallel-item:last-child::after {\n",
       "  align-self: flex-start;\n",
       "  width: 50%;\n",
       "}\n",
       "\n",
       "#sk-container-id-1 div.sk-parallel-item:only-child::after {\n",
       "  width: 0;\n",
       "}\n",
       "\n",
       "/* Serial-specific style estimator block */\n",
       "\n",
       "#sk-container-id-1 div.sk-serial {\n",
       "  display: flex;\n",
       "  flex-direction: column;\n",
       "  align-items: center;\n",
       "  background-color: var(--sklearn-color-background);\n",
       "  padding-right: 1em;\n",
       "  padding-left: 1em;\n",
       "}\n",
       "\n",
       "\n",
       "/* Toggleable style: style used for estimator/Pipeline/ColumnTransformer box that is\n",
       "clickable and can be expanded/collapsed.\n",
       "- Pipeline and ColumnTransformer use this feature and define the default style\n",
       "- Estimators will overwrite some part of the style using the `sk-estimator` class\n",
       "*/\n",
       "\n",
       "/* Pipeline and ColumnTransformer style (default) */\n",
       "\n",
       "#sk-container-id-1 div.sk-toggleable {\n",
       "  /* Default theme specific background. It is overwritten whether we have a\n",
       "  specific estimator or a Pipeline/ColumnTransformer */\n",
       "  background-color: var(--sklearn-color-background);\n",
       "}\n",
       "\n",
       "/* Toggleable label */\n",
       "#sk-container-id-1 label.sk-toggleable__label {\n",
       "  cursor: pointer;\n",
       "  display: flex;\n",
       "  width: 100%;\n",
       "  margin-bottom: 0;\n",
       "  padding: 0.5em;\n",
       "  box-sizing: border-box;\n",
       "  text-align: center;\n",
       "  align-items: start;\n",
       "  justify-content: space-between;\n",
       "  gap: 0.5em;\n",
       "}\n",
       "\n",
       "#sk-container-id-1 label.sk-toggleable__label .caption {\n",
       "  font-size: 0.6rem;\n",
       "  font-weight: lighter;\n",
       "  color: var(--sklearn-color-text-muted);\n",
       "}\n",
       "\n",
       "#sk-container-id-1 label.sk-toggleable__label-arrow:before {\n",
       "  /* Arrow on the left of the label */\n",
       "  content: \"▸\";\n",
       "  float: left;\n",
       "  margin-right: 0.25em;\n",
       "  color: var(--sklearn-color-icon);\n",
       "}\n",
       "\n",
       "#sk-container-id-1 label.sk-toggleable__label-arrow:hover:before {\n",
       "  color: var(--sklearn-color-text);\n",
       "}\n",
       "\n",
       "/* Toggleable content - dropdown */\n",
       "\n",
       "#sk-container-id-1 div.sk-toggleable__content {\n",
       "  max-height: 0;\n",
       "  max-width: 0;\n",
       "  overflow: hidden;\n",
       "  text-align: left;\n",
       "  /* unfitted */\n",
       "  background-color: var(--sklearn-color-unfitted-level-0);\n",
       "}\n",
       "\n",
       "#sk-container-id-1 div.sk-toggleable__content.fitted {\n",
       "  /* fitted */\n",
       "  background-color: var(--sklearn-color-fitted-level-0);\n",
       "}\n",
       "\n",
       "#sk-container-id-1 div.sk-toggleable__content pre {\n",
       "  margin: 0.2em;\n",
       "  border-radius: 0.25em;\n",
       "  color: var(--sklearn-color-text);\n",
       "  /* unfitted */\n",
       "  background-color: var(--sklearn-color-unfitted-level-0);\n",
       "}\n",
       "\n",
       "#sk-container-id-1 div.sk-toggleable__content.fitted pre {\n",
       "  /* unfitted */\n",
       "  background-color: var(--sklearn-color-fitted-level-0);\n",
       "}\n",
       "\n",
       "#sk-container-id-1 input.sk-toggleable__control:checked~div.sk-toggleable__content {\n",
       "  /* Expand drop-down */\n",
       "  max-height: 200px;\n",
       "  max-width: 100%;\n",
       "  overflow: auto;\n",
       "}\n",
       "\n",
       "#sk-container-id-1 input.sk-toggleable__control:checked~label.sk-toggleable__label-arrow:before {\n",
       "  content: \"▾\";\n",
       "}\n",
       "\n",
       "/* Pipeline/ColumnTransformer-specific style */\n",
       "\n",
       "#sk-container-id-1 div.sk-label input.sk-toggleable__control:checked~label.sk-toggleable__label {\n",
       "  color: var(--sklearn-color-text);\n",
       "  background-color: var(--sklearn-color-unfitted-level-2);\n",
       "}\n",
       "\n",
       "#sk-container-id-1 div.sk-label.fitted input.sk-toggleable__control:checked~label.sk-toggleable__label {\n",
       "  background-color: var(--sklearn-color-fitted-level-2);\n",
       "}\n",
       "\n",
       "/* Estimator-specific style */\n",
       "\n",
       "/* Colorize estimator box */\n",
       "#sk-container-id-1 div.sk-estimator input.sk-toggleable__control:checked~label.sk-toggleable__label {\n",
       "  /* unfitted */\n",
       "  background-color: var(--sklearn-color-unfitted-level-2);\n",
       "}\n",
       "\n",
       "#sk-container-id-1 div.sk-estimator.fitted input.sk-toggleable__control:checked~label.sk-toggleable__label {\n",
       "  /* fitted */\n",
       "  background-color: var(--sklearn-color-fitted-level-2);\n",
       "}\n",
       "\n",
       "#sk-container-id-1 div.sk-label label.sk-toggleable__label,\n",
       "#sk-container-id-1 div.sk-label label {\n",
       "  /* The background is the default theme color */\n",
       "  color: var(--sklearn-color-text-on-default-background);\n",
       "}\n",
       "\n",
       "/* On hover, darken the color of the background */\n",
       "#sk-container-id-1 div.sk-label:hover label.sk-toggleable__label {\n",
       "  color: var(--sklearn-color-text);\n",
       "  background-color: var(--sklearn-color-unfitted-level-2);\n",
       "}\n",
       "\n",
       "/* Label box, darken color on hover, fitted */\n",
       "#sk-container-id-1 div.sk-label.fitted:hover label.sk-toggleable__label.fitted {\n",
       "  color: var(--sklearn-color-text);\n",
       "  background-color: var(--sklearn-color-fitted-level-2);\n",
       "}\n",
       "\n",
       "/* Estimator label */\n",
       "\n",
       "#sk-container-id-1 div.sk-label label {\n",
       "  font-family: monospace;\n",
       "  font-weight: bold;\n",
       "  display: inline-block;\n",
       "  line-height: 1.2em;\n",
       "}\n",
       "\n",
       "#sk-container-id-1 div.sk-label-container {\n",
       "  text-align: center;\n",
       "}\n",
       "\n",
       "/* Estimator-specific */\n",
       "#sk-container-id-1 div.sk-estimator {\n",
       "  font-family: monospace;\n",
       "  border: 1px dotted var(--sklearn-color-border-box);\n",
       "  border-radius: 0.25em;\n",
       "  box-sizing: border-box;\n",
       "  margin-bottom: 0.5em;\n",
       "  /* unfitted */\n",
       "  background-color: var(--sklearn-color-unfitted-level-0);\n",
       "}\n",
       "\n",
       "#sk-container-id-1 div.sk-estimator.fitted {\n",
       "  /* fitted */\n",
       "  background-color: var(--sklearn-color-fitted-level-0);\n",
       "}\n",
       "\n",
       "/* on hover */\n",
       "#sk-container-id-1 div.sk-estimator:hover {\n",
       "  /* unfitted */\n",
       "  background-color: var(--sklearn-color-unfitted-level-2);\n",
       "}\n",
       "\n",
       "#sk-container-id-1 div.sk-estimator.fitted:hover {\n",
       "  /* fitted */\n",
       "  background-color: var(--sklearn-color-fitted-level-2);\n",
       "}\n",
       "\n",
       "/* Specification for estimator info (e.g. \"i\" and \"?\") */\n",
       "\n",
       "/* Common style for \"i\" and \"?\" */\n",
       "\n",
       ".sk-estimator-doc-link,\n",
       "a:link.sk-estimator-doc-link,\n",
       "a:visited.sk-estimator-doc-link {\n",
       "  float: right;\n",
       "  font-size: smaller;\n",
       "  line-height: 1em;\n",
       "  font-family: monospace;\n",
       "  background-color: var(--sklearn-color-background);\n",
       "  border-radius: 1em;\n",
       "  height: 1em;\n",
       "  width: 1em;\n",
       "  text-decoration: none !important;\n",
       "  margin-left: 0.5em;\n",
       "  text-align: center;\n",
       "  /* unfitted */\n",
       "  border: var(--sklearn-color-unfitted-level-1) 1pt solid;\n",
       "  color: var(--sklearn-color-unfitted-level-1);\n",
       "}\n",
       "\n",
       ".sk-estimator-doc-link.fitted,\n",
       "a:link.sk-estimator-doc-link.fitted,\n",
       "a:visited.sk-estimator-doc-link.fitted {\n",
       "  /* fitted */\n",
       "  border: var(--sklearn-color-fitted-level-1) 1pt solid;\n",
       "  color: var(--sklearn-color-fitted-level-1);\n",
       "}\n",
       "\n",
       "/* On hover */\n",
       "div.sk-estimator:hover .sk-estimator-doc-link:hover,\n",
       ".sk-estimator-doc-link:hover,\n",
       "div.sk-label-container:hover .sk-estimator-doc-link:hover,\n",
       ".sk-estimator-doc-link:hover {\n",
       "  /* unfitted */\n",
       "  background-color: var(--sklearn-color-unfitted-level-3);\n",
       "  color: var(--sklearn-color-background);\n",
       "  text-decoration: none;\n",
       "}\n",
       "\n",
       "div.sk-estimator.fitted:hover .sk-estimator-doc-link.fitted:hover,\n",
       ".sk-estimator-doc-link.fitted:hover,\n",
       "div.sk-label-container:hover .sk-estimator-doc-link.fitted:hover,\n",
       ".sk-estimator-doc-link.fitted:hover {\n",
       "  /* fitted */\n",
       "  background-color: var(--sklearn-color-fitted-level-3);\n",
       "  color: var(--sklearn-color-background);\n",
       "  text-decoration: none;\n",
       "}\n",
       "\n",
       "/* Span, style for the box shown on hovering the info icon */\n",
       ".sk-estimator-doc-link span {\n",
       "  display: none;\n",
       "  z-index: 9999;\n",
       "  position: relative;\n",
       "  font-weight: normal;\n",
       "  right: .2ex;\n",
       "  padding: .5ex;\n",
       "  margin: .5ex;\n",
       "  width: min-content;\n",
       "  min-width: 20ex;\n",
       "  max-width: 50ex;\n",
       "  color: var(--sklearn-color-text);\n",
       "  box-shadow: 2pt 2pt 4pt #999;\n",
       "  /* unfitted */\n",
       "  background: var(--sklearn-color-unfitted-level-0);\n",
       "  border: .5pt solid var(--sklearn-color-unfitted-level-3);\n",
       "}\n",
       "\n",
       ".sk-estimator-doc-link.fitted span {\n",
       "  /* fitted */\n",
       "  background: var(--sklearn-color-fitted-level-0);\n",
       "  border: var(--sklearn-color-fitted-level-3);\n",
       "}\n",
       "\n",
       ".sk-estimator-doc-link:hover span {\n",
       "  display: block;\n",
       "}\n",
       "\n",
       "/* \"?\"-specific style due to the `<a>` HTML tag */\n",
       "\n",
       "#sk-container-id-1 a.estimator_doc_link {\n",
       "  float: right;\n",
       "  font-size: 1rem;\n",
       "  line-height: 1em;\n",
       "  font-family: monospace;\n",
       "  background-color: var(--sklearn-color-background);\n",
       "  border-radius: 1rem;\n",
       "  height: 1rem;\n",
       "  width: 1rem;\n",
       "  text-decoration: none;\n",
       "  /* unfitted */\n",
       "  color: var(--sklearn-color-unfitted-level-1);\n",
       "  border: var(--sklearn-color-unfitted-level-1) 1pt solid;\n",
       "}\n",
       "\n",
       "#sk-container-id-1 a.estimator_doc_link.fitted {\n",
       "  /* fitted */\n",
       "  border: var(--sklearn-color-fitted-level-1) 1pt solid;\n",
       "  color: var(--sklearn-color-fitted-level-1);\n",
       "}\n",
       "\n",
       "/* On hover */\n",
       "#sk-container-id-1 a.estimator_doc_link:hover {\n",
       "  /* unfitted */\n",
       "  background-color: var(--sklearn-color-unfitted-level-3);\n",
       "  color: var(--sklearn-color-background);\n",
       "  text-decoration: none;\n",
       "}\n",
       "\n",
       "#sk-container-id-1 a.estimator_doc_link.fitted:hover {\n",
       "  /* fitted */\n",
       "  background-color: var(--sklearn-color-fitted-level-3);\n",
       "}\n",
       "</style><div id=\"sk-container-id-1\" class=\"sk-top-container\"><div class=\"sk-text-repr-fallback\"><pre>RFE(estimator=RandomForestClassifier(random_state=42), n_features_to_select=11)</pre><b>In a Jupyter environment, please rerun this cell to show the HTML representation or trust the notebook. <br />On GitHub, the HTML representation is unable to render, please try loading this page with nbviewer.org.</b></div><div class=\"sk-container\" hidden><div class=\"sk-item sk-dashed-wrapped\"><div class=\"sk-label-container\"><div class=\"sk-label fitted sk-toggleable\"><input class=\"sk-toggleable__control sk-hidden--visually\" id=\"sk-estimator-id-1\" type=\"checkbox\" ><label for=\"sk-estimator-id-1\" class=\"sk-toggleable__label fitted sk-toggleable__label-arrow\"><div><div>RFE</div></div><div><a class=\"sk-estimator-doc-link fitted\" rel=\"noreferrer\" target=\"_blank\" href=\"https://scikit-learn.org/1.6/modules/generated/sklearn.feature_selection.RFE.html\">?<span>Documentation for RFE</span></a><span class=\"sk-estimator-doc-link fitted\">i<span>Fitted</span></span></div></label><div class=\"sk-toggleable__content fitted\"><pre>RFE(estimator=RandomForestClassifier(random_state=42), n_features_to_select=11)</pre></div> </div></div><div class=\"sk-parallel\"><div class=\"sk-parallel-item\"><div class=\"sk-item\"><div class=\"sk-label-container\"><div class=\"sk-label fitted sk-toggleable\"><input class=\"sk-toggleable__control sk-hidden--visually\" id=\"sk-estimator-id-2\" type=\"checkbox\" ><label for=\"sk-estimator-id-2\" class=\"sk-toggleable__label fitted sk-toggleable__label-arrow\"><div><div>estimator: RandomForestClassifier</div></div></label><div class=\"sk-toggleable__content fitted\"><pre>RandomForestClassifier(random_state=42)</pre></div> </div></div><div class=\"sk-serial\"><div class=\"sk-item\"><div class=\"sk-estimator fitted sk-toggleable\"><input class=\"sk-toggleable__control sk-hidden--visually\" id=\"sk-estimator-id-3\" type=\"checkbox\" ><label for=\"sk-estimator-id-3\" class=\"sk-toggleable__label fitted sk-toggleable__label-arrow\"><div><div>RandomForestClassifier</div></div><div><a class=\"sk-estimator-doc-link fitted\" rel=\"noreferrer\" target=\"_blank\" href=\"https://scikit-learn.org/1.6/modules/generated/sklearn.ensemble.RandomForestClassifier.html\">?<span>Documentation for RandomForestClassifier</span></a></div></label><div class=\"sk-toggleable__content fitted\"><pre>RandomForestClassifier(random_state=42)</pre></div> </div></div></div></div></div></div></div></div></div>"
      ],
      "text/plain": [
       "RFE(estimator=RandomForestClassifier(random_state=42), n_features_to_select=11)"
      ]
     },
     "execution_count": 78,
     "metadata": {},
     "output_type": "execute_result"
    }
   ],
   "source": [
    "model=RandomForestClassifier(random_state=42)\n",
    "rfe=RFE(model,n_features_to_select=11)\n",
    "rfe.fit(x,y)"
   ]
  },
  {
   "cell_type": "code",
   "execution_count": 79,
   "id": "89be8e5b",
   "metadata": {},
   "outputs": [
    {
     "data": {
      "text/plain": [
       "array([False, False, False,  True, False,  True,  True,  True,  True,\n",
       "        True,  True,  True, False,  True, False,  True,  True, False,\n",
       "       False, False, False])"
      ]
     },
     "execution_count": 79,
     "metadata": {},
     "output_type": "execute_result"
    }
   ],
   "source": [
    "rfe.get_support()"
   ]
  },
  {
   "cell_type": "code",
   "execution_count": 80,
   "id": "f56f9456",
   "metadata": {},
   "outputs": [
    {
     "data": {
      "text/plain": [
       "Index(['Annual_Income', 'Num_Bank_Accounts', 'Num_Credit_Card',\n",
       "       'Interest_Rate', 'Num_of_Loan', 'Delay_from_due_date',\n",
       "       'Num_of_Delayed_Payment', 'Changed_Credit_Limit', 'Outstanding_Debt',\n",
       "       'Credit_History_Age', 'Payment_of_Min_Amount'],\n",
       "      dtype='object')"
      ]
     },
     "execution_count": 80,
     "metadata": {},
     "output_type": "execute_result"
    }
   ],
   "source": [
    "x.columns[rfe.get_support()]"
   ]
  },
  {
   "cell_type": "code",
   "execution_count": 81,
   "id": "61e21215",
   "metadata": {},
   "outputs": [],
   "source": [
    "x=df[x.columns[rfe.get_support()]]"
   ]
  },
  {
   "cell_type": "code",
   "execution_count": 82,
   "id": "a9de77c9",
   "metadata": {},
   "outputs": [],
   "source": [
    "# bad -0\n",
    "# standard -1\n",
    "# good -2\n",
    "\n",
    "# no -0\n",
    "# yes -1"
   ]
  },
  {
   "cell_type": "code",
   "execution_count": 83,
   "id": "0782f9b2",
   "metadata": {},
   "outputs": [],
   "source": [
    "z=x.copy()\n",
    "z['credit_mix']=y\n"
   ]
  },
  {
   "cell_type": "code",
   "execution_count": 84,
   "id": "3772a2c3",
   "metadata": {},
   "outputs": [
    {
     "data": {
      "text/html": [
       "<div>\n",
       "<style scoped>\n",
       "    .dataframe tbody tr th:only-of-type {\n",
       "        vertical-align: middle;\n",
       "    }\n",
       "\n",
       "    .dataframe tbody tr th {\n",
       "        vertical-align: top;\n",
       "    }\n",
       "\n",
       "    .dataframe thead th {\n",
       "        text-align: right;\n",
       "    }\n",
       "</style>\n",
       "<table border=\"1\" class=\"dataframe\">\n",
       "  <thead>\n",
       "    <tr style=\"text-align: right;\">\n",
       "      <th></th>\n",
       "      <th>Annual_Income</th>\n",
       "      <th>Num_Bank_Accounts</th>\n",
       "      <th>Num_Credit_Card</th>\n",
       "      <th>Interest_Rate</th>\n",
       "      <th>Num_of_Loan</th>\n",
       "      <th>Delay_from_due_date</th>\n",
       "      <th>Num_of_Delayed_Payment</th>\n",
       "      <th>Changed_Credit_Limit</th>\n",
       "      <th>Outstanding_Debt</th>\n",
       "      <th>Credit_History_Age</th>\n",
       "      <th>Payment_of_Min_Amount</th>\n",
       "      <th>credit_mix</th>\n",
       "    </tr>\n",
       "  </thead>\n",
       "  <tbody>\n",
       "    <tr>\n",
       "      <th>1</th>\n",
       "      <td>19114.12</td>\n",
       "      <td>3</td>\n",
       "      <td>4</td>\n",
       "      <td>3</td>\n",
       "      <td>4.0</td>\n",
       "      <td>3</td>\n",
       "      <td>9.0</td>\n",
       "      <td>13.27</td>\n",
       "      <td>809.98</td>\n",
       "      <td>274</td>\n",
       "      <td>0</td>\n",
       "      <td>2.0</td>\n",
       "    </tr>\n",
       "    <tr>\n",
       "      <th>5</th>\n",
       "      <td>34847.84</td>\n",
       "      <td>2</td>\n",
       "      <td>4</td>\n",
       "      <td>6</td>\n",
       "      <td>1.0</td>\n",
       "      <td>3</td>\n",
       "      <td>3.0</td>\n",
       "      <td>5.42</td>\n",
       "      <td>605.03</td>\n",
       "      <td>328</td>\n",
       "      <td>0</td>\n",
       "      <td>2.0</td>\n",
       "    </tr>\n",
       "    <tr>\n",
       "      <th>9</th>\n",
       "      <td>143162.64</td>\n",
       "      <td>1</td>\n",
       "      <td>5</td>\n",
       "      <td>8</td>\n",
       "      <td>3.0</td>\n",
       "      <td>6</td>\n",
       "      <td>3.0</td>\n",
       "      <td>2.10</td>\n",
       "      <td>1303.01</td>\n",
       "      <td>222</td>\n",
       "      <td>0</td>\n",
       "      <td>2.0</td>\n",
       "    </tr>\n",
       "    <tr>\n",
       "      <th>12</th>\n",
       "      <td>30689.89</td>\n",
       "      <td>2</td>\n",
       "      <td>5</td>\n",
       "      <td>4</td>\n",
       "      <td>1.0</td>\n",
       "      <td>5</td>\n",
       "      <td>6.0</td>\n",
       "      <td>1.99</td>\n",
       "      <td>632.46</td>\n",
       "      <td>215</td>\n",
       "      <td>0</td>\n",
       "      <td>2.0</td>\n",
       "    </tr>\n",
       "    <tr>\n",
       "      <th>14</th>\n",
       "      <td>30689.89</td>\n",
       "      <td>2</td>\n",
       "      <td>5</td>\n",
       "      <td>4</td>\n",
       "      <td>1.0</td>\n",
       "      <td>5</td>\n",
       "      <td>6.0</td>\n",
       "      <td>1.99</td>\n",
       "      <td>632.46</td>\n",
       "      <td>217</td>\n",
       "      <td>0</td>\n",
       "      <td>2.0</td>\n",
       "    </tr>\n",
       "    <tr>\n",
       "      <th>...</th>\n",
       "      <td>...</td>\n",
       "      <td>...</td>\n",
       "      <td>...</td>\n",
       "      <td>...</td>\n",
       "      <td>...</td>\n",
       "      <td>...</td>\n",
       "      <td>...</td>\n",
       "      <td>...</td>\n",
       "      <td>...</td>\n",
       "      <td>...</td>\n",
       "      <td>...</td>\n",
       "      <td>...</td>\n",
       "    </tr>\n",
       "    <tr>\n",
       "      <th>49951</th>\n",
       "      <td>41329.56</td>\n",
       "      <td>2</td>\n",
       "      <td>3</td>\n",
       "      <td>7</td>\n",
       "      <td>1.0</td>\n",
       "      <td>2</td>\n",
       "      <td>10.0</td>\n",
       "      <td>13.66</td>\n",
       "      <td>1245.01</td>\n",
       "      <td>290</td>\n",
       "      <td>0</td>\n",
       "      <td>2.0</td>\n",
       "    </tr>\n",
       "    <tr>\n",
       "      <th>49956</th>\n",
       "      <td>20059.98</td>\n",
       "      <td>8</td>\n",
       "      <td>5</td>\n",
       "      <td>12</td>\n",
       "      <td>4.0</td>\n",
       "      <td>25</td>\n",
       "      <td>11.0</td>\n",
       "      <td>2.97</td>\n",
       "      <td>909.01</td>\n",
       "      <td>203</td>\n",
       "      <td>0</td>\n",
       "      <td>2.0</td>\n",
       "    </tr>\n",
       "    <tr>\n",
       "      <th>49957</th>\n",
       "      <td>20059.98</td>\n",
       "      <td>8</td>\n",
       "      <td>5</td>\n",
       "      <td>12</td>\n",
       "      <td>4.0</td>\n",
       "      <td>25</td>\n",
       "      <td>14.0</td>\n",
       "      <td>2.97</td>\n",
       "      <td>909.01</td>\n",
       "      <td>204</td>\n",
       "      <td>0</td>\n",
       "      <td>2.0</td>\n",
       "    </tr>\n",
       "    <tr>\n",
       "      <th>49976</th>\n",
       "      <td>38321.39</td>\n",
       "      <td>4</td>\n",
       "      <td>4</td>\n",
       "      <td>3</td>\n",
       "      <td>4.0</td>\n",
       "      <td>11</td>\n",
       "      <td>7.0</td>\n",
       "      <td>1.59</td>\n",
       "      <td>678.57</td>\n",
       "      <td>211</td>\n",
       "      <td>0</td>\n",
       "      <td>2.0</td>\n",
       "    </tr>\n",
       "    <tr>\n",
       "      <th>49997</th>\n",
       "      <td>39628.99</td>\n",
       "      <td>4</td>\n",
       "      <td>6</td>\n",
       "      <td>7</td>\n",
       "      <td>2.0</td>\n",
       "      <td>23</td>\n",
       "      <td>5.0</td>\n",
       "      <td>13.50</td>\n",
       "      <td>502.38</td>\n",
       "      <td>384</td>\n",
       "      <td>0</td>\n",
       "      <td>2.0</td>\n",
       "    </tr>\n",
       "  </tbody>\n",
       "</table>\n",
       "<p>2723 rows × 12 columns</p>\n",
       "</div>"
      ],
      "text/plain": [
       "       Annual_Income  Num_Bank_Accounts  Num_Credit_Card  Interest_Rate  \\\n",
       "1           19114.12                  3                4              3   \n",
       "5           34847.84                  2                4              6   \n",
       "9          143162.64                  1                5              8   \n",
       "12          30689.89                  2                5              4   \n",
       "14          30689.89                  2                5              4   \n",
       "...              ...                ...              ...            ...   \n",
       "49951       41329.56                  2                3              7   \n",
       "49956       20059.98                  8                5             12   \n",
       "49957       20059.98                  8                5             12   \n",
       "49976       38321.39                  4                4              3   \n",
       "49997       39628.99                  4                6              7   \n",
       "\n",
       "       Num_of_Loan  Delay_from_due_date  Num_of_Delayed_Payment  \\\n",
       "1              4.0                    3                     9.0   \n",
       "5              1.0                    3                     3.0   \n",
       "9              3.0                    6                     3.0   \n",
       "12             1.0                    5                     6.0   \n",
       "14             1.0                    5                     6.0   \n",
       "...            ...                  ...                     ...   \n",
       "49951          1.0                    2                    10.0   \n",
       "49956          4.0                   25                    11.0   \n",
       "49957          4.0                   25                    14.0   \n",
       "49976          4.0                   11                     7.0   \n",
       "49997          2.0                   23                     5.0   \n",
       "\n",
       "       Changed_Credit_Limit  Outstanding_Debt  Credit_History_Age  \\\n",
       "1                     13.27            809.98                 274   \n",
       "5                      5.42            605.03                 328   \n",
       "9                      2.10           1303.01                 222   \n",
       "12                     1.99            632.46                 215   \n",
       "14                     1.99            632.46                 217   \n",
       "...                     ...               ...                 ...   \n",
       "49951                 13.66           1245.01                 290   \n",
       "49956                  2.97            909.01                 203   \n",
       "49957                  2.97            909.01                 204   \n",
       "49976                  1.59            678.57                 211   \n",
       "49997                 13.50            502.38                 384   \n",
       "\n",
       "       Payment_of_Min_Amount  credit_mix  \n",
       "1                          0         2.0  \n",
       "5                          0         2.0  \n",
       "9                          0         2.0  \n",
       "12                         0         2.0  \n",
       "14                         0         2.0  \n",
       "...                      ...         ...  \n",
       "49951                      0         2.0  \n",
       "49956                      0         2.0  \n",
       "49957                      0         2.0  \n",
       "49976                      0         2.0  \n",
       "49997                      0         2.0  \n",
       "\n",
       "[2723 rows x 12 columns]"
      ]
     },
     "execution_count": 84,
     "metadata": {},
     "output_type": "execute_result"
    }
   ],
   "source": [
    "z[(z['credit_mix']==2)]"
   ]
  },
  {
   "cell_type": "code",
   "execution_count": 85,
   "id": "0ba5664d",
   "metadata": {},
   "outputs": [],
   "source": [
    "minmax=MinMaxScaler()\n",
    "x_scaled=minmax.fit_transform(x)"
   ]
  },
  {
   "cell_type": "code",
   "execution_count": 86,
   "id": "5336c092",
   "metadata": {},
   "outputs": [],
   "source": [
    "x_train,x_test,y_train,y_test=train_test_split(x_scaled,y,test_size=0.3,random_state=42)"
   ]
  },
  {
   "cell_type": "code",
   "execution_count": 87,
   "id": "c81698c0",
   "metadata": {},
   "outputs": [
    {
     "name": "stdout",
     "output_type": "stream",
     "text": [
      "Train data-KNeighborsClassifier: 95.72376214167258\n",
      "Test data-KNeighborsClassifier: 93.20066334991708\n",
      "\n",
      "Train data-SVC: 93.63894811656006\n",
      "Test data-SVC: 93.36650082918739\n",
      "\n",
      "Train data-MultinomialNB: 69.08315565031982\n",
      "Test data-MultinomialNB: 70.39800995024875\n",
      "\n",
      "Train data-DecisionTreeClassifier: 100.0\n",
      "Test data-DecisionTreeClassifier: 93.80873410724156\n",
      "\n",
      "Train data-RandomForestClassifier: 100.0\n",
      "Test data-RandomForestClassifier: 96.37921503593145\n",
      "\n",
      "Train data-GradientBoostingClassifier: 96.00805496327884\n",
      "Test data-GradientBoostingClassifier: 94.7208402432283\n",
      "\n",
      "Train data-AdaBoostClassifier: 84.9680170575693\n",
      "Test data-AdaBoostClassifier: 84.5771144278607\n",
      "\n",
      "Train data-XGBClassifier: 100.0\n",
      "Test data-XGBClassifier: 96.18573797678275\n",
      "\n"
     ]
    }
   ],
   "source": [
    "models=[KNeighborsClassifier(),SVC(),MultinomialNB(),DecisionTreeClassifier(random_state=42),RandomForestClassifier(random_state=42),GradientBoostingClassifier(random_state=42),AdaBoostClassifier(random_state=42),XGBClassifier(random_state=42)]\n",
    "for model in models:\n",
    "  model.fit(x_train,y_train)\n",
    "  y_pred=model.predict(x_test)\n",
    "  print(f'Train data-{str(model).split('(')[0]}:',model.score(x_train,y_train)*100)\n",
    "  print(f'Test data-{str(model).split('(')[0]}:',accuracy_score(y_test,y_pred)*100)\n",
    "  print()"
   ]
  },
  {
   "cell_type": "markdown",
   "id": "6dd44d03",
   "metadata": {},
   "source": [
    "Hyper parameter tuning in RandomForestClassifier"
   ]
  },
  {
   "cell_type": "code",
   "execution_count": 88,
   "id": "b4188c17",
   "metadata": {},
   "outputs": [
    {
     "data": {
      "text/plain": [
       "96.37921503593145"
      ]
     },
     "execution_count": 88,
     "metadata": {},
     "output_type": "execute_result"
    }
   ],
   "source": [
    "forest=RandomForestClassifier(random_state=42)\n",
    "forest.fit(x_train,y_train)\n",
    "y_pred=forest.predict(x_test)\n",
    "accuracy_score(y_test,y_pred)*100"
   ]
  },
  {
   "cell_type": "code",
   "execution_count": 89,
   "id": "29f7e6af",
   "metadata": {},
   "outputs": [
    {
     "data": {
      "text/plain": [
       "100.0"
      ]
     },
     "execution_count": 89,
     "metadata": {},
     "output_type": "execute_result"
    }
   ],
   "source": [
    "forest.score(x_train,y_train)*100"
   ]
  },
  {
   "cell_type": "code",
   "execution_count": 90,
   "id": "1e3d0796",
   "metadata": {},
   "outputs": [],
   "source": [
    "# params={'n_estimators':[50,100,150],'criterion':['gini','entropy','log_loss'],'max_depth':[7,8,9],'max_features':['sqrt','log2'],'random_state':[23,42]}\n",
    "# clf=GridSearchCV(forest,params,cv=9,scoring='accuracy')\n",
    "# clf.fit(x_train,y_train)"
   ]
  },
  {
   "cell_type": "code",
   "execution_count": 91,
   "id": "8b4d41a9",
   "metadata": {},
   "outputs": [],
   "source": [
    "# y_pred=clf.predict(x_test)\n",
    "# print(\"Accuracy_score:\",accuracy_score(y_test,y_pred)*100)"
   ]
  },
  {
   "cell_type": "markdown",
   "id": "f2738117",
   "metadata": {},
   "source": [
    "pickling"
   ]
  },
  {
   "cell_type": "code",
   "execution_count": 92,
   "id": "724e1d70",
   "metadata": {},
   "outputs": [],
   "source": [
    "dict1={'model':forest,'output':credit_mix,'Payment_of_Min_Amount':Payment_of_Min_Amount,'scaler':minmax}\n",
    "with open('credit.pkl','wb') as obj1:\n",
    "  pickle.dump(dict1,obj1)"
   ]
  },
  {
   "cell_type": "code",
   "execution_count": 93,
   "id": "5727fb98",
   "metadata": {},
   "outputs": [
    {
     "data": {
      "text/plain": [
       "1        2.0\n",
       "5        2.0\n",
       "9        2.0\n",
       "12       2.0\n",
       "14       2.0\n",
       "        ... \n",
       "49966    0.0\n",
       "49976    2.0\n",
       "49992    0.0\n",
       "49993    0.0\n",
       "49997    2.0\n",
       "Name: Credit_Mix, Length: 12060, dtype: float64"
      ]
     },
     "execution_count": 93,
     "metadata": {},
     "output_type": "execute_result"
    }
   ],
   "source": [
    "y"
   ]
  },
  {
   "cell_type": "code",
   "execution_count": 94,
   "id": "27293f2c",
   "metadata": {},
   "outputs": [
    {
     "data": {
      "text/plain": [
       "1        2.0\n",
       "5        2.0\n",
       "9        2.0\n",
       "12       2.0\n",
       "14       2.0\n",
       "        ... \n",
       "49966    0.0\n",
       "49976    2.0\n",
       "49992    0.0\n",
       "49993    0.0\n",
       "49997    2.0\n",
       "Name: Credit_Mix, Length: 12060, dtype: float64"
      ]
     },
     "execution_count": 94,
     "metadata": {},
     "output_type": "execute_result"
    }
   ],
   "source": [
    "y"
   ]
  },
  {
   "cell_type": "code",
   "execution_count": 95,
   "id": "996a489c",
   "metadata": {},
   "outputs": [
    {
     "data": {
      "text/html": [
       "<div>\n",
       "<style scoped>\n",
       "    .dataframe tbody tr th:only-of-type {\n",
       "        vertical-align: middle;\n",
       "    }\n",
       "\n",
       "    .dataframe tbody tr th {\n",
       "        vertical-align: top;\n",
       "    }\n",
       "\n",
       "    .dataframe thead th {\n",
       "        text-align: right;\n",
       "    }\n",
       "</style>\n",
       "<table border=\"1\" class=\"dataframe\">\n",
       "  <thead>\n",
       "    <tr style=\"text-align: right;\">\n",
       "      <th></th>\n",
       "      <th>Annual_Income</th>\n",
       "      <th>Num_Bank_Accounts</th>\n",
       "      <th>Num_Credit_Card</th>\n",
       "      <th>Interest_Rate</th>\n",
       "      <th>Num_of_Loan</th>\n",
       "      <th>Delay_from_due_date</th>\n",
       "      <th>Num_of_Delayed_Payment</th>\n",
       "      <th>Changed_Credit_Limit</th>\n",
       "      <th>Outstanding_Debt</th>\n",
       "      <th>Credit_History_Age</th>\n",
       "      <th>Payment_of_Min_Amount</th>\n",
       "    </tr>\n",
       "  </thead>\n",
       "  <tbody>\n",
       "    <tr>\n",
       "      <th>1</th>\n",
       "      <td>19114.12</td>\n",
       "      <td>3</td>\n",
       "      <td>4</td>\n",
       "      <td>3</td>\n",
       "      <td>4.0</td>\n",
       "      <td>3</td>\n",
       "      <td>9.0</td>\n",
       "      <td>13.27</td>\n",
       "      <td>809.98</td>\n",
       "      <td>274</td>\n",
       "      <td>0</td>\n",
       "    </tr>\n",
       "    <tr>\n",
       "      <th>5</th>\n",
       "      <td>34847.84</td>\n",
       "      <td>2</td>\n",
       "      <td>4</td>\n",
       "      <td>6</td>\n",
       "      <td>1.0</td>\n",
       "      <td>3</td>\n",
       "      <td>3.0</td>\n",
       "      <td>5.42</td>\n",
       "      <td>605.03</td>\n",
       "      <td>328</td>\n",
       "      <td>0</td>\n",
       "    </tr>\n",
       "    <tr>\n",
       "      <th>9</th>\n",
       "      <td>143162.64</td>\n",
       "      <td>1</td>\n",
       "      <td>5</td>\n",
       "      <td>8</td>\n",
       "      <td>3.0</td>\n",
       "      <td>6</td>\n",
       "      <td>3.0</td>\n",
       "      <td>2.10</td>\n",
       "      <td>1303.01</td>\n",
       "      <td>222</td>\n",
       "      <td>0</td>\n",
       "    </tr>\n",
       "    <tr>\n",
       "      <th>12</th>\n",
       "      <td>30689.89</td>\n",
       "      <td>2</td>\n",
       "      <td>5</td>\n",
       "      <td>4</td>\n",
       "      <td>1.0</td>\n",
       "      <td>5</td>\n",
       "      <td>6.0</td>\n",
       "      <td>1.99</td>\n",
       "      <td>632.46</td>\n",
       "      <td>215</td>\n",
       "      <td>0</td>\n",
       "    </tr>\n",
       "    <tr>\n",
       "      <th>14</th>\n",
       "      <td>30689.89</td>\n",
       "      <td>2</td>\n",
       "      <td>5</td>\n",
       "      <td>4</td>\n",
       "      <td>1.0</td>\n",
       "      <td>5</td>\n",
       "      <td>6.0</td>\n",
       "      <td>1.99</td>\n",
       "      <td>632.46</td>\n",
       "      <td>217</td>\n",
       "      <td>0</td>\n",
       "    </tr>\n",
       "    <tr>\n",
       "      <th>...</th>\n",
       "      <td>...</td>\n",
       "      <td>...</td>\n",
       "      <td>...</td>\n",
       "      <td>...</td>\n",
       "      <td>...</td>\n",
       "      <td>...</td>\n",
       "      <td>...</td>\n",
       "      <td>...</td>\n",
       "      <td>...</td>\n",
       "      <td>...</td>\n",
       "      <td>...</td>\n",
       "    </tr>\n",
       "    <tr>\n",
       "      <th>49966</th>\n",
       "      <td>15319.65</td>\n",
       "      <td>6</td>\n",
       "      <td>7</td>\n",
       "      <td>15</td>\n",
       "      <td>4.0</td>\n",
       "      <td>53</td>\n",
       "      <td>16.0</td>\n",
       "      <td>17.13</td>\n",
       "      <td>1453.61</td>\n",
       "      <td>139</td>\n",
       "      <td>1</td>\n",
       "    </tr>\n",
       "    <tr>\n",
       "      <th>49976</th>\n",
       "      <td>38321.39</td>\n",
       "      <td>4</td>\n",
       "      <td>4</td>\n",
       "      <td>3</td>\n",
       "      <td>4.0</td>\n",
       "      <td>11</td>\n",
       "      <td>7.0</td>\n",
       "      <td>1.59</td>\n",
       "      <td>678.57</td>\n",
       "      <td>211</td>\n",
       "      <td>0</td>\n",
       "    </tr>\n",
       "    <tr>\n",
       "      <th>49992</th>\n",
       "      <td>20002.88</td>\n",
       "      <td>10</td>\n",
       "      <td>8</td>\n",
       "      <td>29</td>\n",
       "      <td>5.0</td>\n",
       "      <td>33</td>\n",
       "      <td>25.0</td>\n",
       "      <td>18.31</td>\n",
       "      <td>3571.70</td>\n",
       "      <td>76</td>\n",
       "      <td>1</td>\n",
       "    </tr>\n",
       "    <tr>\n",
       "      <th>49993</th>\n",
       "      <td>20002.88</td>\n",
       "      <td>10</td>\n",
       "      <td>8</td>\n",
       "      <td>29</td>\n",
       "      <td>5.0</td>\n",
       "      <td>33</td>\n",
       "      <td>25.0</td>\n",
       "      <td>18.31</td>\n",
       "      <td>3571.70</td>\n",
       "      <td>77</td>\n",
       "      <td>1</td>\n",
       "    </tr>\n",
       "    <tr>\n",
       "      <th>49997</th>\n",
       "      <td>39628.99</td>\n",
       "      <td>4</td>\n",
       "      <td>6</td>\n",
       "      <td>7</td>\n",
       "      <td>2.0</td>\n",
       "      <td>23</td>\n",
       "      <td>5.0</td>\n",
       "      <td>13.50</td>\n",
       "      <td>502.38</td>\n",
       "      <td>384</td>\n",
       "      <td>0</td>\n",
       "    </tr>\n",
       "  </tbody>\n",
       "</table>\n",
       "<p>12060 rows × 11 columns</p>\n",
       "</div>"
      ],
      "text/plain": [
       "       Annual_Income  Num_Bank_Accounts  Num_Credit_Card  Interest_Rate  \\\n",
       "1           19114.12                  3                4              3   \n",
       "5           34847.84                  2                4              6   \n",
       "9          143162.64                  1                5              8   \n",
       "12          30689.89                  2                5              4   \n",
       "14          30689.89                  2                5              4   \n",
       "...              ...                ...              ...            ...   \n",
       "49966       15319.65                  6                7             15   \n",
       "49976       38321.39                  4                4              3   \n",
       "49992       20002.88                 10                8             29   \n",
       "49993       20002.88                 10                8             29   \n",
       "49997       39628.99                  4                6              7   \n",
       "\n",
       "       Num_of_Loan  Delay_from_due_date  Num_of_Delayed_Payment  \\\n",
       "1              4.0                    3                     9.0   \n",
       "5              1.0                    3                     3.0   \n",
       "9              3.0                    6                     3.0   \n",
       "12             1.0                    5                     6.0   \n",
       "14             1.0                    5                     6.0   \n",
       "...            ...                  ...                     ...   \n",
       "49966          4.0                   53                    16.0   \n",
       "49976          4.0                   11                     7.0   \n",
       "49992          5.0                   33                    25.0   \n",
       "49993          5.0                   33                    25.0   \n",
       "49997          2.0                   23                     5.0   \n",
       "\n",
       "       Changed_Credit_Limit  Outstanding_Debt  Credit_History_Age  \\\n",
       "1                     13.27            809.98                 274   \n",
       "5                      5.42            605.03                 328   \n",
       "9                      2.10           1303.01                 222   \n",
       "12                     1.99            632.46                 215   \n",
       "14                     1.99            632.46                 217   \n",
       "...                     ...               ...                 ...   \n",
       "49966                 17.13           1453.61                 139   \n",
       "49976                  1.59            678.57                 211   \n",
       "49992                 18.31           3571.70                  76   \n",
       "49993                 18.31           3571.70                  77   \n",
       "49997                 13.50            502.38                 384   \n",
       "\n",
       "       Payment_of_Min_Amount  \n",
       "1                          0  \n",
       "5                          0  \n",
       "9                          0  \n",
       "12                         0  \n",
       "14                         0  \n",
       "...                      ...  \n",
       "49966                      1  \n",
       "49976                      0  \n",
       "49992                      1  \n",
       "49993                      1  \n",
       "49997                      0  \n",
       "\n",
       "[12060 rows x 11 columns]"
      ]
     },
     "execution_count": 95,
     "metadata": {},
     "output_type": "execute_result"
    }
   ],
   "source": [
    "x"
   ]
  },
  {
   "cell_type": "code",
   "execution_count": 96,
   "id": "80abdf12",
   "metadata": {},
   "outputs": [
    {
     "data": {
      "text/plain": [
       "1        2.0\n",
       "5        2.0\n",
       "9        2.0\n",
       "12       2.0\n",
       "14       2.0\n",
       "        ... \n",
       "49966    0.0\n",
       "49976    2.0\n",
       "49992    0.0\n",
       "49993    0.0\n",
       "49997    2.0\n",
       "Name: Credit_Mix, Length: 12060, dtype: float64"
      ]
     },
     "execution_count": 96,
     "metadata": {},
     "output_type": "execute_result"
    }
   ],
   "source": [
    "y"
   ]
  }
 ],
 "metadata": {
  "kernelspec": {
   "display_name": "Python 3",
   "language": "python",
   "name": "python3"
  },
  "language_info": {
   "codemirror_mode": {
    "name": "ipython",
    "version": 3
   },
   "file_extension": ".py",
   "mimetype": "text/x-python",
   "name": "python",
   "nbconvert_exporter": "python",
   "pygments_lexer": "ipython3",
   "version": "3.12.1"
  }
 },
 "nbformat": 4,
 "nbformat_minor": 5
}
